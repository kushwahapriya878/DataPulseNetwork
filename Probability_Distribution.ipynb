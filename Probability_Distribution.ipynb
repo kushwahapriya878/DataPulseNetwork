{
  "cells": [
    {
      "cell_type": "markdown",
      "metadata": {
        "id": "view-in-github",
        "colab_type": "text"
      },
      "source": [
        "<a href=\"https://colab.research.google.com/github/kushwahapriya878/DataPulseNetwork/blob/main/Probability_Distribution.ipynb\" target=\"_parent\"><img src=\"https://colab.research.google.com/assets/colab-badge.svg\" alt=\"Open In Colab\"/></a>"
      ]
    },
    {
      "cell_type": "code",
      "execution_count": null,
      "metadata": {
        "id": "fFFocHOeuFGN"
      },
      "outputs": [],
      "source": [
        "import numpy as np\n",
        "import pandas as pd\n",
        "import matplotlib.pyplot as plt\n",
        "import seaborn as sns"
      ]
    },
    {
      "cell_type": "code",
      "execution_count": null,
      "metadata": {
        "colab": {
          "base_uri": "https://localhost:8080/",
          "height": 206
        },
        "id": "TR79BtZa6sim",
        "outputId": "dd302954-8e25-429f-eca0-58018d9b5baa"
      },
      "outputs": [
        {
          "data": {
            "application/vnd.google.colaboratory.intrinsic+json": {
              "summary": "{\n  \"name\": \"df_wh\",\n  \"rows\": 10000,\n  \"fields\": [\n    {\n      \"column\": \"Gender\",\n      \"properties\": {\n        \"dtype\": \"category\",\n        \"num_unique_values\": 2,\n        \"samples\": [\n          \"Female\",\n          \"Male\"\n        ],\n        \"semantic_type\": \"\",\n        \"description\": \"\"\n      }\n    },\n    {\n      \"column\": \"Height\",\n      \"properties\": {\n        \"dtype\": \"number\",\n        \"std\": 3.8475281207732293,\n        \"min\": 54.2631333250971,\n        \"max\": 78.9987423463896,\n        \"num_unique_values\": 10000,\n        \"samples\": [\n          68.6872321923365,\n          68.8293337723017\n        ],\n        \"semantic_type\": \"\",\n        \"description\": \"\"\n      }\n    },\n    {\n      \"column\": \"Weight\",\n      \"properties\": {\n        \"dtype\": \"number\",\n        \"std\": 32.108439006519596,\n        \"min\": 64.700126712753,\n        \"max\": 269.989698505106,\n        \"num_unique_values\": 10000,\n        \"samples\": [\n          173.115812588004,\n          195.162042097346\n        ],\n        \"semantic_type\": \"\",\n        \"description\": \"\"\n      }\n    }\n  ]\n}",
              "type": "dataframe",
              "variable_name": "df_wh"
            },
            "text/html": [
              "\n",
              "  <div id=\"df-88fac582-6fb1-4b79-a3e3-773530daac98\" class=\"colab-df-container\">\n",
              "    <div>\n",
              "<style scoped>\n",
              "    .dataframe tbody tr th:only-of-type {\n",
              "        vertical-align: middle;\n",
              "    }\n",
              "\n",
              "    .dataframe tbody tr th {\n",
              "        vertical-align: top;\n",
              "    }\n",
              "\n",
              "    .dataframe thead th {\n",
              "        text-align: right;\n",
              "    }\n",
              "</style>\n",
              "<table border=\"1\" class=\"dataframe\">\n",
              "  <thead>\n",
              "    <tr style=\"text-align: right;\">\n",
              "      <th></th>\n",
              "      <th>Gender</th>\n",
              "      <th>Height</th>\n",
              "      <th>Weight</th>\n",
              "    </tr>\n",
              "  </thead>\n",
              "  <tbody>\n",
              "    <tr>\n",
              "      <th>0</th>\n",
              "      <td>Male</td>\n",
              "      <td>73.847017</td>\n",
              "      <td>241.893563</td>\n",
              "    </tr>\n",
              "    <tr>\n",
              "      <th>1</th>\n",
              "      <td>Male</td>\n",
              "      <td>68.781904</td>\n",
              "      <td>162.310473</td>\n",
              "    </tr>\n",
              "    <tr>\n",
              "      <th>2</th>\n",
              "      <td>Male</td>\n",
              "      <td>74.110105</td>\n",
              "      <td>212.740856</td>\n",
              "    </tr>\n",
              "    <tr>\n",
              "      <th>3</th>\n",
              "      <td>Male</td>\n",
              "      <td>71.730978</td>\n",
              "      <td>220.042470</td>\n",
              "    </tr>\n",
              "    <tr>\n",
              "      <th>4</th>\n",
              "      <td>Male</td>\n",
              "      <td>69.881796</td>\n",
              "      <td>206.349801</td>\n",
              "    </tr>\n",
              "  </tbody>\n",
              "</table>\n",
              "</div>\n",
              "    <div class=\"colab-df-buttons\">\n",
              "\n",
              "  <div class=\"colab-df-container\">\n",
              "    <button class=\"colab-df-convert\" onclick=\"convertToInteractive('df-88fac582-6fb1-4b79-a3e3-773530daac98')\"\n",
              "            title=\"Convert this dataframe to an interactive table.\"\n",
              "            style=\"display:none;\">\n",
              "\n",
              "  <svg xmlns=\"http://www.w3.org/2000/svg\" height=\"24px\" viewBox=\"0 -960 960 960\">\n",
              "    <path d=\"M120-120v-720h720v720H120Zm60-500h600v-160H180v160Zm220 220h160v-160H400v160Zm0 220h160v-160H400v160ZM180-400h160v-160H180v160Zm440 0h160v-160H620v160ZM180-180h160v-160H180v160Zm440 0h160v-160H620v160Z\"/>\n",
              "  </svg>\n",
              "    </button>\n",
              "\n",
              "  <style>\n",
              "    .colab-df-container {\n",
              "      display:flex;\n",
              "      gap: 12px;\n",
              "    }\n",
              "\n",
              "    .colab-df-convert {\n",
              "      background-color: #E8F0FE;\n",
              "      border: none;\n",
              "      border-radius: 50%;\n",
              "      cursor: pointer;\n",
              "      display: none;\n",
              "      fill: #1967D2;\n",
              "      height: 32px;\n",
              "      padding: 0 0 0 0;\n",
              "      width: 32px;\n",
              "    }\n",
              "\n",
              "    .colab-df-convert:hover {\n",
              "      background-color: #E2EBFA;\n",
              "      box-shadow: 0px 1px 2px rgba(60, 64, 67, 0.3), 0px 1px 3px 1px rgba(60, 64, 67, 0.15);\n",
              "      fill: #174EA6;\n",
              "    }\n",
              "\n",
              "    .colab-df-buttons div {\n",
              "      margin-bottom: 4px;\n",
              "    }\n",
              "\n",
              "    [theme=dark] .colab-df-convert {\n",
              "      background-color: #3B4455;\n",
              "      fill: #D2E3FC;\n",
              "    }\n",
              "\n",
              "    [theme=dark] .colab-df-convert:hover {\n",
              "      background-color: #434B5C;\n",
              "      box-shadow: 0px 1px 3px 1px rgba(0, 0, 0, 0.15);\n",
              "      filter: drop-shadow(0px 1px 2px rgba(0, 0, 0, 0.3));\n",
              "      fill: #FFFFFF;\n",
              "    }\n",
              "  </style>\n",
              "\n",
              "    <script>\n",
              "      const buttonEl =\n",
              "        document.querySelector('#df-88fac582-6fb1-4b79-a3e3-773530daac98 button.colab-df-convert');\n",
              "      buttonEl.style.display =\n",
              "        google.colab.kernel.accessAllowed ? 'block' : 'none';\n",
              "\n",
              "      async function convertToInteractive(key) {\n",
              "        const element = document.querySelector('#df-88fac582-6fb1-4b79-a3e3-773530daac98');\n",
              "        const dataTable =\n",
              "          await google.colab.kernel.invokeFunction('convertToInteractive',\n",
              "                                                    [key], {});\n",
              "        if (!dataTable) return;\n",
              "\n",
              "        const docLinkHtml = 'Like what you see? Visit the ' +\n",
              "          '<a target=\"_blank\" href=https://colab.research.google.com/notebooks/data_table.ipynb>data table notebook</a>'\n",
              "          + ' to learn more about interactive tables.';\n",
              "        element.innerHTML = '';\n",
              "        dataTable['output_type'] = 'display_data';\n",
              "        await google.colab.output.renderOutput(dataTable, element);\n",
              "        const docLink = document.createElement('div');\n",
              "        docLink.innerHTML = docLinkHtml;\n",
              "        element.appendChild(docLink);\n",
              "      }\n",
              "    </script>\n",
              "  </div>\n",
              "\n",
              "\n",
              "<div id=\"df-32e2d87f-342a-4d63-8f97-f75857148ce4\">\n",
              "  <button class=\"colab-df-quickchart\" onclick=\"quickchart('df-32e2d87f-342a-4d63-8f97-f75857148ce4')\"\n",
              "            title=\"Suggest charts\"\n",
              "            style=\"display:none;\">\n",
              "\n",
              "<svg xmlns=\"http://www.w3.org/2000/svg\" height=\"24px\"viewBox=\"0 0 24 24\"\n",
              "     width=\"24px\">\n",
              "    <g>\n",
              "        <path d=\"M19 3H5c-1.1 0-2 .9-2 2v14c0 1.1.9 2 2 2h14c1.1 0 2-.9 2-2V5c0-1.1-.9-2-2-2zM9 17H7v-7h2v7zm4 0h-2V7h2v10zm4 0h-2v-4h2v4z\"/>\n",
              "    </g>\n",
              "</svg>\n",
              "  </button>\n",
              "\n",
              "<style>\n",
              "  .colab-df-quickchart {\n",
              "      --bg-color: #E8F0FE;\n",
              "      --fill-color: #1967D2;\n",
              "      --hover-bg-color: #E2EBFA;\n",
              "      --hover-fill-color: #174EA6;\n",
              "      --disabled-fill-color: #AAA;\n",
              "      --disabled-bg-color: #DDD;\n",
              "  }\n",
              "\n",
              "  [theme=dark] .colab-df-quickchart {\n",
              "      --bg-color: #3B4455;\n",
              "      --fill-color: #D2E3FC;\n",
              "      --hover-bg-color: #434B5C;\n",
              "      --hover-fill-color: #FFFFFF;\n",
              "      --disabled-bg-color: #3B4455;\n",
              "      --disabled-fill-color: #666;\n",
              "  }\n",
              "\n",
              "  .colab-df-quickchart {\n",
              "    background-color: var(--bg-color);\n",
              "    border: none;\n",
              "    border-radius: 50%;\n",
              "    cursor: pointer;\n",
              "    display: none;\n",
              "    fill: var(--fill-color);\n",
              "    height: 32px;\n",
              "    padding: 0;\n",
              "    width: 32px;\n",
              "  }\n",
              "\n",
              "  .colab-df-quickchart:hover {\n",
              "    background-color: var(--hover-bg-color);\n",
              "    box-shadow: 0 1px 2px rgba(60, 64, 67, 0.3), 0 1px 3px 1px rgba(60, 64, 67, 0.15);\n",
              "    fill: var(--button-hover-fill-color);\n",
              "  }\n",
              "\n",
              "  .colab-df-quickchart-complete:disabled,\n",
              "  .colab-df-quickchart-complete:disabled:hover {\n",
              "    background-color: var(--disabled-bg-color);\n",
              "    fill: var(--disabled-fill-color);\n",
              "    box-shadow: none;\n",
              "  }\n",
              "\n",
              "  .colab-df-spinner {\n",
              "    border: 2px solid var(--fill-color);\n",
              "    border-color: transparent;\n",
              "    border-bottom-color: var(--fill-color);\n",
              "    animation:\n",
              "      spin 1s steps(1) infinite;\n",
              "  }\n",
              "\n",
              "  @keyframes spin {\n",
              "    0% {\n",
              "      border-color: transparent;\n",
              "      border-bottom-color: var(--fill-color);\n",
              "      border-left-color: var(--fill-color);\n",
              "    }\n",
              "    20% {\n",
              "      border-color: transparent;\n",
              "      border-left-color: var(--fill-color);\n",
              "      border-top-color: var(--fill-color);\n",
              "    }\n",
              "    30% {\n",
              "      border-color: transparent;\n",
              "      border-left-color: var(--fill-color);\n",
              "      border-top-color: var(--fill-color);\n",
              "      border-right-color: var(--fill-color);\n",
              "    }\n",
              "    40% {\n",
              "      border-color: transparent;\n",
              "      border-right-color: var(--fill-color);\n",
              "      border-top-color: var(--fill-color);\n",
              "    }\n",
              "    60% {\n",
              "      border-color: transparent;\n",
              "      border-right-color: var(--fill-color);\n",
              "    }\n",
              "    80% {\n",
              "      border-color: transparent;\n",
              "      border-right-color: var(--fill-color);\n",
              "      border-bottom-color: var(--fill-color);\n",
              "    }\n",
              "    90% {\n",
              "      border-color: transparent;\n",
              "      border-bottom-color: var(--fill-color);\n",
              "    }\n",
              "  }\n",
              "</style>\n",
              "\n",
              "  <script>\n",
              "    async function quickchart(key) {\n",
              "      const quickchartButtonEl =\n",
              "        document.querySelector('#' + key + ' button');\n",
              "      quickchartButtonEl.disabled = true;  // To prevent multiple clicks.\n",
              "      quickchartButtonEl.classList.add('colab-df-spinner');\n",
              "      try {\n",
              "        const charts = await google.colab.kernel.invokeFunction(\n",
              "            'suggestCharts', [key], {});\n",
              "      } catch (error) {\n",
              "        console.error('Error during call to suggestCharts:', error);\n",
              "      }\n",
              "      quickchartButtonEl.classList.remove('colab-df-spinner');\n",
              "      quickchartButtonEl.classList.add('colab-df-quickchart-complete');\n",
              "    }\n",
              "    (() => {\n",
              "      let quickchartButtonEl =\n",
              "        document.querySelector('#df-32e2d87f-342a-4d63-8f97-f75857148ce4 button');\n",
              "      quickchartButtonEl.style.display =\n",
              "        google.colab.kernel.accessAllowed ? 'block' : 'none';\n",
              "    })();\n",
              "  </script>\n",
              "</div>\n",
              "\n",
              "    </div>\n",
              "  </div>\n"
            ],
            "text/plain": [
              "  Gender     Height      Weight\n",
              "0   Male  73.847017  241.893563\n",
              "1   Male  68.781904  162.310473\n",
              "2   Male  74.110105  212.740856\n",
              "3   Male  71.730978  220.042470\n",
              "4   Male  69.881796  206.349801"
            ]
          },
          "execution_count": 2,
          "metadata": {},
          "output_type": "execute_result"
        }
      ],
      "source": [
        "df_wh=pd.read_csv('weight-height.txt')\n",
        "df_wh.head()"
      ]
    },
    {
      "cell_type": "code",
      "execution_count": null,
      "metadata": {
        "colab": {
          "base_uri": "https://localhost:8080/",
          "height": 300
        },
        "id": "YgloN_qd7B0M",
        "outputId": "d3dc4f00-7592-4316-e6aa-f5c651fa5458"
      },
      "outputs": [
        {
          "data": {
            "application/vnd.google.colaboratory.intrinsic+json": {
              "summary": "{\n  \"name\": \"df_wh\",\n  \"rows\": 8,\n  \"fields\": [\n    {\n      \"column\": \"Height\",\n      \"properties\": {\n        \"dtype\": \"number\",\n        \"std\": 3515.2806294661905,\n        \"min\": 3.8475281207732293,\n        \"max\": 10000.0,\n        \"num_unique_values\": 8,\n        \"samples\": [\n          66.36755975482124,\n          66.31807008178464,\n          10000.0\n        ],\n        \"semantic_type\": \"\",\n        \"description\": \"\"\n      }\n    },\n    {\n      \"column\": \"Weight\",\n      \"properties\": {\n        \"dtype\": \"number\",\n        \"std\": 3485.1607081511456,\n        \"min\": 32.108439006519596,\n        \"max\": 10000.0,\n        \"num_unique_values\": 8,\n        \"samples\": [\n          161.44035683283076,\n          161.21292769948298,\n          10000.0\n        ],\n        \"semantic_type\": \"\",\n        \"description\": \"\"\n      }\n    }\n  ]\n}",
              "type": "dataframe"
            },
            "text/html": [
              "\n",
              "  <div id=\"df-9b8faf08-a504-47bc-9d9b-986dc8a5940f\" class=\"colab-df-container\">\n",
              "    <div>\n",
              "<style scoped>\n",
              "    .dataframe tbody tr th:only-of-type {\n",
              "        vertical-align: middle;\n",
              "    }\n",
              "\n",
              "    .dataframe tbody tr th {\n",
              "        vertical-align: top;\n",
              "    }\n",
              "\n",
              "    .dataframe thead th {\n",
              "        text-align: right;\n",
              "    }\n",
              "</style>\n",
              "<table border=\"1\" class=\"dataframe\">\n",
              "  <thead>\n",
              "    <tr style=\"text-align: right;\">\n",
              "      <th></th>\n",
              "      <th>Height</th>\n",
              "      <th>Weight</th>\n",
              "    </tr>\n",
              "  </thead>\n",
              "  <tbody>\n",
              "    <tr>\n",
              "      <th>count</th>\n",
              "      <td>10000.000000</td>\n",
              "      <td>10000.000000</td>\n",
              "    </tr>\n",
              "    <tr>\n",
              "      <th>mean</th>\n",
              "      <td>66.367560</td>\n",
              "      <td>161.440357</td>\n",
              "    </tr>\n",
              "    <tr>\n",
              "      <th>std</th>\n",
              "      <td>3.847528</td>\n",
              "      <td>32.108439</td>\n",
              "    </tr>\n",
              "    <tr>\n",
              "      <th>min</th>\n",
              "      <td>54.263133</td>\n",
              "      <td>64.700127</td>\n",
              "    </tr>\n",
              "    <tr>\n",
              "      <th>25%</th>\n",
              "      <td>63.505620</td>\n",
              "      <td>135.818051</td>\n",
              "    </tr>\n",
              "    <tr>\n",
              "      <th>50%</th>\n",
              "      <td>66.318070</td>\n",
              "      <td>161.212928</td>\n",
              "    </tr>\n",
              "    <tr>\n",
              "      <th>75%</th>\n",
              "      <td>69.174262</td>\n",
              "      <td>187.169525</td>\n",
              "    </tr>\n",
              "    <tr>\n",
              "      <th>max</th>\n",
              "      <td>78.998742</td>\n",
              "      <td>269.989699</td>\n",
              "    </tr>\n",
              "  </tbody>\n",
              "</table>\n",
              "</div>\n",
              "    <div class=\"colab-df-buttons\">\n",
              "\n",
              "  <div class=\"colab-df-container\">\n",
              "    <button class=\"colab-df-convert\" onclick=\"convertToInteractive('df-9b8faf08-a504-47bc-9d9b-986dc8a5940f')\"\n",
              "            title=\"Convert this dataframe to an interactive table.\"\n",
              "            style=\"display:none;\">\n",
              "\n",
              "  <svg xmlns=\"http://www.w3.org/2000/svg\" height=\"24px\" viewBox=\"0 -960 960 960\">\n",
              "    <path d=\"M120-120v-720h720v720H120Zm60-500h600v-160H180v160Zm220 220h160v-160H400v160Zm0 220h160v-160H400v160ZM180-400h160v-160H180v160Zm440 0h160v-160H620v160ZM180-180h160v-160H180v160Zm440 0h160v-160H620v160Z\"/>\n",
              "  </svg>\n",
              "    </button>\n",
              "\n",
              "  <style>\n",
              "    .colab-df-container {\n",
              "      display:flex;\n",
              "      gap: 12px;\n",
              "    }\n",
              "\n",
              "    .colab-df-convert {\n",
              "      background-color: #E8F0FE;\n",
              "      border: none;\n",
              "      border-radius: 50%;\n",
              "      cursor: pointer;\n",
              "      display: none;\n",
              "      fill: #1967D2;\n",
              "      height: 32px;\n",
              "      padding: 0 0 0 0;\n",
              "      width: 32px;\n",
              "    }\n",
              "\n",
              "    .colab-df-convert:hover {\n",
              "      background-color: #E2EBFA;\n",
              "      box-shadow: 0px 1px 2px rgba(60, 64, 67, 0.3), 0px 1px 3px 1px rgba(60, 64, 67, 0.15);\n",
              "      fill: #174EA6;\n",
              "    }\n",
              "\n",
              "    .colab-df-buttons div {\n",
              "      margin-bottom: 4px;\n",
              "    }\n",
              "\n",
              "    [theme=dark] .colab-df-convert {\n",
              "      background-color: #3B4455;\n",
              "      fill: #D2E3FC;\n",
              "    }\n",
              "\n",
              "    [theme=dark] .colab-df-convert:hover {\n",
              "      background-color: #434B5C;\n",
              "      box-shadow: 0px 1px 3px 1px rgba(0, 0, 0, 0.15);\n",
              "      filter: drop-shadow(0px 1px 2px rgba(0, 0, 0, 0.3));\n",
              "      fill: #FFFFFF;\n",
              "    }\n",
              "  </style>\n",
              "\n",
              "    <script>\n",
              "      const buttonEl =\n",
              "        document.querySelector('#df-9b8faf08-a504-47bc-9d9b-986dc8a5940f button.colab-df-convert');\n",
              "      buttonEl.style.display =\n",
              "        google.colab.kernel.accessAllowed ? 'block' : 'none';\n",
              "\n",
              "      async function convertToInteractive(key) {\n",
              "        const element = document.querySelector('#df-9b8faf08-a504-47bc-9d9b-986dc8a5940f');\n",
              "        const dataTable =\n",
              "          await google.colab.kernel.invokeFunction('convertToInteractive',\n",
              "                                                    [key], {});\n",
              "        if (!dataTable) return;\n",
              "\n",
              "        const docLinkHtml = 'Like what you see? Visit the ' +\n",
              "          '<a target=\"_blank\" href=https://colab.research.google.com/notebooks/data_table.ipynb>data table notebook</a>'\n",
              "          + ' to learn more about interactive tables.';\n",
              "        element.innerHTML = '';\n",
              "        dataTable['output_type'] = 'display_data';\n",
              "        await google.colab.output.renderOutput(dataTable, element);\n",
              "        const docLink = document.createElement('div');\n",
              "        docLink.innerHTML = docLinkHtml;\n",
              "        element.appendChild(docLink);\n",
              "      }\n",
              "    </script>\n",
              "  </div>\n",
              "\n",
              "\n",
              "<div id=\"df-2ee56640-a357-4894-86a5-64d8839e2bf5\">\n",
              "  <button class=\"colab-df-quickchart\" onclick=\"quickchart('df-2ee56640-a357-4894-86a5-64d8839e2bf5')\"\n",
              "            title=\"Suggest charts\"\n",
              "            style=\"display:none;\">\n",
              "\n",
              "<svg xmlns=\"http://www.w3.org/2000/svg\" height=\"24px\"viewBox=\"0 0 24 24\"\n",
              "     width=\"24px\">\n",
              "    <g>\n",
              "        <path d=\"M19 3H5c-1.1 0-2 .9-2 2v14c0 1.1.9 2 2 2h14c1.1 0 2-.9 2-2V5c0-1.1-.9-2-2-2zM9 17H7v-7h2v7zm4 0h-2V7h2v10zm4 0h-2v-4h2v4z\"/>\n",
              "    </g>\n",
              "</svg>\n",
              "  </button>\n",
              "\n",
              "<style>\n",
              "  .colab-df-quickchart {\n",
              "      --bg-color: #E8F0FE;\n",
              "      --fill-color: #1967D2;\n",
              "      --hover-bg-color: #E2EBFA;\n",
              "      --hover-fill-color: #174EA6;\n",
              "      --disabled-fill-color: #AAA;\n",
              "      --disabled-bg-color: #DDD;\n",
              "  }\n",
              "\n",
              "  [theme=dark] .colab-df-quickchart {\n",
              "      --bg-color: #3B4455;\n",
              "      --fill-color: #D2E3FC;\n",
              "      --hover-bg-color: #434B5C;\n",
              "      --hover-fill-color: #FFFFFF;\n",
              "      --disabled-bg-color: #3B4455;\n",
              "      --disabled-fill-color: #666;\n",
              "  }\n",
              "\n",
              "  .colab-df-quickchart {\n",
              "    background-color: var(--bg-color);\n",
              "    border: none;\n",
              "    border-radius: 50%;\n",
              "    cursor: pointer;\n",
              "    display: none;\n",
              "    fill: var(--fill-color);\n",
              "    height: 32px;\n",
              "    padding: 0;\n",
              "    width: 32px;\n",
              "  }\n",
              "\n",
              "  .colab-df-quickchart:hover {\n",
              "    background-color: var(--hover-bg-color);\n",
              "    box-shadow: 0 1px 2px rgba(60, 64, 67, 0.3), 0 1px 3px 1px rgba(60, 64, 67, 0.15);\n",
              "    fill: var(--button-hover-fill-color);\n",
              "  }\n",
              "\n",
              "  .colab-df-quickchart-complete:disabled,\n",
              "  .colab-df-quickchart-complete:disabled:hover {\n",
              "    background-color: var(--disabled-bg-color);\n",
              "    fill: var(--disabled-fill-color);\n",
              "    box-shadow: none;\n",
              "  }\n",
              "\n",
              "  .colab-df-spinner {\n",
              "    border: 2px solid var(--fill-color);\n",
              "    border-color: transparent;\n",
              "    border-bottom-color: var(--fill-color);\n",
              "    animation:\n",
              "      spin 1s steps(1) infinite;\n",
              "  }\n",
              "\n",
              "  @keyframes spin {\n",
              "    0% {\n",
              "      border-color: transparent;\n",
              "      border-bottom-color: var(--fill-color);\n",
              "      border-left-color: var(--fill-color);\n",
              "    }\n",
              "    20% {\n",
              "      border-color: transparent;\n",
              "      border-left-color: var(--fill-color);\n",
              "      border-top-color: var(--fill-color);\n",
              "    }\n",
              "    30% {\n",
              "      border-color: transparent;\n",
              "      border-left-color: var(--fill-color);\n",
              "      border-top-color: var(--fill-color);\n",
              "      border-right-color: var(--fill-color);\n",
              "    }\n",
              "    40% {\n",
              "      border-color: transparent;\n",
              "      border-right-color: var(--fill-color);\n",
              "      border-top-color: var(--fill-color);\n",
              "    }\n",
              "    60% {\n",
              "      border-color: transparent;\n",
              "      border-right-color: var(--fill-color);\n",
              "    }\n",
              "    80% {\n",
              "      border-color: transparent;\n",
              "      border-right-color: var(--fill-color);\n",
              "      border-bottom-color: var(--fill-color);\n",
              "    }\n",
              "    90% {\n",
              "      border-color: transparent;\n",
              "      border-bottom-color: var(--fill-color);\n",
              "    }\n",
              "  }\n",
              "</style>\n",
              "\n",
              "  <script>\n",
              "    async function quickchart(key) {\n",
              "      const quickchartButtonEl =\n",
              "        document.querySelector('#' + key + ' button');\n",
              "      quickchartButtonEl.disabled = true;  // To prevent multiple clicks.\n",
              "      quickchartButtonEl.classList.add('colab-df-spinner');\n",
              "      try {\n",
              "        const charts = await google.colab.kernel.invokeFunction(\n",
              "            'suggestCharts', [key], {});\n",
              "      } catch (error) {\n",
              "        console.error('Error during call to suggestCharts:', error);\n",
              "      }\n",
              "      quickchartButtonEl.classList.remove('colab-df-spinner');\n",
              "      quickchartButtonEl.classList.add('colab-df-quickchart-complete');\n",
              "    }\n",
              "    (() => {\n",
              "      let quickchartButtonEl =\n",
              "        document.querySelector('#df-2ee56640-a357-4894-86a5-64d8839e2bf5 button');\n",
              "      quickchartButtonEl.style.display =\n",
              "        google.colab.kernel.accessAllowed ? 'block' : 'none';\n",
              "    })();\n",
              "  </script>\n",
              "</div>\n",
              "\n",
              "    </div>\n",
              "  </div>\n"
            ],
            "text/plain": [
              "             Height        Weight\n",
              "count  10000.000000  10000.000000\n",
              "mean      66.367560    161.440357\n",
              "std        3.847528     32.108439\n",
              "min       54.263133     64.700127\n",
              "25%       63.505620    135.818051\n",
              "50%       66.318070    161.212928\n",
              "75%       69.174262    187.169525\n",
              "max       78.998742    269.989699"
            ]
          },
          "execution_count": 3,
          "metadata": {},
          "output_type": "execute_result"
        }
      ],
      "source": [
        "df_wh.describe()"
      ]
    },
    {
      "cell_type": "code",
      "execution_count": null,
      "metadata": {
        "colab": {
          "base_uri": "https://localhost:8080/"
        },
        "id": "vOirQXF47IIX",
        "outputId": "18fcabe0-7943-4ac6-9cac-f5aa7b573d76"
      },
      "outputs": [
        {
          "data": {
            "text/plain": [
              "0       73.847017\n",
              "1       68.781904\n",
              "2       74.110105\n",
              "3       71.730978\n",
              "4       69.881796\n",
              "          ...    \n",
              "9995    66.172652\n",
              "9996    67.067155\n",
              "9997    63.867992\n",
              "9998    69.034243\n",
              "9999    61.944246\n",
              "Name: Height, Length: 10000, dtype: float64"
            ]
          },
          "execution_count": 3,
          "metadata": {},
          "output_type": "execute_result"
        }
      ],
      "source": [
        "df_height=df_wh['Height']\n",
        "df_height"
      ]
    },
    {
      "cell_type": "code",
      "execution_count": null,
      "metadata": {
        "colab": {
          "base_uri": "https://localhost:8080/",
          "height": 449
        },
        "id": "WpN63zEf7Z-S",
        "outputId": "55e04b0f-5dbc-4be0-8bd2-1704081bdad4"
      },
      "outputs": [
        {
          "data": {
            "image/png": "[encoded data removed]",
            "text/plain": [
              "<Figure size 640x480 with 1 Axes>"
            ]
          },
          "metadata": {},
          "output_type": "display_data"
        }
      ],
      "source": [
        "sns.histplot(df_height)\n",
        "plt.show()"
      ]
    },
    {
      "cell_type": "code",
      "execution_count": null,
      "metadata": {
        "colab": {
          "base_uri": "https://localhost:8080/"
        },
        "id": "IKb2r_4cumUv",
        "outputId": "a55630e1-e40f-46a7-b4b4-e326767dc8e9"
      },
      "outputs": [
        {
          "data": {
            "text/plain": [
              "(54.2631333250971, 78.9987423463896)"
            ]
          },
          "execution_count": 6,
          "metadata": {},
          "output_type": "execute_result"
        }
      ],
      "source": [
        "df_height.min(),df_height.max()"
      ]
    },
    {
      "cell_type": "code",
      "execution_count": null,
      "metadata": {
        "id": "w0lmeTUCumRK"
      },
      "outputs": [],
      "source": [
        "x_values=np.linspace(df_height.min(),df_height.max(),1000)\n",
        "y_values=[]"
      ]
    },
    {
      "cell_type": "code",
      "execution_count": null,
      "metadata": {
        "id": "u3HtcWzwumOQ"
      },
      "outputs": [],
      "source": [
        "for x in x_values:\n",
        "  people_shorter_than_x=df_height[df_height<=x]\n",
        "  len_people_shorter_than_x=len(df_height[df_height<=x])\n",
        "  fraction_people_shorter_than_x=len_people_shorter_than_x/len(df_height)\n",
        "  y_values.append(fraction_people_shorter_than_x)"
      ]
    },
    {
      "cell_type": "code",
      "execution_count": null,
      "metadata": {
        "colab": {
          "base_uri": "https://localhost:8080/",
          "height": 146
        },
        "id": "o9gMA2753NzZ",
        "outputId": "7c09fa52-a06c-4413-a308-93ac5ec4a981"
      },
      "outputs": [
        {
          "ename": "NameError",
          "evalue": "name 'y_values' is not defined",
          "output_type": "error",
          "traceback": [
            "\u001b[0;31m---------------------------------------------------------------------------\u001b[0m",
            "\u001b[0;31mNameError\u001b[0m                                 Traceback (most recent call last)",
            "\u001b[0;32m<ipython-input-4-8fc426af52d7>\u001b[0m in \u001b[0;36m<cell line: 1>\u001b[0;34m()\u001b[0m\n\u001b[0;32m----> 1\u001b[0;31m \u001b[0my_values\u001b[0m\u001b[0;34m.\u001b[0m\u001b[0mhead\u001b[0m\u001b[0;34m(\u001b[0m\u001b[0;34m)\u001b[0m\u001b[0;34m\u001b[0m\u001b[0;34m\u001b[0m\u001b[0m\n\u001b[0m",
            "\u001b[0;31mNameError\u001b[0m: name 'y_values' is not defined"
          ]
        }
      ],
      "source": [
        "y_values.head()"
      ]
    },
    {
      "cell_type": "markdown",
      "metadata": {
        "id": "KkB2KOYm3cYl"
      },
      "source": [
        "cdf=cumulative distribution function(probability of discrite function)"
      ]
    },
    {
      "cell_type": "code",
      "execution_count": null,
      "metadata": {
        "colab": {
          "base_uri": "https://localhost:8080/",
          "height": 448
        },
        "id": "RqJylBXg24tT",
        "outputId": "8496570f-62c2-46e2-fa6b-a888b15a5f62"
      },
      "outputs": [
        {
          "data": {
            "text/plain": [
              "[<matplotlib.lines.Line2D at 0x7c75811508e0>]"
            ]
          },
          "execution_count": 17,
          "metadata": {},
          "output_type": "execute_result"
        },
        {
          "data": {
            "image/png": "[encoded data removed]",
            "text/plain": [
              "<Figure size 640x480 with 1 Axes>"
            ]
          },
          "metadata": {},
          "output_type": "display_data"
        }
      ],
      "source": [
        "plt.plot(x_values, y_values)\n"
      ]
    },
    {
      "cell_type": "markdown",
      "metadata": {
        "id": "p1BM74gK4IiB"
      },
      "source": [
        "pmf-probability of"
      ]
    },
    {
      "cell_type": "code",
      "execution_count": null,
      "metadata": {
        "colab": {
          "base_uri": "https://localhost:8080/"
        },
        "id": "1sUL6Rkz4PNu",
        "outputId": "728703af-533d-4433-d932-7263c5d58330"
      },
      "outputs": [
        {
          "data": {
            "text/plain": [
              "array(['T', 'T'], dtype='<U1')"
            ]
          },
          "execution_count": 7,
          "metadata": {},
          "output_type": "execute_result"
        }
      ],
      "source": [
        "np.random.choice(['H','T'],size=2)"
      ]
    },
    {
      "cell_type": "code",
      "execution_count": null,
      "metadata": {
        "colab": {
          "base_uri": "https://localhost:8080/"
        },
        "id": "RJEzTgne4P-9",
        "outputId": "86aadfaf-2851-4b5c-f57c-9b48b896b338"
      },
      "outputs": [
        {
          "data": {
            "text/plain": [
              "array(['T', 'H', 'T', 'T', 'H', 'T', 'H', 'T', 'H', 'T'], dtype='<U1')"
            ]
          },
          "execution_count": 8,
          "metadata": {},
          "output_type": "execute_result"
        }
      ],
      "source": [
        "np.random.choice(['H','T'],size=10)"
      ]
    },
    {
      "cell_type": "code",
      "execution_count": null,
      "metadata": {
        "colab": {
          "base_uri": "https://localhost:8080/"
        },
        "id": "9fkAcCLB4P7j",
        "outputId": "539d6bc7-0110-479b-968c-c2ec38bb0476"
      },
      "outputs": [
        {
          "data": {
            "text/plain": [
              "array(['T', 'T', 'T', ..., 'T', 'H', 'T'], dtype='<U1')"
            ]
          },
          "execution_count": 9,
          "metadata": {},
          "output_type": "execute_result"
        }
      ],
      "source": [
        "np.random.choice(['H','T'],size=10000)"
      ]
    },
    {
      "cell_type": "code",
      "execution_count": null,
      "metadata": {
        "colab": {
          "base_uri": "https://localhost:8080/"
        },
        "id": "fA_2vK414P5B",
        "outputId": "d2f0c016-34b2-4eb4-dc84-8a140ba9de05"
      },
      "outputs": [
        {
          "data": {
            "text/plain": [
              "T    5063\n",
              "H    4937\n",
              "dtype: int64"
            ]
          },
          "execution_count": 10,
          "metadata": {},
          "output_type": "execute_result"
        }
      ],
      "source": [
        "pd.value_counts(np.random.choice(['H','T'],size=10000))"
      ]
    },
    {
      "cell_type": "markdown",
      "metadata": {
        "id": "7wuaY00y5AvP"
      },
      "source": [
        "here probability of getting head is =probability of head count/total sample space"
      ]
    },
    {
      "cell_type": "code",
      "execution_count": null,
      "metadata": {
        "colab": {
          "base_uri": "https://localhost:8080/"
        },
        "id": "K8w_C-s-4P2f",
        "outputId": "0267da6a-4238-420d-8e70-5083cd5b49c1"
      },
      "outputs": [
        {
          "data": {
            "text/plain": [
              "H    0.5035\n",
              "T    0.4965\n",
              "dtype: float64"
            ]
          },
          "execution_count": 11,
          "metadata": {},
          "output_type": "execute_result"
        }
      ],
      "source": [
        "pd.value_counts(np.random.choice(['H','T'],size=10000),normalize=True)"
      ]
    },
    {
      "cell_type": "markdown",
      "metadata": {
        "id": "oJ9-1qAr5QxU"
      },
      "source": [
        "# casino example"
      ]
    },
    {
      "cell_type": "code",
      "execution_count": null,
      "metadata": {
        "id": "SvRDD2sK4Pz0"
      },
      "outputs": [],
      "source": [
        "rolls=np.random.choice(['R','R','R','B','B'],size=4)"
      ]
    },
    {
      "cell_type": "code",
      "execution_count": null,
      "metadata": {
        "colab": {
          "base_uri": "https://localhost:8080/"
        },
        "id": "U2P_rQ_d4Pw8",
        "outputId": "07685a92-1fe1-40ce-ccbc-646dfa5d1e6a"
      },
      "outputs": [
        {
          "data": {
            "text/plain": [
              "3"
            ]
          },
          "execution_count": 13,
          "metadata": {},
          "output_type": "execute_result"
        }
      ],
      "source": [
        "len(rolls[rolls=='R'])"
      ]
    },
    {
      "cell_type": "code",
      "execution_count": null,
      "metadata": {
        "id": "JhakJ7a04Pt9"
      },
      "outputs": [],
      "source": [
        "#probabilities using empirical\n",
        "red_values = []\n",
        "for x in range(10000):\n",
        "  rolls=np.random.choice(['R','R','R','B','B'],size=4)\n",
        "  num_red=len(rolls[rolls=='R'])\n",
        "  red_values.append(num_red)\n"
      ]
    },
    {
      "cell_type": "code",
      "execution_count": null,
      "metadata": {
        "colab": {
          "base_uri": "https://localhost:8080/"
        },
        "id": "kHhpaIfJ6Bkj",
        "outputId": "8d35f7bd-6da8-4373-be56-4cd54933b5e4"
      },
      "outputs": [
        {
          "data": {
            "text/plain": [
              "3    0.3535\n",
              "2    0.3388\n",
              "1    0.1536\n",
              "4    0.1305\n",
              "0    0.0236\n",
              "dtype: float64"
            ]
          },
          "execution_count": 15,
          "metadata": {},
          "output_type": "execute_result"
        }
      ],
      "source": [
        "pd.value_counts(red_values,normalize=True)"
      ]
    },
    {
      "cell_type": "code",
      "execution_count": null,
      "metadata": {
        "colab": {
          "base_uri": "https://localhost:8080/",
          "height": 146
        },
        "id": "_AbeYTGg6Bg3",
        "outputId": "52fc0e4f-5481-4cfc-ff6b-59be8b4a949c"
      },
      "outputs": [
        {
          "ename": "NameError",
          "evalue": "name 'df_height' is not defined",
          "output_type": "error",
          "traceback": [
            "\u001b[0;31m---------------------------------------------------------------------------\u001b[0m",
            "\u001b[0;31mNameError\u001b[0m                                 Traceback (most recent call last)",
            "\u001b[0;32m<ipython-input-16-247595070b31>\u001b[0m in \u001b[0;36m<cell line: 1>\u001b[0;34m()\u001b[0m\n\u001b[0;32m----> 1\u001b[0;31m \u001b[0msns\u001b[0m\u001b[0;34m.\u001b[0m\u001b[0mkdeplot\u001b[0m\u001b[0;34m(\u001b[0m\u001b[0mdf_height\u001b[0m\u001b[0;34m)\u001b[0m\u001b[0;34m\u001b[0m\u001b[0;34m\u001b[0m\u001b[0m\n\u001b[0m",
            "\u001b[0;31mNameError\u001b[0m: name 'df_height' is not defined"
          ]
        }
      ],
      "source": [
        "sns.kdeplot(df_height)"
      ]
    },
    {
      "cell_type": "code",
      "execution_count": null,
      "metadata": {
        "colab": {
          "base_uri": "https://localhost:8080/"
        },
        "id": "9EKgYzQjOI4E",
        "outputId": "319d776e-e3b4-4090-8767-b280f3eda1a4"
      },
      "outputs": [
        {
          "data": {
            "text/plain": [
              "3    0.3535\n",
              "2    0.3388\n",
              "1    0.1536\n",
              "4    0.1305\n",
              "0    0.0236\n",
              "dtype: float64"
            ]
          },
          "execution_count": 17,
          "metadata": {},
          "output_type": "execute_result"
        }
      ],
      "source": [
        "x=pd.value_counts(red_values,normalize=True)\n",
        "x"
      ]
    },
    {
      "cell_type": "code",
      "execution_count": null,
      "metadata": {
        "colab": {
          "base_uri": "https://localhost:8080/",
          "height": 467
        },
        "id": "gogjLbsVOI0v",
        "outputId": "f2a97f1c-a2ef-47ea-d986-b9fba9b98763"
      },
      "outputs": [
        {
          "data": {
            "text/plain": [
              "<Axes: xlabel='None'>"
            ]
          },
          "execution_count": 18,
          "metadata": {},
          "output_type": "execute_result"
        },
        {
          "data": {
            "image/png": "[encoded data removed]",
            "text/plain": [
              "<Figure size 640x480 with 1 Axes>"
            ]
          },
          "metadata": {},
          "output_type": "display_data"
        }
      ],
      "source": [
        "sns.barplot(x=x.index,y=x.values)"
      ]
    },
    {
      "cell_type": "code",
      "execution_count": null,
      "metadata": {
        "colab": {
          "base_uri": "https://localhost:8080/",
          "height": 449
        },
        "id": "kfMPFt3COIy7",
        "outputId": "db37bfd1-1b26-483c-8d68-6a32f76e114f"
      },
      "outputs": [
        {
          "data": {
            "image/png": "[encoded data removed]",
            "text/plain": [
              "<Figure size 640x480 with 1 Axes>"
            ]
          },
          "metadata": {},
          "output_type": "display_data"
        }
      ],
      "source": [
        "ax=sns.barplot(x=x.index,y=x.values)\n",
        "for i in ax.containers:\n",
        "  ax.bar_label(i,)"
      ]
    },
    {
      "cell_type": "markdown",
      "metadata": {
        "id": "cVk_C9uRPFdC"
      },
      "source": [
        "therotical"
      ]
    },
    {
      "cell_type": "code",
      "execution_count": null,
      "metadata": {
        "id": "XRai-oq7OIv6"
      },
      "outputs": [],
      "source": [
        "#binomial formula\n",
        "from scipy.stats import binom"
      ]
    },
    {
      "cell_type": "code",
      "execution_count": null,
      "metadata": {
        "colab": {
          "base_uri": "https://localhost:8080/"
        },
        "id": "14E1OnVxOItI",
        "outputId": "9c7114ab-e91d-4e92-8ed2-4bbd17c196bc"
      },
      "outputs": [
        {
          "data": {
            "text/plain": [
              "66.36755975482124"
            ]
          },
          "execution_count": 5,
          "metadata": {},
          "output_type": "execute_result"
        }
      ],
      "source": [
        "df_height.mean()"
      ]
    },
    {
      "cell_type": "code",
      "execution_count": null,
      "metadata": {
        "colab": {
          "base_uri": "https://localhost:8080/"
        },
        "id": "keHmnyoLTHMJ",
        "outputId": "5f92ad80-0ef8-4c8f-fb95-7cf179471377"
      },
      "outputs": [
        {
          "data": {
            "text/plain": [
              "10000"
            ]
          },
          "execution_count": 6,
          "metadata": {},
          "output_type": "execute_result"
        }
      ],
      "source": [
        "len(df_height)"
      ]
    },
    {
      "cell_type": "code",
      "execution_count": null,
      "metadata": {
        "id": "1xYhkJYpTJK5"
      },
      "outputs": [],
      "source": [
        "#sample->infer the mean height"
      ]
    },
    {
      "cell_type": "code",
      "execution_count": null,
      "metadata": {
        "colab": {
          "base_uri": "https://localhost:8080/"
        },
        "id": "HQzctY15TJHS",
        "outputId": "a0d60b87-6347-4f1b-a3d4-f215494d8a00"
      },
      "outputs": [
        {
          "data": {
            "text/plain": [
              "5190    60.447397\n",
              "2792    72.467025\n",
              "5521    64.151576\n",
              "26      69.089631\n",
              "499     72.182534\n",
              "          ...    \n",
              "550     63.731048\n",
              "3645    66.928267\n",
              "7138    62.363551\n",
              "6211    64.135856\n",
              "3059    61.611121\n",
              "Name: Height, Length: 5000, dtype: float64"
            ]
          },
          "execution_count": 7,
          "metadata": {},
          "output_type": "execute_result"
        }
      ],
      "source": [
        "df_height.sample(5000)"
      ]
    },
    {
      "cell_type": "code",
      "execution_count": null,
      "metadata": {
        "colab": {
          "base_uri": "https://localhost:8080/"
        },
        "id": "8eWNZssRTJEz",
        "outputId": "554ae39f-1e05-4a67-bdda-5bf336e16897"
      },
      "outputs": [
        {
          "data": {
            "text/plain": [
              "5000"
            ]
          },
          "execution_count": 8,
          "metadata": {},
          "output_type": "execute_result"
        }
      ],
      "source": [
        "len(df_height.sample(5000))"
      ]
    },
    {
      "cell_type": "code",
      "execution_count": null,
      "metadata": {
        "colab": {
          "base_uri": "https://localhost:8080/"
        },
        "id": "8M0LCbpuTJCI",
        "outputId": "d95613cd-8da9-4f06-ec30-a67be6062576"
      },
      "outputs": [
        {
          "data": {
            "text/plain": [
              "66.33308643538477"
            ]
          },
          "execution_count": 9,
          "metadata": {},
          "output_type": "execute_result"
        }
      ],
      "source": [
        "np.mean(df_height.sample(5000))"
      ]
    },
    {
      "cell_type": "code",
      "execution_count": null,
      "metadata": {
        "colab": {
          "base_uri": "https://localhost:8080/"
        },
        "id": "avbyFA1lTI_O",
        "outputId": "42deb2ea-ff4b-4e53-aa54-94c3b4a94c1d"
      },
      "outputs": [
        {
          "data": {
            "text/plain": [
              "143.0"
            ]
          },
          "execution_count": 31,
          "metadata": {},
          "output_type": "execute_result"
        }
      ],
      "source": []
    },
    {
      "cell_type": "code",
      "execution_count": null,
      "metadata": {
        "id": "zLIQwN3k_Vii"
      },
      "outputs": [],
      "source": [
        "#binomial formula\n",
        "from scipy.stats import binom"
      ]
    },
    {
      "cell_type": "code",
      "execution_count": null,
      "metadata": {
        "colab": {
          "base_uri": "https://localhost:8080/"
        },
        "id": "iOcAoaJWvtfk",
        "outputId": "0fde41c2-62c1-4aa5-b64e-11a14b25bce5"
      },
      "outputs": [
        {
          "data": {
            "text/plain": [
              "0.14436434635625667"
            ]
          },
          "execution_count": 3,
          "metadata": {},
          "output_type": "execute_result"
        }
      ],
      "source": [
        "binom.pmf(n=40, p=0.25, k=10)"
      ]
    },
    {
      "cell_type": "code",
      "execution_count": null,
      "metadata": {
        "colab": {
          "base_uri": "https://localhost:8080/"
        },
        "id": "dNC2cecVynuC",
        "outputId": "eb94a215-a49a-4917-a887-073447126239"
      },
      "outputs": [
        {
          "data": {
            "text/plain": [
              "0.3455999999999997"
            ]
          },
          "execution_count": 5,
          "metadata": {},
          "output_type": "execute_result"
        }
      ],
      "source": [
        "binom.pmf(n=40, p=0.25, k=10)"
      ]
    },
    {
      "cell_type": "code",
      "execution_count": null,
      "metadata": {
        "id": "VspvTYGXg-XX"
      },
      "outputs": [],
      "source": [
        "from scipy.stats import norm"
      ]
    },
    {
      "cell_type": "code",
      "execution_count": null,
      "metadata": {
        "colab": {
          "base_uri": "https://localhost:8080/"
        },
        "id": "5WARk4OwhGFB",
        "outputId": "6618290a-8468-4e20-e22f-9fa9dc6bfb6f"
      },
      "outputs": [
        {
          "data": {
            "text/plain": [
              "1.6448536269514722"
            ]
          },
          "execution_count": 13,
          "metadata": {},
          "output_type": "execute_result"
        }
      ],
      "source": [
        "z=norm.ppf(0.95)\n",
        "z"
      ]
    },
    {
      "cell_type": "code",
      "execution_count": null,
      "metadata": {
        "id": "G5n21k9VhwXn"
      },
      "outputs": [],
      "source": [
        "t=7.42+1.64*0.34"
      ]
    },
    {
      "cell_type": "code",
      "execution_count": null,
      "metadata": {
        "colab": {
          "base_uri": "https://localhost:8080/"
        },
        "id": "5PiKaXeBlauz",
        "outputId": "992f45cb-874c-40a1-84f2-b9a713a09d95"
      },
      "outputs": [
        {
          "data": {
            "text/plain": [
              "62.67549137585239"
            ]
          },
          "execution_count": 17,
          "metadata": {},
          "output_type": "execute_result"
        }
      ],
      "source": [
        "500/t"
      ]
    },
    {
      "cell_type": "code",
      "execution_count": null,
      "metadata": {
        "id": "5z1vBHD-ntIy"
      },
      "outputs": [],
      "source": []
    },
    {
      "cell_type": "code",
      "execution_count": null,
      "metadata": {
        "colab": {
          "base_uri": "https://localhost:8080/"
        },
        "id": "03LCzxSrzXCf",
        "outputId": "59e5421b-223b-46b0-ffcd-cabe666bda08"
      },
      "outputs": [
        {
          "data": {
            "text/plain": [
              "0.953125"
            ]
          },
          "execution_count": 6,
          "metadata": {},
          "output_type": "execute_result"
        }
      ],
      "source": [
        "1-binom.pmf(n=4, p=0.25, k=3)"
      ]
    },
    {
      "cell_type": "code",
      "execution_count": null,
      "metadata": {
        "colab": {
          "base_uri": "https://localhost:8080/"
        },
        "id": "gNyFTu2mxN9N",
        "outputId": "0f13cef5-2303-4a59-ef00-69123662bc97"
      },
      "outputs": [
        {
          "data": {
            "text/plain": [
              "0.9797772453985386"
            ]
          },
          "execution_count": 4,
          "metadata": {},
          "output_type": "execute_result"
        }
      ],
      "source": [
        "1-binom.pmf(n=10, p=0.12, k=4)"
      ]
    },
    {
      "cell_type": "code",
      "execution_count": null,
      "metadata": {
        "colab": {
          "base_uri": "https://localhost:8080/"
        },
        "id": "tn12XnNM_Ve9",
        "outputId": "6fff13b5-ab35-4d62-ef4a-3786f35da11f"
      },
      "outputs": [
        {
          "data": {
            "text/plain": [
              "0.046875000000000014"
            ]
          },
          "execution_count": 16,
          "metadata": {},
          "output_type": "execute_result"
        }
      ],
      "source": [
        "binom.pmf(n=4,p=1/4,k=3)"
      ]
    },
    {
      "cell_type": "code",
      "execution_count": null,
      "metadata": {
        "id": "VRV2LjKC-p4U"
      },
      "outputs": [],
      "source": [
        "import math"
      ]
    },
    {
      "cell_type": "code",
      "execution_count": null,
      "metadata": {
        "colab": {
          "base_uri": "https://localhost:8080/"
        },
        "id": "Gq4ePrWI-kHm",
        "outputId": "9a2e4288-81fb-420b-c5e1-829aea882713"
      },
      "outputs": [
        {
          "data": {
            "text/plain": [
              "1.118033988749895"
            ]
          },
          "execution_count": 10,
          "metadata": {},
          "output_type": "execute_result"
        }
      ],
      "source": [
        "math.sqrt(1.25)"
      ]
    },
    {
      "cell_type": "code",
      "execution_count": null,
      "metadata": {
        "colab": {
          "base_uri": "https://localhost:8080/"
        },
        "id": "D0kV6Dxp_bjI",
        "outputId": "c0c15d9f-1620-481a-bf6e-36bc05cecb03"
      },
      "outputs": [
        {
          "data": {
            "text/plain": [
              "0.9375"
            ]
          },
          "execution_count": 22,
          "metadata": {},
          "output_type": "execute_result"
        }
      ],
      "source": [
        "binom.cdf(n=4,p=1/2,k=3)"
      ]
    },
    {
      "cell_type": "code",
      "execution_count": null,
      "metadata": {
        "colab": {
          "base_uri": "https://localhost:8080/"
        },
        "id": "fPpfDXlk7USv",
        "outputId": "a97e7698-9058-40c5-bc3d-5a1f6f8d1e29"
      },
      "outputs": [
        {
          "data": {
            "text/plain": [
              "1.31640625"
            ]
          },
          "execution_count": 18,
          "metadata": {},
          "output_type": "execute_result"
        }
      ],
      "source": [
        "1-(binom.pmf(n=4,p=1/4,k=0))+(binom.pmf(n=4,p=1/4,k=1))+(binom.pmf(n=4,p=1/4,k=2))"
      ]
    },
    {
      "cell_type": "code",
      "execution_count": null,
      "metadata": {
        "id": "OpbNYLqxkSIB"
      },
      "outputs": [],
      "source": [
        "df_height=df_wh['Height']"
      ]
    },
    {
      "cell_type": "markdown",
      "metadata": {
        "id": "sUE42NAZk1_9"
      },
      "source": [
        "# Guussian D\n",
        "look like a bell"
      ]
    },
    {
      "cell_type": "code",
      "execution_count": null,
      "metadata": {
        "colab": {
          "base_uri": "https://localhost:8080/",
          "height": 449
        },
        "id": "458jEPkWkSEf",
        "outputId": "c40811f7-9b03-4793-e403-ba759bc6162d"
      },
      "outputs": [
        {
          "data": {
            "image/png": "[encoded data removed]",
            "text/plain": [
              "<Figure size 640x480 with 1 Axes>"
            ]
          },
          "metadata": {},
          "output_type": "display_data"
        }
      ],
      "source": [
        "sns.histplot(data=df_height)\n",
        "plt.show()"
      ]
    },
    {
      "cell_type": "code",
      "execution_count": null,
      "metadata": {
        "colab": {
          "base_uri": "https://localhost:8080/"
        },
        "id": "PxHq52E5kSB0",
        "outputId": "8e55a022-e2a2-47c4-82a5-fa247f21b58d"
      },
      "outputs": [
        {
          "data": {
            "text/plain": [
              "count    10000.000000\n",
              "mean        66.367560\n",
              "std          3.847528\n",
              "min         54.263133\n",
              "25%         63.505620\n",
              "50%         66.318070\n",
              "75%         69.174262\n",
              "max         78.998742\n",
              "Name: Height, dtype: float64"
            ]
          },
          "execution_count": 8,
          "metadata": {},
          "output_type": "execute_result"
        }
      ],
      "source": [
        "df_height.describe()"
      ]
    },
    {
      "cell_type": "markdown",
      "metadata": {
        "id": "WmhSsx64vehl"
      },
      "source": [
        "# fraction of people shorter than any random value/height"
      ]
    },
    {
      "cell_type": "code",
      "execution_count": null,
      "metadata": {
        "id": "FLqdJdWFvkWV"
      },
      "outputs": [],
      "source": [
        "import scipy.stats as st"
      ]
    },
    {
      "cell_type": "code",
      "execution_count": null,
      "metadata": {
        "colab": {
          "base_uri": "https://localhost:8080/"
        },
        "id": "Fo0U8VmdEl_L",
        "outputId": "abbde8f9-e276-41c8-94d6-e225dd662ec8"
      },
      "outputs": [
        {
          "data": {
            "text/plain": [
              "0.3085"
            ]
          },
          "execution_count": 21,
          "metadata": {},
          "output_type": "execute_result"
        }
      ],
      "source": [
        "1-np.round(norm.cdf(0.5),4)"
      ]
    },
    {
      "cell_type": "code",
      "execution_count": null,
      "metadata": {
        "id": "Nu-h5T3qvuMP"
      },
      "outputs": [],
      "source": [
        "z=(69.1-65)/2.5"
      ]
    },
    {
      "cell_type": "code",
      "execution_count": null,
      "metadata": {
        "colab": {
          "base_uri": "https://localhost:8080/"
        },
        "id": "V2nQLrf2vuIu",
        "outputId": "4051b4e6-b739-4bc2-fcec-3f80230c146d"
      },
      "outputs": [
        {
          "data": {
            "text/plain": [
              "1.6399999999999977"
            ]
          },
          "execution_count": 14,
          "metadata": {},
          "output_type": "execute_result"
        }
      ],
      "source": [
        "z"
      ]
    },
    {
      "cell_type": "code",
      "execution_count": null,
      "metadata": {
        "colab": {
          "base_uri": "https://localhost:8080/",
          "height": 109
        },
        "id": "DuF-fHp1vuGF",
        "outputId": "2fae7359-f89f-4329-fc7c-b648423b8064"
      },
      "outputs": [
        {
          "ename": "SyntaxError",
          "evalue": "invalid syntax (<ipython-input-11-57fdbdb34d6c>, line 1)",
          "output_type": "error",
          "traceback": [
            "\u001b[0;36m  File \u001b[0;32m\"<ipython-input-11-57fdbdb34d6c>\"\u001b[0;36m, line \u001b[0;32m1\u001b[0m\n\u001b[0;31m    1 norm.cdf(z)\u001b[0m\n\u001b[0m      ^\u001b[0m\n\u001b[0;31mSyntaxError\u001b[0m\u001b[0;31m:\u001b[0m invalid syntax\n"
          ]
        }
      ],
      "source": [
        "1 norm.cdf(z)"
      ]
    },
    {
      "cell_type": "code",
      "execution_count": null,
      "metadata": {
        "colab": {
          "base_uri": "https://localhost:8080/"
        },
        "id": "lQAqQ9jpvuDb",
        "outputId": "d82eb9f2-f0d6-4674-8ebb-493edf771e11"
      },
      "outputs": [
        {
          "data": {
            "text/plain": [
              "0.949497416525896"
            ]
          },
          "execution_count": 15,
          "metadata": {},
          "output_type": "execute_result"
        }
      ],
      "source": [
        "st.norm.cdf(z)"
      ]
    },
    {
      "cell_type": "markdown",
      "metadata": {
        "id": "P1id_ja_I4Qm"
      },
      "source": [
        "how many people shorter than 62.5 value"
      ]
    },
    {
      "cell_type": "code",
      "execution_count": null,
      "metadata": {
        "colab": {
          "base_uri": "https://localhost:8080/"
        },
        "id": "N020GRPyJBzl",
        "outputId": "487bd2b2-a7d7-49c2-9566-6aba1b485e01"
      },
      "outputs": [
        {
          "data": {
            "text/plain": [
              "-1.0"
            ]
          },
          "execution_count": 16,
          "metadata": {},
          "output_type": "execute_result"
        }
      ],
      "source": [
        "z=(62.5-65)/2.5\n",
        "z"
      ]
    },
    {
      "cell_type": "code",
      "execution_count": null,
      "metadata": {
        "colab": {
          "base_uri": "https://localhost:8080/"
        },
        "id": "cOBVGQI-JBwZ",
        "outputId": "aff31cb3-35c3-4ae9-b706-da6841cc3000"
      },
      "outputs": [
        {
          "data": {
            "text/plain": [
              "0.15865525393145707"
            ]
          },
          "execution_count": 17,
          "metadata": {},
          "output_type": "execute_result"
        }
      ],
      "source": [
        "st.norm.cdf(z)"
      ]
    },
    {
      "cell_type": "markdown",
      "metadata": {
        "id": "VFd0ncN6JhWf"
      },
      "source": [
        "what fraction of people shorter than 67.5?"
      ]
    },
    {
      "cell_type": "code",
      "execution_count": null,
      "metadata": {
        "colab": {
          "base_uri": "https://localhost:8080/"
        },
        "id": "HEiU7JcsJBth",
        "outputId": "30bc7d2d-d67b-4b54-d22f-416cb2c5d152"
      },
      "outputs": [
        {
          "data": {
            "text/plain": [
              "1.0"
            ]
          },
          "execution_count": 18,
          "metadata": {},
          "output_type": "execute_result"
        }
      ],
      "source": [
        "#mu-sigma\n",
        "#lets assume z sigma away form mean value\n",
        "#mu-z *sigma=65.5\n",
        "z=(67.5-65)/2.5\n",
        "z"
      ]
    },
    {
      "cell_type": "code",
      "execution_count": null,
      "metadata": {
        "colab": {
          "base_uri": "https://localhost:8080/"
        },
        "id": "7tT3f9clJBql",
        "outputId": "aab87707-4366-4bb3-88be-18c26a9bb844"
      },
      "outputs": [
        {
          "data": {
            "text/plain": [
              "0.8413447460685429"
            ]
          },
          "execution_count": 19,
          "metadata": {},
          "output_type": "execute_result"
        }
      ],
      "source": [
        "st.norm.cdf(z)"
      ]
    },
    {
      "cell_type": "code",
      "execution_count": null,
      "metadata": {
        "colab": {
          "base_uri": "https://localhost:8080/"
        },
        "id": "a2yneoDFJBn8",
        "outputId": "3f5c20f4-8c6e-43ea-e60d-b4be7794c280"
      },
      "outputs": [
        {
          "data": {
            "text/plain": [
              "0.6826894921370859"
            ]
          },
          "execution_count": 20,
          "metadata": {},
          "output_type": "execute_result"
        }
      ],
      "source": [
        "st.norm.cdf(1) - st.norm.cdf(-1)"
      ]
    },
    {
      "cell_type": "markdown",
      "metadata": {
        "id": "MhDgoALfLiee"
      },
      "source": [
        "# Percent point function -PPF"
      ]
    },
    {
      "cell_type": "markdown",
      "metadata": {
        "id": "g4J_SdbnOPAj"
      },
      "source": [
        "96 % people short than me then what is my height?\n",
        "inverse of cdf"
      ]
    },
    {
      "cell_type": "code",
      "execution_count": null,
      "metadata": {
        "colab": {
          "base_uri": "https://localhost:8080/"
        },
        "id": "1-86iiUILmsB",
        "outputId": "01165f4b-6729-4861-f540-cbe290099766"
      },
      "outputs": [
        {
          "data": {
            "text/plain": [
              "1.7506860712521692"
            ]
          },
          "execution_count": 21,
          "metadata": {},
          "output_type": "execute_result"
        }
      ],
      "source": [
        "st.norm.ppf(0.96)"
      ]
    },
    {
      "cell_type": "markdown",
      "metadata": {
        "id": "L3l4V2w4pRyn"
      },
      "source": [
        "A packaging plant fills bags with cement.\n",
        "\n",
        "The weight of the cement bags can be modelled by a normal distribution with a mean of 50kg and a standard deviation of 2 kg.\n",
        "\n",
        "Find the weight x that is exceeded by 99% of the bags."
      ]
    },
    {
      "cell_type": "code",
      "execution_count": null,
      "metadata": {
        "colab": {
          "base_uri": "https://localhost:8080/"
        },
        "id": "DSBzv20spWjO",
        "outputId": "de68b26e-8d5e-46de-b3d1-352b252a06b0"
      },
      "outputs": [
        {
          "data": {
            "text/plain": [
              "2.3263478740408408"
            ]
          },
          "execution_count": 22,
          "metadata": {},
          "output_type": "execute_result"
        }
      ],
      "source": [
        "#mu=50\n",
        "# sigma=2\n",
        "#x?\n",
        "#ppf=99%\n",
        "norm.ppf(0.99)"
      ]
    },
    {
      "cell_type": "code",
      "execution_count": null,
      "metadata": {
        "colab": {
          "base_uri": "https://localhost:8080/"
        },
        "id": "snj-wmQVqBME",
        "outputId": "b200c8ac-80fa-4169-86a8-f9934e4f85b5"
      },
      "outputs": [
        {
          "data": {
            "text/plain": [
              "45.348"
            ]
          },
          "execution_count": 26,
          "metadata": {},
          "output_type": "execute_result"
        }
      ],
      "source": [
        "x=50-2.326*2\n",
        "x"
      ]
    },
    {
      "cell_type": "markdown",
      "metadata": {
        "id": "92alqmfysFn1"
      },
      "source": [
        "It is known that the height of the students of ABC school follows a normal distribution with a mean of 170 cm and a standard deviation of 10 cm.\n",
        "\n",
        "What would be the height of a student, corresponding to a Z-Score of 1.5?"
      ]
    },
    {
      "cell_type": "code",
      "execution_count": null,
      "metadata": {
        "colab": {
          "base_uri": "https://localhost:8080/"
        },
        "id": "o0xWpKfgsGvv",
        "outputId": "5259f1bd-b6db-43fb-c579-2d296e7cddb9"
      },
      "outputs": [
        {
          "data": {
            "text/plain": [
              "185.0"
            ]
          },
          "execution_count": 27,
          "metadata": {},
          "output_type": "execute_result"
        }
      ],
      "source": [
        "#mu = 170cm\n",
        "# sigma = 10 cm\n",
        "#z = 1.5\n",
        "# x= mu+ z* sigma\n",
        "x= 170 + 1.5 *  10\n",
        "x"
      ]
    },
    {
      "cell_type": "markdown",
      "metadata": {
        "id": "bU99UA-Ks5fA"
      },
      "source": [
        "Based on extensive data from an urban freeway near Toronto, Canada.\n",
        "\n",
        "It is observed that freeway speeds can best be represented by a normal distribution.\n",
        "\n",
        "The mean and standard deviation reported were 119 km/h and 13.1 km/h, respectively. Which speed is among the fastest 10% of all speeds?"
      ]
    },
    {
      "cell_type": "code",
      "execution_count": null,
      "metadata": {
        "id": "-vUnqOhss6uC"
      },
      "outputs": [],
      "source": [
        "#mu = 119 km/h\n",
        "# sigma = 13 km/h\n",
        "# ppe = 10 %\n",
        "# x= mu+ z* sigma\n",
        "z=norm.ppf(0.90)"
      ]
    },
    {
      "cell_type": "code",
      "execution_count": null,
      "metadata": {
        "colab": {
          "base_uri": "https://localhost:8080/"
        },
        "id": "IzSjKNzXtXeO",
        "outputId": "97138712-6bf4-4d85-dc8c-3d473516f681"
      },
      "outputs": [
        {
          "data": {
            "text/plain": [
              "135.6601703520798"
            ]
          },
          "execution_count": 33,
          "metadata": {},
          "output_type": "execute_result"
        }
      ],
      "source": [
        "x= 119 +  z*13\n",
        "x"
      ]
    },
    {
      "cell_type": "markdown",
      "metadata": {
        "id": "YtoT7WHqvq96"
      },
      "source": [
        "Suppose your city has a large population, where the average height is 65 inches with a standard deviation of 4 inches, and your height is 60 inches.\n",
        "\n",
        "What is the probability that a randomly selected person in your city is shorter than you?\n",
        "(Round off the answer to 4 decimal points)"
      ]
    },
    {
      "cell_type": "code",
      "execution_count": null,
      "metadata": {
        "colab": {
          "base_uri": "https://localhost:8080/"
        },
        "id": "PbsP3ya7vr2L",
        "outputId": "274234a6-5334-47fc-d5fc-83faacc7fea0"
      },
      "outputs": [
        {
          "data": {
            "text/plain": [
              "-1.25"
            ]
          },
          "execution_count": 37,
          "metadata": {},
          "output_type": "execute_result"
        }
      ],
      "source": [
        "#mu = 65 inches\n",
        "# sigma = 4 inches\n",
        "# what is prob of random  chosen person that height short than me x?\n",
        "# x= mu - z* sigma\n",
        "#60 = 65  - z * 4\n",
        "z =-5/4\n",
        "z"
      ]
    },
    {
      "cell_type": "code",
      "execution_count": null,
      "metadata": {
        "colab": {
          "base_uri": "https://localhost:8080/"
        },
        "id": "xKuoHHTDwTJz",
        "outputId": "8db02eba-517b-48bb-f69a-8c8412db0cdc"
      },
      "outputs": [
        {
          "data": {
            "text/plain": [
              "0.1056"
            ]
          },
          "execution_count": 38,
          "metadata": {},
          "output_type": "execute_result"
        }
      ],
      "source": [
        "np.round(norm.cdf(z),4)"
      ]
    },
    {
      "cell_type": "markdown",
      "metadata": {
        "id": "TOslI1XYxfql"
      },
      "source": [
        "The mean weight of a sample of dogs is 25 kg with a standard deviation of 3 kg. What is the z-score for a dog who weighs 20 kg ?"
      ]
    },
    {
      "cell_type": "code",
      "execution_count": null,
      "metadata": {
        "colab": {
          "base_uri": "https://localhost:8080/"
        },
        "id": "GzP0z9usxgnO",
        "outputId": "14be316b-c671-448a-bd5b-af81eb777df1"
      },
      "outputs": [
        {
          "data": {
            "text/plain": [
              "-1.6666666666666667"
            ]
          },
          "execution_count": 44,
          "metadata": {},
          "output_type": "execute_result"
        }
      ],
      "source": [
        "#mu = 25 kg\n",
        "# sigma = 3 kg\n",
        "# what is the Z score if a dog having height 20 kg?\n",
        "# x= mu - z* sigma\n",
        "#20 = 25  - z * 3\n",
        "z =-5/3\n",
        "z"
      ]
    },
    {
      "cell_type": "code",
      "execution_count": null,
      "metadata": {
        "colab": {
          "base_uri": "https://localhost:8080/"
        },
        "id": "G0UgyxEIyA8I",
        "outputId": "2467d442-544d-42cc-8d8d-fcb452a79a17"
      },
      "outputs": [
        {
          "data": {
            "text/plain": [
              "0.0477903522728147"
            ]
          },
          "execution_count": 45,
          "metadata": {},
          "output_type": "execute_result"
        }
      ],
      "source": [
        "norm.cdf(z)"
      ]
    },
    {
      "cell_type": "code",
      "execution_count": null,
      "metadata": {
        "id": "n3bfs52qCauG"
      },
      "outputs": [],
      "source": [
        "import numpy as np\n",
        "import pandas as pd\n",
        "import matplotlib.pyplot as plt\n",
        "import seaborn as sns"
      ]
    },
    {
      "cell_type": "code",
      "execution_count": null,
      "metadata": {
        "id": "mR0iuNg5jOF_"
      },
      "outputs": [],
      "source": [
        "from scipy.stats import norm"
      ]
    },
    {
      "cell_type": "code",
      "execution_count": null,
      "metadata": {
        "id": "UV4qpsw8CWPi"
      },
      "outputs": [],
      "source": [
        "import math"
      ]
    },
    {
      "cell_type": "code",
      "execution_count": null,
      "metadata": {
        "colab": {
          "base_uri": "https://localhost:8080/"
        },
        "id": "exs0B9JjOxV0",
        "outputId": "6ee6f5b9-afd6-4bc0-c9ce-d2164721a3d9"
      },
      "outputs": [
        {
          "data": {
            "text/plain": [
              "69.375"
            ]
          },
          "execution_count": 22,
          "metadata": {},
          "output_type": "execute_result"
        }
      ],
      "source": [
        "#height=mu+z*sigma\n",
        "height=65+1.75*2.5\n",
        "height"
      ]
    },
    {
      "cell_type": "code",
      "execution_count": null,
      "metadata": {
        "colab": {
          "base_uri": "https://localhost:8080/"
        },
        "id": "O_-zKTi1OxSb",
        "outputId": "0fa7c43b-2d83-4c2c-ee51-b0b7c9bc7499"
      },
      "outputs": [
        {
          "data": {
            "text/plain": [
              "55.0"
            ]
          },
          "execution_count": 23,
          "metadata": {},
          "output_type": "execute_result"
        }
      ],
      "source": [
        "x=50+2*2.5\n",
        "x"
      ]
    },
    {
      "cell_type": "code",
      "execution_count": null,
      "metadata": {
        "colab": {
          "base_uri": "https://localhost:8080/"
        },
        "id": "H1LY70j7UR2W",
        "outputId": "49a32b41-bc12-401b-b854-b3f8cc86c0a5"
      },
      "outputs": [
        {
          "data": {
            "text/plain": [
              "0.9772"
            ]
          },
          "execution_count": 30,
          "metadata": {},
          "output_type": "execute_result"
        }
      ],
      "source": [
        "round(st.norm.cdf(2),4)"
      ]
    },
    {
      "cell_type": "code",
      "execution_count": null,
      "metadata": {
        "colab": {
          "base_uri": "https://localhost:8080/"
        },
        "id": "faGgbwliwlKU",
        "outputId": "47fb0af0-ffd4-456e-ce9e-b0f528565fdf"
      },
      "outputs": [
        {
          "data": {
            "text/plain": [
              "0.9331927987311419"
            ]
          },
          "execution_count": 3,
          "metadata": {},
          "output_type": "execute_result"
        }
      ],
      "source": [
        "st.norm.cdf(1.5)"
      ]
    },
    {
      "cell_type": "code",
      "execution_count": null,
      "metadata": {
        "colab": {
          "base_uri": "https://localhost:8080/"
        },
        "id": "sY7wmx8kxbO-",
        "outputId": "f9d598c0-f431-4152-f615-5f9b63eaab2c"
      },
      "outputs": [
        {
          "data": {
            "text/plain": [
              "-0.968"
            ]
          },
          "execution_count": 4,
          "metadata": {},
          "output_type": "execute_result"
        }
      ],
      "source": [
        "s=-2.42/2.5\n",
        "s"
      ]
    },
    {
      "cell_type": "code",
      "execution_count": null,
      "metadata": {
        "colab": {
          "base_uri": "https://localhost:8080/"
        },
        "id": "seVXCiw2xf1i",
        "outputId": "3252d2f9-d2b9-4dd1-a625-ac8fa7cbfb40"
      },
      "outputs": [
        {
          "data": {
            "text/plain": [
              "0.16652218485017045"
            ]
          },
          "execution_count": 5,
          "metadata": {},
          "output_type": "execute_result"
        }
      ],
      "source": [
        "st.norm.cdf(s)"
      ]
    },
    {
      "cell_type": "code",
      "execution_count": null,
      "metadata": {
        "colab": {
          "base_uri": "https://localhost:8080/"
        },
        "id": "xSylbss20aDB",
        "outputId": "efe8adfc-24a0-4f9c-bee1-8fc1e228b7ee"
      },
      "outputs": [
        {
          "data": {
            "text/plain": [
              "0       73.847017\n",
              "1       68.781904\n",
              "2       74.110105\n",
              "3       71.730978\n",
              "4       69.881796\n",
              "          ...    \n",
              "9995    66.172652\n",
              "9996    67.067155\n",
              "9997    63.867992\n",
              "9998    69.034243\n",
              "9999    61.944246\n",
              "Name: Height, Length: 10000, dtype: float64"
            ]
          },
          "execution_count": 9,
          "metadata": {},
          "output_type": "execute_result"
        }
      ],
      "source": [
        "df_height"
      ]
    },
    {
      "cell_type": "code",
      "execution_count": null,
      "metadata": {
        "id": "T0JDBgAU0gWg"
      },
      "outputs": [],
      "source": [
        "mu=df_height.mean()"
      ]
    },
    {
      "cell_type": "code",
      "execution_count": null,
      "metadata": {
        "id": "SBxu1pbO0gTF"
      },
      "outputs": [],
      "source": [
        "sigma=df_height.std()"
      ]
    },
    {
      "cell_type": "code",
      "execution_count": null,
      "metadata": {
        "colab": {
          "base_uri": "https://localhost:8080/",
          "height": 467
        },
        "id": "hGcwcjN50gQZ",
        "outputId": "c2a44d98-0ad3-48af-da35-88abc70f5e60"
      },
      "outputs": [
        {
          "data": {
            "text/plain": [
              "<Axes: xlabel='Height', ylabel='Count'>"
            ]
          },
          "execution_count": 15,
          "metadata": {},
          "output_type": "execute_result"
        },
        {
          "data": {
            "image/png": "[encoded data removed]",
            "text/plain": [
              "<Figure size 640x480 with 1 Axes>"
            ]
          },
          "metadata": {},
          "output_type": "display_data"
        }
      ],
      "source": [
        "sns.histplot(df_height)"
      ]
    },
    {
      "cell_type": "code",
      "execution_count": null,
      "metadata": {
        "id": "agByo_bW0gNe"
      },
      "outputs": [],
      "source": [
        "s1=df_height.sample(5)"
      ]
    },
    {
      "cell_type": "code",
      "execution_count": null,
      "metadata": {
        "colab": {
          "base_uri": "https://localhost:8080/"
        },
        "id": "G_9GJujX1J_s",
        "outputId": "5083e8ce-be28-4fae-f537-2f3d5abd13e2"
      },
      "outputs": [
        {
          "data": {
            "text/plain": [
              "66.52772638694204"
            ]
          },
          "execution_count": 22,
          "metadata": {},
          "output_type": "execute_result"
        }
      ],
      "source": [
        "s1.mean()"
      ]
    },
    {
      "cell_type": "code",
      "execution_count": null,
      "metadata": {
        "colab": {
          "base_uri": "https://localhost:8080/"
        },
        "id": "o1da4Uhe_f-R",
        "outputId": "6d33a255-8c8e-437c-f4ef-301667eea905"
      },
      "outputs": [
        {
          "data": {
            "text/plain": [
              "3.4958782671255486"
            ]
          },
          "execution_count": 34,
          "metadata": {},
          "output_type": "execute_result"
        }
      ],
      "source": [
        "np.std(s1)"
      ]
    },
    {
      "cell_type": "code",
      "execution_count": null,
      "metadata": {
        "colab": {
          "base_uri": "https://localhost:8080/"
        },
        "id": "9DZhg6k91J8G",
        "outputId": "759af466-7bec-4712-bde0-7508dc08b28f"
      },
      "outputs": [
        {
          "data": {
            "text/plain": [
              "70.91316315167869"
            ]
          },
          "execution_count": 24,
          "metadata": {},
          "output_type": "execute_result"
        }
      ],
      "source": [
        "np.mean(df_height.sample(5))"
      ]
    },
    {
      "cell_type": "code",
      "execution_count": null,
      "metadata": {
        "colab": {
          "base_uri": "https://localhost:8080/"
        },
        "id": "1PZL8qsX_oOP",
        "outputId": "66f725f3-dc90-459e-c4a3-860d104eb6da"
      },
      "outputs": [
        {
          "data": {
            "text/plain": [
              "3.196299358093991"
            ]
          },
          "execution_count": 37,
          "metadata": {},
          "output_type": "execute_result"
        }
      ],
      "source": [
        "np.std(df_height.sample(5))"
      ]
    },
    {
      "cell_type": "markdown",
      "metadata": {
        "id": "uWA2zB021i19"
      },
      "source": [
        "repeat -10000 time"
      ]
    },
    {
      "cell_type": "code",
      "execution_count": null,
      "metadata": {
        "colab": {
          "base_uri": "https://localhost:8080/"
        },
        "id": "CkpeQezq1J5A",
        "outputId": "2d49450a-76e9-408c-f2ca-93a6bbfab493"
      },
      "outputs": [
        {
          "data": {
            "text/plain": [
              "[63.90036566775054,\n",
              " 65.13047350261931,\n",
              " 64.90399679966616,\n",
              " 68.73484757186945,\n",
              " 67.55592819534385,\n",
              " 68.55054974277539,\n",
              " 62.13337921854516,\n",
              " 64.53668294406751,\n",
              " 68.17859651128717,\n",
              " 68.0747579057534,\n",
              " 69.18911013423318,\n",
              " 66.50513171531452,\n",
              " 67.062225647319,\n",
              " 63.030042390792765,\n",
              " 68.17760376526603,\n",
              " 66.61658398301657,\n",
              " 66.75766644560677,\n",
              " 68.9633146913588,\n",
              " 65.58270148476109,\n",
              " 63.17119306408512,\n",
              " 66.74467219273629,\n",
              " 65.9723796622007,\n",
              " 65.46443750551973,\n",
              " 67.58057564166822,\n",
              " 64.85084570080602,\n",
              " 70.61110466940704,\n",
              " 65.38485105410383,\n",
              " 67.94131276704947,\n",
              " 64.96425699888485,\n",
              " 66.22476527297958,\n",
              " 63.67174657575595,\n",
              " 64.95695259692398,\n",
              " 64.5304325117359,\n",
              " 67.26431863704128,\n",
              " 66.50010199877924,\n",
              " 67.6689914507227,\n",
              " 64.92048850968811,\n",
              " 65.69465190585137,\n",
              " 66.2540701969801,\n",
              " 67.74078991760312,\n",
              " 66.29480264649027,\n",
              " 66.62353561505056,\n",
              " 65.94846697608246,\n",
              " 69.72198844588863,\n",
              " 65.02293524691757,\n",
              " 68.44508867838248,\n",
              " 68.12970041391112,\n",
              " 68.82795953637563,\n",
              " 66.9824658013223,\n",
              " 68.8766933280657,\n",
              " 67.06221705204113,\n",
              " 68.06098403054825,\n",
              " 66.24951524912034,\n",
              " 63.735695590588556,\n",
              " 69.27318376912498,\n",
              " 66.92678245158143,\n",
              " 64.8440753698783,\n",
              " 68.53805894672486,\n",
              " 65.64235424827606,\n",
              " 69.97812926429704,\n",
              " 67.12504831032356,\n",
              " 67.66776436689472,\n",
              " 63.09343692298321,\n",
              " 66.12047745538558,\n",
              " 65.18592987927256,\n",
              " 64.82437494640128,\n",
              " 63.9760301465102,\n",
              " 65.45621344657127,\n",
              " 68.79227501508292,\n",
              " 68.30574833583118,\n",
              " 65.60231912961179,\n",
              " 64.88764908730757,\n",
              " 67.60056242898511,\n",
              " 66.99160916235961,\n",
              " 61.876335378689724,\n",
              " 65.8686724931944,\n",
              " 65.99468656790415,\n",
              " 63.7685825048888,\n",
              " 66.79848203472957,\n",
              " 64.2694337605061,\n",
              " 67.63575334556913,\n",
              " 63.284615713729785,\n",
              " 65.71235997016898,\n",
              " 64.908045811244,\n",
              " 68.39791196917818,\n",
              " 67.61795226209986,\n",
              " 70.10368595546562,\n",
              " 61.2384859099035,\n",
              " 69.00113351095139,\n",
              " 69.75794847374273,\n",
              " 66.29375879364062,\n",
              " 67.55308388361186,\n",
              " 65.96373706357966,\n",
              " 62.876349649166876,\n",
              " 67.60936745100494,\n",
              " 69.14482539930395,\n",
              " 66.3323419075156,\n",
              " 66.64068388431761,\n",
              " 65.90823268454838,\n",
              " 63.55686790599647,\n",
              " 66.30126251069353,\n",
              " 66.10408568326343,\n",
              " 63.34173817586952,\n",
              " 68.44956447005217,\n",
              " 66.25471674380661,\n",
              " 67.03369791787097,\n",
              " 65.72806800045636,\n",
              " 67.382265204784,\n",
              " 68.34337142957779,\n",
              " 66.15897166155402,\n",
              " 67.54931156541159,\n",
              " 68.98718635510332,\n",
              " 66.24366849747798,\n",
              " 65.95468815847605,\n",
              " 67.88672149172329,\n",
              " 65.1479483577338,\n",
              " 67.09497483315076,\n",
              " 67.72409496075214,\n",
              " 68.42147594237511,\n",
              " 66.5644615992565,\n",
              " 64.09548671227279,\n",
              " 64.96398250406942,\n",
              " 63.58258709044064,\n",
              " 64.30510654499358,\n",
              " 67.92617494091016,\n",
              " 68.09715517592363,\n",
              " 68.76948143372255,\n",
              " 66.12121687604483,\n",
              " 65.89674127929386,\n",
              " 67.16752081479132,\n",
              " 66.6981064580241,\n",
              " 69.2912719511338,\n",
              " 66.61680804118011,\n",
              " 66.02168881972622,\n",
              " 65.0345600695512,\n",
              " 65.1476206439617,\n",
              " 65.76479216434099,\n",
              " 67.5934151567649,\n",
              " 64.9289476176025,\n",
              " 64.0365231853815,\n",
              " 67.7435433228475,\n",
              " 63.867210482309474,\n",
              " 69.60738500668394,\n",
              " 67.61532778222058,\n",
              " 64.4696907827352,\n",
              " 66.23155108652077,\n",
              " 67.71153028813418,\n",
              " 67.08933188587851,\n",
              " 69.0323189686411,\n",
              " 66.13383183169086,\n",
              " 62.7586800400569,\n",
              " 64.42116144350436,\n",
              " 69.97169393590862,\n",
              " 65.62019978749495,\n",
              " 65.15534232556504,\n",
              " 64.67245915925248,\n",
              " 65.96480633131974,\n",
              " 64.84955014358647,\n",
              " 65.14736006223293,\n",
              " 67.01790835832517,\n",
              " 66.39404210347402,\n",
              " 66.79708104211315,\n",
              " 66.33497592765431,\n",
              " 67.00739683535485,\n",
              " 65.9164075116221,\n",
              " 64.34345028531574,\n",
              " 64.79135154263564,\n",
              " 66.6507141663411,\n",
              " 66.01061464338514,\n",
              " 65.79425610560165,\n",
              " 68.30989719127764,\n",
              " 70.15444230642585,\n",
              " 68.88662430059442,\n",
              " 65.79248469867261,\n",
              " 68.47807569027535,\n",
              " 66.12357037386069,\n",
              " 66.24273784288206,\n",
              " 64.43622039850132,\n",
              " 67.27135132148842,\n",
              " 67.2577872415436,\n",
              " 68.27137916624345,\n",
              " 65.00036887995864,\n",
              " 65.66353686025175,\n",
              " 68.05543787442232,\n",
              " 66.70052402162739,\n",
              " 64.79660648846155,\n",
              " 65.23699577016839,\n",
              " 66.66759390860932,\n",
              " 66.95218590805754,\n",
              " 65.60027717229961,\n",
              " 70.86480525330448,\n",
              " 65.8641757523545,\n",
              " 63.605055032569055,\n",
              " 66.07964559308577,\n",
              " 67.94132686465429,\n",
              " 66.14376356765987,\n",
              " 66.08032929952552,\n",
              " 65.5905017785649,\n",
              " 65.91385003193922,\n",
              " 67.00350360802993,\n",
              " 65.04875727809653,\n",
              " 67.81079785027484,\n",
              " 66.08535108799722,\n",
              " 68.49721659827314,\n",
              " 64.01704874130544,\n",
              " 68.02008738208994,\n",
              " 68.39476310083845,\n",
              " 64.04452918497336,\n",
              " 64.2665890384236,\n",
              " 65.38181754473226,\n",
              " 66.34146717900339,\n",
              " 65.87442897359787,\n",
              " 68.34039559332712,\n",
              " 62.80103478734874,\n",
              " 64.73840099419674,\n",
              " 63.490232451685515,\n",
              " 67.20830356210271,\n",
              " 66.13996392808022,\n",
              " 66.2721779531394,\n",
              " 65.57381852806921,\n",
              " 62.73339987918234,\n",
              " 65.32747534156594,\n",
              " 63.52656732383612,\n",
              " 68.2303518197846,\n",
              " 66.90840143517335,\n",
              " 67.04830455346261,\n",
              " 66.79140577517157,\n",
              " 67.88430886833861,\n",
              " 70.07392888219786,\n",
              " 65.46194822213467,\n",
              " 65.32063832761952,\n",
              " 68.01553143552731,\n",
              " 65.38135167360295,\n",
              " 63.67868099761314,\n",
              " 65.9957422342562,\n",
              " 66.39512271357151,\n",
              " 64.25851778593422,\n",
              " 63.6365271488181,\n",
              " 68.1210736009954,\n",
              " 66.66173800764659,\n",
              " 66.98879846389056,\n",
              " 67.37263268276615,\n",
              " 67.27493167159506,\n",
              " 63.67836248408086,\n",
              " 69.18256976140535,\n",
              " 66.89335880182013,\n",
              " 67.97782481067198,\n",
              " 66.92106862410392,\n",
              " 65.37146196713545,\n",
              " 66.41995231695137,\n",
              " 64.51680992352496,\n",
              " 64.56695198188018,\n",
              " 66.2788020704568,\n",
              " 69.22931800206727,\n",
              " 64.49082363831906,\n",
              " 70.06491057084983,\n",
              " 63.380776225772095,\n",
              " 67.46957025972078,\n",
              " 65.48787591944448,\n",
              " 71.21310508962388,\n",
              " 68.11807582910308,\n",
              " 66.79534549196183,\n",
              " 66.95434995479482,\n",
              " 67.01762834661452,\n",
              " 65.19306242961963,\n",
              " 66.78630112000056,\n",
              " 64.90137620098099,\n",
              " 65.93989260976558,\n",
              " 68.7409077183155,\n",
              " 67.42155285357008,\n",
              " 66.94734207017204,\n",
              " 67.75818071034925,\n",
              " 65.07959764343296,\n",
              " 66.3605834118953,\n",
              " 66.990237852258,\n",
              " 68.56116340007506,\n",
              " 63.97068866527068,\n",
              " 65.52547138751191,\n",
              " 65.37373888161471,\n",
              " 66.22603591561769,\n",
              " 65.24760766220069,\n",
              " 66.47869124372444,\n",
              " 67.48104032255684,\n",
              " 67.07814122565834,\n",
              " 68.08133892650268,\n",
              " 68.70571290039473,\n",
              " 67.63931150514682,\n",
              " 64.01367591199862,\n",
              " 67.26132360928192,\n",
              " 67.3313415343523,\n",
              " 64.54679793249935,\n",
              " 68.92190020015252,\n",
              " 65.04622209273917,\n",
              " 64.3676991496275,\n",
              " 65.09910318448671,\n",
              " 66.70090191088092,\n",
              " 66.02749890051413,\n",
              " 66.08326383442738,\n",
              " 67.43379193928959,\n",
              " 67.6277214665372,\n",
              " 67.56543342181756,\n",
              " 69.6013450312939,\n",
              " 69.69397334609111,\n",
              " 65.83812080220284,\n",
              " 67.92461026846962,\n",
              " 65.75113291583975,\n",
              " 65.5363364546698,\n",
              " 67.02532932288636,\n",
              " 66.60364720648704,\n",
              " 67.36022013389768,\n",
              " 66.69882019807986,\n",
              " 69.89797798904539,\n",
              " 66.26244332220578,\n",
              " 64.59405389443093,\n",
              " 67.2409611237247,\n",
              " 66.50721621761254,\n",
              " 66.2824781139237,\n",
              " 65.48995677111927,\n",
              " 64.76891721427884,\n",
              " 64.46751452570228,\n",
              " 69.40929457205887,\n",
              " 67.49694139227735,\n",
              " 66.83670032241245,\n",
              " 65.69838017960376,\n",
              " 67.04192422003004,\n",
              " 68.01289401212827,\n",
              " 66.01227756359336,\n",
              " 67.29309678206602,\n",
              " 63.98526547576277,\n",
              " 64.80378534679153,\n",
              " 70.43845475053686,\n",
              " 66.81149232946363,\n",
              " 67.71933681358901,\n",
              " 68.5837933314513,\n",
              " 66.55776955467259,\n",
              " 65.54604680436209,\n",
              " 64.99106761003152,\n",
              " 65.6395609034195,\n",
              " 66.8256532149745,\n",
              " 66.3912918220347,\n",
              " 64.87524412981355,\n",
              " 64.30021835233335,\n",
              " 67.04753380459665,\n",
              " 66.18735563289734,\n",
              " 65.06574619077006,\n",
              " 64.40749942767114,\n",
              " 66.197012939897,\n",
              " 66.51132407751388,\n",
              " 67.31916703042762,\n",
              " 70.06783755907176,\n",
              " 67.32326396141211,\n",
              " 68.098432093392,\n",
              " 64.66217531281265,\n",
              " 64.39467573014619,\n",
              " 66.01353930129065,\n",
              " 69.84154506926947,\n",
              " 71.12978411867698,\n",
              " 67.13042860620956,\n",
              " 68.52753587596095,\n",
              " 68.09230847311638,\n",
              " 66.26256769430907,\n",
              " 66.35973113537497,\n",
              " 64.61988125777688,\n",
              " 65.05791228614692,\n",
              " 68.58106865982684,\n",
              " 71.00316779400372,\n",
              " 67.59441959040736,\n",
              " 67.78819244992879,\n",
              " 63.5227557421372,\n",
              " 66.53418216350092,\n",
              " 64.70632337392206,\n",
              " 66.77585673592716,\n",
              " 64.74349713790559,\n",
              " 63.72557442136836,\n",
              " 68.3660460946775,\n",
              " 67.19578706520943,\n",
              " 69.65732679939804,\n",
              " 67.41052757162831,\n",
              " 66.41829546262299,\n",
              " 63.81544305635673,\n",
              " 66.24000681186769,\n",
              " 63.46042098207941,\n",
              " 65.12057283024224,\n",
              " 63.941139912415636,\n",
              " 66.84025313113901,\n",
              " 66.50167705963442,\n",
              " 67.0156739604665,\n",
              " 65.19467774686932,\n",
              " 67.5012058173069,\n",
              " 65.68486612754194,\n",
              " 67.62763829843114,\n",
              " 66.46450569586082,\n",
              " 68.47629357229141,\n",
              " 65.179255515783,\n",
              " 67.79281839563954,\n",
              " 67.09125520186012,\n",
              " 67.51282045537003,\n",
              " 66.97639207033782,\n",
              " 64.17699849306062,\n",
              " 64.78147895398712,\n",
              " 65.92179443909814,\n",
              " 65.98565389782142,\n",
              " 65.89140008710123,\n",
              " 64.94341519568687,\n",
              " 66.56184525029076,\n",
              " 66.22143813900651,\n",
              " 67.84183482085125,\n",
              " 70.52846139588743,\n",
              " 66.4247916159419,\n",
              " 65.53569330065636,\n",
              " 65.25334781026532,\n",
              " 64.30274057830928,\n",
              " 63.369075130685204,\n",
              " 69.28725368894702,\n",
              " 65.90672309983287,\n",
              " 68.76382374845383,\n",
              " 67.25688919694241,\n",
              " 69.12198850331227,\n",
              " 66.72162723462323,\n",
              " 67.85740091438922,\n",
              " 65.322188917412,\n",
              " 69.05915035092166,\n",
              " 65.92210102801324,\n",
              " 66.99448751374798,\n",
              " 65.26844845917825,\n",
              " 67.10462882665593,\n",
              " 68.24840860850426,\n",
              " 64.42997543319223,\n",
              " 68.21829673937508,\n",
              " 64.84945373807795,\n",
              " 68.16840152600562,\n",
              " 63.60121332742108,\n",
              " 67.47875338808407,\n",
              " 69.68092392948614,\n",
              " 66.11193147306895,\n",
              " 67.25604181285456,\n",
              " 65.39221488457493,\n",
              " 67.49152809404055,\n",
              " 67.12979654038124,\n",
              " 63.465907791831526,\n",
              " 68.09211128042307,\n",
              " 69.48393562356708,\n",
              " 66.48512614151076,\n",
              " 63.89819738067511,\n",
              " 64.40751646548884,\n",
              " 66.89502392240236,\n",
              " 69.20769268865241,\n",
              " 67.46069731078578,\n",
              " 64.865461386495,\n",
              " 64.5017650406312,\n",
              " 66.266386663901,\n",
              " 66.60326018800211,\n",
              " 65.21359582005469,\n",
              " 69.47497693645009,\n",
              " 65.55508135428794,\n",
              " 67.26567173857707,\n",
              " 67.1985773567656,\n",
              " 69.74000198193643,\n",
              " 65.49300569433971,\n",
              " 63.94954583568334,\n",
              " 65.26410043896821,\n",
              " 68.4390538359555,\n",
              " 67.64057330964364,\n",
              " 63.77554946498242,\n",
              " 64.76799674521408,\n",
              " 64.48397960973526,\n",
              " 66.9485404950511,\n",
              " 68.03301653409325,\n",
              " 65.2844034967857,\n",
              " 65.34648458074841,\n",
              " 65.18262127611202,\n",
              " 68.35444413017565,\n",
              " 67.07178707011045,\n",
              " 67.06128848742033,\n",
              " 67.93210974284722,\n",
              " 67.45869143034257,\n",
              " 68.07668085945261,\n",
              " 67.969875850141,\n",
              " 66.97172416543941,\n",
              " 63.4590830064967,\n",
              " 67.26288137893786,\n",
              " 69.3827029897355,\n",
              " 70.33040306877294,\n",
              " 67.10899821651431,\n",
              " 62.184048708732384,\n",
              " 64.55699594080139,\n",
              " 66.95319801039167,\n",
              " 66.05903105293137,\n",
              " 65.5565596689243,\n",
              " 65.80331354262674,\n",
              " 65.59955584211876,\n",
              " 67.4582778512927,\n",
              " 66.05540368722905,\n",
              " 65.98006336068201,\n",
              " 67.62780671593313,\n",
              " 65.69709870799642,\n",
              " 64.35151756697434,\n",
              " 66.05289836025754,\n",
              " 67.4027536819343,\n",
              " 67.36042683692126,\n",
              " 66.25300179445986,\n",
              " 67.0452321546198,\n",
              " 66.18527304253698,\n",
              " 66.7332421010224,\n",
              " 67.71225213303302,\n",
              " 66.40340087796095,\n",
              " 68.98729778398027,\n",
              " 65.22810803876054,\n",
              " 66.7301894974531,\n",
              " 62.759069692951606,\n",
              " 64.82957574797385,\n",
              " 66.46106009729687,\n",
              " 65.20192869507292,\n",
              " 63.01364332781043,\n",
              " 68.23781673820815,\n",
              " 68.87392274598076,\n",
              " 65.61571298497958,\n",
              " 70.13266826021204,\n",
              " 67.67191761642665,\n",
              " 65.79191452002424,\n",
              " 66.58107610618663,\n",
              " 66.33809206180209,\n",
              " 66.88574012277203,\n",
              " 64.9390206517981,\n",
              " 67.11581207450347,\n",
              " 67.38165535240944,\n",
              " 69.530420573324,\n",
              " 63.88930692242874,\n",
              " 68.10873008020937,\n",
              " 69.73151299238648,\n",
              " 65.07074828748118,\n",
              " 66.17251325184444,\n",
              " 67.03961061817998,\n",
              " 67.33178072238343,\n",
              " 64.63381887152774,\n",
              " 67.07102964564959,\n",
              " 67.95081402399646,\n",
              " 66.16995863856003,\n",
              " 66.95465020610506,\n",
              " 66.00245466625933,\n",
              " 65.741798519621,\n",
              " 62.941281259796064,\n",
              " 65.38775316772308,\n",
              " 69.93089569241101,\n",
              " 67.01495644712978,\n",
              " 66.32928775443716,\n",
              " 67.15694706524657,\n",
              " 66.42638524921908,\n",
              " 65.60881272287081,\n",
              " 67.45627545811915,\n",
              " 64.60299380904922,\n",
              " 66.10271221626141,\n",
              " 64.18734647511464,\n",
              " 66.90968324247964,\n",
              " 68.57911193419277,\n",
              " 67.69100528333215,\n",
              " 65.66002630455714,\n",
              " 64.98917264230599,\n",
              " 66.30215060091295,\n",
              " 68.03043352350787,\n",
              " 62.21506477434036,\n",
              " 66.83533963592424,\n",
              " 63.78999719709236,\n",
              " 66.2787498836448,\n",
              " 64.77177427741745,\n",
              " 68.61254147170872,\n",
              " 66.13087876145042,\n",
              " 64.19226992614203,\n",
              " 66.13881664238018,\n",
              " 64.12320648136618,\n",
              " 67.05630591586053,\n",
              " 64.76105517563794,\n",
              " 65.64142144275698,\n",
              " 67.23752042075668,\n",
              " 64.53481465866108,\n",
              " 65.85461979474876,\n",
              " 66.15084040038394,\n",
              " 70.18840246989275,\n",
              " 69.72757064999607,\n",
              " 67.07548259605305,\n",
              " 67.5447861599163,\n",
              " 69.51345261602833,\n",
              " 64.69839947587384,\n",
              " 65.79948378321131,\n",
              " 67.8115083565425,\n",
              " 67.84545021783131,\n",
              " 63.65184816521694,\n",
              " 63.404482343839504,\n",
              " 65.53788500386207,\n",
              " 66.93888523986374,\n",
              " 64.91230645843571,\n",
              " 66.03380223730097,\n",
              " 66.5178185074027,\n",
              " 67.44327872292811,\n",
              " 67.14142229434802,\n",
              " 67.50984286792786,\n",
              " 67.01207208288108,\n",
              " 67.57980676507815,\n",
              " 64.77414934092947,\n",
              " 67.67515098327291,\n",
              " 63.698891007483994,\n",
              " 66.31543007037217,\n",
              " 64.60184243181814,\n",
              " 67.59558128842454,\n",
              " 67.13835893759939,\n",
              " 62.884990720891395,\n",
              " 64.4722192545325,\n",
              " 65.09179052200234,\n",
              " 68.00837049715798,\n",
              " 69.51495780689913,\n",
              " 64.03244518544588,\n",
              " 65.99108570977073,\n",
              " 64.15225392351792,\n",
              " 65.63139328656689,\n",
              " 65.29225989090594,\n",
              " 64.02801120037631,\n",
              " 66.08860175037572,\n",
              " 65.88413836206128,\n",
              " 65.19843355821033,\n",
              " 70.59456024325623,\n",
              " 68.48531297230537,\n",
              " 66.27672433691416,\n",
              " 64.27022006440178,\n",
              " 63.41274245603252,\n",
              " 67.40924151120979,\n",
              " 65.99348561582636,\n",
              " 66.7580634262432,\n",
              " 68.01842133814498,\n",
              " 68.19975822557896,\n",
              " 64.25630569205977,\n",
              " 65.857496334062,\n",
              " 66.48319076309613,\n",
              " 67.00414178160013,\n",
              " 69.20456156152451,\n",
              " 64.9954285557591,\n",
              " 67.53610601935036,\n",
              " 66.50344312964869,\n",
              " 68.21861013293963,\n",
              " 67.4273847562532,\n",
              " 67.60130400186334,\n",
              " 69.55852306991774,\n",
              " 66.94502973117274,\n",
              " 67.64069308990106,\n",
              " 63.37967817421054,\n",
              " 70.82902200461756,\n",
              " 63.848070728410434,\n",
              " 69.91634601758061,\n",
              " 65.18472396645572,\n",
              " 64.61316988275271,\n",
              " 64.6124841315926,\n",
              " 67.76608211212925,\n",
              " 65.03570314139743,\n",
              " 62.0416493618784,\n",
              " 65.36441794594568,\n",
              " 65.77629991926153,\n",
              " 64.94755875725919,\n",
              " 66.78810316536064,\n",
              " 69.01604412930854,\n",
              " 64.85683419363855,\n",
              " 68.50317746901815,\n",
              " 68.2711347476738,\n",
              " 66.91152690314762,\n",
              " 66.77852578483608,\n",
              " 64.04913954289911,\n",
              " 65.81177555381495,\n",
              " 69.99077238824835,\n",
              " 64.34517681151988,\n",
              " 67.66591869897276,\n",
              " 66.5597704318373,\n",
              " 67.96147535113832,\n",
              " 66.8874655798774,\n",
              " 69.18732371495238,\n",
              " 65.23693287813428,\n",
              " 67.61524673223057,\n",
              " 67.98192267660443,\n",
              " 65.15657644211754,\n",
              " 66.34887080320011,\n",
              " 67.32844917366143,\n",
              " 66.34509501343635,\n",
              " 68.54395567110434,\n",
              " 69.10444352374058,\n",
              " 63.55982112063774,\n",
              " 65.89264416737453,\n",
              " 64.52922421062375,\n",
              " 65.94733729883922,\n",
              " 65.5791897333131,\n",
              " 67.3230544314316,\n",
              " 68.09266038160222,\n",
              " 65.47479078986551,\n",
              " 63.485521041215705,\n",
              " 63.03698626658477,\n",
              " 65.49464927027918,\n",
              " 65.95957866085791,\n",
              " 66.07534475598824,\n",
              " 65.88958154145863,\n",
              " 64.55558827163735,\n",
              " 68.30270187314537,\n",
              " 68.28306679356912,\n",
              " 63.63691435909176,\n",
              " 66.364583195704,\n",
              " 67.52894202629746,\n",
              " 69.84700287154388,\n",
              " 66.17224818415694,\n",
              " 66.47307950549809,\n",
              " 66.70681969256307,\n",
              " 68.44510712790228,\n",
              " 67.81558297573979,\n",
              " 66.32346761413406,\n",
              " 67.22619435870787,\n",
              " 66.82653056318871,\n",
              " 66.51076225557806,\n",
              " 64.63441136880984,\n",
              " 67.93678893263157,\n",
              " 64.90060642750832,\n",
              " 67.40656993209942,\n",
              " 66.25423961872536,\n",
              " 65.87600927231482,\n",
              " 67.5387940772604,\n",
              " 69.8087463946146,\n",
              " 63.32639553081334,\n",
              " 64.68207164447765,\n",
              " 66.06114771196391,\n",
              " 69.8598846360895,\n",
              " 68.52778010161242,\n",
              " 68.89369513611823,\n",
              " 64.30052446810205,\n",
              " 67.59892001402123,\n",
              " 64.83948295834296,\n",
              " 64.70862646772387,\n",
              " 63.16854480130496,\n",
              " 66.63768088035962,\n",
              " 65.70133967437751,\n",
              " 67.63574348167447,\n",
              " 67.30469169293254,\n",
              " 65.55043449148775,\n",
              " 65.82772211210967,\n",
              " 63.751982482113476,\n",
              " 65.84382763131347,\n",
              " 65.23537328103507,\n",
              " 67.7232428771813,\n",
              " 65.90082413526814,\n",
              " 67.64528654461537,\n",
              " 65.97554022990676,\n",
              " 65.66334966460303,\n",
              " 64.79461244229269,\n",
              " 66.8366977456418,\n",
              " 67.84457594756728,\n",
              " 66.86077399399167,\n",
              " 61.9695919079976,\n",
              " 63.26576436278922,\n",
              " 66.02618082814021,\n",
              " 68.99384498728782,\n",
              " 66.057352021392,\n",
              " 66.68336594755503,\n",
              " 64.75218243577564,\n",
              " 68.8026695648153,\n",
              " 66.38797026180848,\n",
              " 66.73491710055893,\n",
              " 63.788595683617665,\n",
              " 67.6824085717584,\n",
              " 67.05289043917534,\n",
              " 69.80203460550571,\n",
              " 63.625908392029054,\n",
              " 65.3690178530685,\n",
              " 65.8873631530398,\n",
              " 65.73413514241437,\n",
              " 67.59006378641925,\n",
              " 67.83329597201498,\n",
              " 68.1211581006168,\n",
              " 62.693338436341946,\n",
              " 67.18162731650787,\n",
              " 68.41183341305256,\n",
              " 65.80484464198042,\n",
              " 64.60071475971417,\n",
              " 66.76058190276568,\n",
              " 67.2586440538032,\n",
              " 72.68362799362562,\n",
              " 67.11544129521813,\n",
              " 66.27769758143634,\n",
              " 67.85720834612599,\n",
              " 63.482663515894366,\n",
              " 67.17727038281134,\n",
              " 65.50547875386454,\n",
              " 69.07038113172322,\n",
              " 63.82823008557106,\n",
              " 65.32283085034659,\n",
              " 64.66880465877078,\n",
              " 67.79056191067585,\n",
              " 67.95937206600809,\n",
              " 64.9741376082404,\n",
              " 64.21799591269576,\n",
              " 65.0931574108588,\n",
              " 63.10373164488917,\n",
              " 65.26880572240113,\n",
              " 63.61384436281334,\n",
              " 68.1684726922295,\n",
              " 65.86555756544526,\n",
              " 66.6401939139464,\n",
              " 66.19824770216056,\n",
              " 65.7060680103186,\n",
              " 68.41102751544896,\n",
              " 69.09370575568353,\n",
              " 63.1580490594298,\n",
              " 69.20855088959351,\n",
              " 66.5009963134844,\n",
              " 68.12334123363061,\n",
              " 64.96242385053287,\n",
              " 65.13968198782936,\n",
              " 65.45656711029399,\n",
              " 67.80403243081342,\n",
              " 63.40227217395562,\n",
              " 65.39416476437177,\n",
              " 67.67360092436154,\n",
              " 65.14930086478401,\n",
              " 67.28670628859747,\n",
              " 69.97575817462757,\n",
              " 67.26268385013613,\n",
              " 66.53295487427097,\n",
              " 69.89089913535653,\n",
              " 67.92154393988828,\n",
              " 66.85029150980142,\n",
              " 65.0361944998896,\n",
              " 68.86494928104719,\n",
              " 67.327318546405,\n",
              " 65.29280053288107,\n",
              " 64.58541191250971,\n",
              " 67.04459592991726,\n",
              " 67.3343837477703,\n",
              " 66.6332693780514,\n",
              " 63.648991425846404,\n",
              " 67.13647047967387,\n",
              " 67.76405712498014,\n",
              " 66.70799430382654,\n",
              " 65.4703399606417,\n",
              " 65.54003182455071,\n",
              " 63.576335449316616,\n",
              " 64.32713682644352,\n",
              " 66.07090004506729,\n",
              " 68.8916065518895,\n",
              " 68.35122250917809,\n",
              " 68.81489185518545,\n",
              " 65.68627699024232,\n",
              " 65.79706788704776,\n",
              " 65.38671829345108,\n",
              " 65.94873954033199,\n",
              " 63.007326693160316,\n",
              " 66.88630786411318,\n",
              " 66.1852518850302,\n",
              " 65.02602043531382,\n",
              " 66.20767380684177,\n",
              " 65.70223320967,\n",
              " 66.22153397202419,\n",
              " 66.35083344853942,\n",
              " 64.74765145662022,\n",
              " 69.68236704598289,\n",
              " 65.07560122484657,\n",
              " 64.08509113857527,\n",
              " 68.33458032567854,\n",
              " 65.55341563150752,\n",
              " 65.33281353345279,\n",
              " 64.92339110951497,\n",
              " 70.25142001439933,\n",
              " 65.1453205022588,\n",
              " 65.62493786361024,\n",
              " 65.69258478355738,\n",
              " 65.45035306324098,\n",
              " 66.07684308711363,\n",
              " 66.10419809556072,\n",
              " 67.39760141560967,\n",
              " 67.6935667419173,\n",
              " 67.56661263224663,\n",
              " 64.87855878905359,\n",
              " 65.4107309314767,\n",
              " 66.94453302377124,\n",
              " 66.51407147655786,\n",
              " 62.1813299762048,\n",
              " 65.15927658681468,\n",
              " 67.77973097605931,\n",
              " 67.98776231869678,\n",
              " 64.31725167169986,\n",
              " 67.8577934989175,\n",
              " 66.3824751153312,\n",
              " 66.36495986582995,\n",
              " 67.03261791288223,\n",
              " 64.36210074887497,\n",
              " 65.063012812738,\n",
              " 68.45297000371313,\n",
              " 65.31454266041249,\n",
              " 67.57310787221408,\n",
              " 67.71044517648147,\n",
              " 67.10928328280627,\n",
              " 67.2720229578195,\n",
              " 69.72486771715234,\n",
              " 63.60429053692485,\n",
              " 65.85379761135121,\n",
              " 65.9372090418184,\n",
              " 63.61851895181174,\n",
              " 64.66623088727195,\n",
              " 64.61274766054204,\n",
              " 67.21842660245065,\n",
              " 61.875131486816144,\n",
              " 65.98187127714247,\n",
              " 65.32489561756115,\n",
              " 65.42613804692924,\n",
              " 66.44329004236671,\n",
              " 65.4024837946309,\n",
              " 66.63495345816439,\n",
              " 64.73474219743989,\n",
              " 69.5453793185482,\n",
              " 67.15419743468044,\n",
              " 66.88895293482562,\n",
              " 65.42294621796262,\n",
              " 66.50797931064417,\n",
              " 67.16205771787622,\n",
              " 66.08098872292882,\n",
              " 66.6978588640354,\n",
              " 64.56488999637928,\n",
              " 67.8632213501987,\n",
              " 69.07417974834121,\n",
              " 68.37267397448188,\n",
              " 65.63064018626577,\n",
              " 64.0662545127915,\n",
              " 64.49460586467609,\n",
              " 66.65568843172721,\n",
              " 67.35458669799375,\n",
              " 65.67769593443732,\n",
              " 66.82623227215879,\n",
              " 69.33570806299251,\n",
              " 63.669020818171816,\n",
              " 65.71078002867787,\n",
              " 67.79689096188018,\n",
              " 66.53274970800614,\n",
              " 65.68524121575243,\n",
              " 62.220358059082265,\n",
              " 63.07398466087244,\n",
              " 70.14045300987598,\n",
              " 66.46258137348532,\n",
              " 68.60712178810289,\n",
              " 68.3070583194401,\n",
              " 66.95972041588213,\n",
              " 62.6682469470451,\n",
              " 64.56430126046483,\n",
              " 64.44731055921022,\n",
              " 66.99627028168398,\n",
              " 70.77712117296636,\n",
              " 63.713817093270464,\n",
              " 64.64521885418768,\n",
              " 65.84829383673996,\n",
              " 67.79092657054184,\n",
              " 67.32063561621882,\n",
              " 64.5153047860151,\n",
              " 66.81145692787442,\n",
              " 67.06821701281497,\n",
              " 66.6382712027393,\n",
              " 70.44787924181283,\n",
              " 67.74584866695889,\n",
              " 65.91747752683008,\n",
              " 69.95535690075826,\n",
              " 66.22866436854052,\n",
              " 67.77848263434369,\n",
              " 67.83136375541537,\n",
              " 67.45727607696718,\n",
              " 68.64777708104698,\n",
              " 64.86245757521422,\n",
              " 64.96994961341889,\n",
              " 68.034164713664,\n",
              " 65.70515875747462,\n",
              " 65.72227864145232,\n",
              " 63.3639132773834,\n",
              " 67.02031204024125,\n",
              " 65.62998712141567,\n",
              " 67.42771226767381,\n",
              " 68.34008241923917,\n",
              " 65.84127783857275,\n",
              " 67.06717450866788,\n",
              " 69.56663484308862,\n",
              " 64.12775252604067,\n",
              " 64.7090575102956,\n",
              " 66.49337856153328,\n",
              " 67.2256656844416,\n",
              " 68.32228521953182,\n",
              " 68.42698182286685,\n",
              " 64.73988902733905,\n",
              " 68.81222981375647,\n",
              " 65.34345387051071,\n",
              " 63.8579241587626,\n",
              " 70.23321800898871,\n",
              " 64.81097183524872,\n",
              " 66.55688553796224,\n",
              " 65.79978205251177,\n",
              " 68.463394606443,\n",
              " 66.78344853678196,\n",
              " 67.9973667521646,\n",
              " 68.02603138586652,\n",
              " 67.21302581070074,\n",
              " 62.98333775548282,\n",
              " 66.53201059290704,\n",
              " 66.90812983850208,\n",
              " 65.99316867636904,\n",
              " 66.4984016147474,\n",
              " ...]"
            ]
          },
          "execution_count": 27,
          "metadata": {},
          "output_type": "execute_result"
        }
      ],
      "source": [
        "#repeat this 10000 times => 10000 times => sample of size 5 => sample means\n",
        "s5=[np.mean(df_height.sample(5)) for i in range(10000)]\n",
        "s5"
      ]
    },
    {
      "cell_type": "code",
      "execution_count": null,
      "metadata": {
        "colab": {
          "base_uri": "https://localhost:8080/"
        },
        "id": "FAP-CzCA-3Z8",
        "outputId": "23543911-2b35-4ca9-b2d9-541b9b77e509"
      },
      "outputs": [
        {
          "data": {
            "text/plain": [
              "66.34539724729301"
            ]
          },
          "execution_count": 30,
          "metadata": {},
          "output_type": "execute_result"
        }
      ],
      "source": [
        "mu5=np.mean(s5)\n",
        "mu5"
      ]
    },
    {
      "cell_type": "code",
      "execution_count": null,
      "metadata": {
        "colab": {
          "base_uri": "https://localhost:8080/"
        },
        "id": "0iUKsAhL-3Wa",
        "outputId": "652c2a73-b902-4b55-f36a-c82d3b97279f"
      },
      "outputs": [
        {
          "data": {
            "text/plain": [
              "1.725639281432366"
            ]
          },
          "execution_count": 31,
          "metadata": {},
          "output_type": "execute_result"
        }
      ],
      "source": [
        "std5=np.std(s5)\n",
        "std5"
      ]
    },
    {
      "cell_type": "code",
      "execution_count": null,
      "metadata": {
        "colab": {
          "base_uri": "https://localhost:8080/",
          "height": 448
        },
        "id": "MSLKEeOk-3G8",
        "outputId": "fe24da4b-7119-4025-aca7-f02ff5799643"
      },
      "outputs": [
        {
          "data": {
            "text/plain": [
              "<Axes: ylabel='Count'>"
            ]
          },
          "execution_count": 32,
          "metadata": {},
          "output_type": "execute_result"
        },
        {
          "data": {
            "image/png": "[encoded data removed]",
            "text/plain": [
              "<Figure size 640x480 with 1 Axes>"
            ]
          },
          "metadata": {},
          "output_type": "display_data"
        }
      ],
      "source": [
        "sns.histplot(s5)"
      ]
    },
    {
      "cell_type": "code",
      "execution_count": null,
      "metadata": {
        "colab": {
          "base_uri": "https://localhost:8080/",
          "height": 467
        },
        "id": "pYMIbDfo_SaQ",
        "outputId": "e3ec69a4-cb4d-45d4-cdb4-999b16cfd3ef"
      },
      "outputs": [
        {
          "data": {
            "text/plain": [
              "<Axes: xlabel='Height', ylabel='Count'>"
            ]
          },
          "execution_count": 38,
          "metadata": {},
          "output_type": "execute_result"
        },
        {
          "data": {
            "image/png": "[encoded data removed]",
            "text/plain": [
              "<Figure size 640x480 with 1 Axes>"
            ]
          },
          "metadata": {},
          "output_type": "display_data"
        }
      ],
      "source": [
        "sns.histplot(df_height, kde=True)"
      ]
    },
    {
      "cell_type": "code",
      "execution_count": null,
      "metadata": {
        "colab": {
          "base_uri": "https://localhost:8080/",
          "height": 448
        },
        "id": "iizxSAQq_SWu",
        "outputId": "704c1aa1-37a2-43c6-d5fe-23569ebc153d"
      },
      "outputs": [
        {
          "data": {
            "text/plain": [
              "<Axes: ylabel='Count'>"
            ]
          },
          "execution_count": 39,
          "metadata": {},
          "output_type": "execute_result"
        },
        {
          "data": {
            "image/png": "[encoded data removed]",
            "text/plain": [
              "<Figure size 640x480 with 1 Axes>"
            ]
          },
          "metadata": {},
          "output_type": "display_data"
        }
      ],
      "source": [
        "sns.histplot(s5, kde=True)"
      ]
    },
    {
      "cell_type": "code",
      "execution_count": null,
      "metadata": {
        "colab": {
          "base_uri": "https://localhost:8080/"
        },
        "id": "rUsjDide_STm",
        "outputId": "01f1466a-faca-419e-b3cb-f61ec52c1698"
      },
      "outputs": [
        {
          "data": {
            "text/plain": [
              "0       73.847017\n",
              "1       68.781904\n",
              "2       74.110105\n",
              "3       71.730978\n",
              "4       69.881796\n",
              "          ...    \n",
              "9995    66.172652\n",
              "9996    67.067155\n",
              "9997    63.867992\n",
              "9998    69.034243\n",
              "9999    61.944246\n",
              "Name: Height, Length: 10000, dtype: float64"
            ]
          },
          "execution_count": 6,
          "metadata": {},
          "output_type": "execute_result"
        }
      ],
      "source": [
        "df_height"
      ]
    },
    {
      "cell_type": "code",
      "execution_count": null,
      "metadata": {
        "colab": {
          "base_uri": "https://localhost:8080/"
        },
        "id": "q6BzuAqs-fQm",
        "outputId": "8638675b-cdfa-4223-c1be-85570c524024"
      },
      "outputs": [
        {
          "data": {
            "text/plain": [
              "66.36755975482124"
            ]
          },
          "execution_count": 7,
          "metadata": {},
          "output_type": "execute_result"
        }
      ],
      "source": [
        "df_height.mean()"
      ]
    },
    {
      "cell_type": "code",
      "execution_count": null,
      "metadata": {
        "colab": {
          "base_uri": "https://localhost:8080/"
        },
        "id": "WoAanUYB-hjo",
        "outputId": "ff59708f-9682-4ee0-cbdd-781039744e18"
      },
      "outputs": [
        {
          "data": {
            "text/plain": [
              "3.8475281207732293"
            ]
          },
          "execution_count": 8,
          "metadata": {},
          "output_type": "execute_result"
        }
      ],
      "source": [
        "df_height.std()"
      ]
    },
    {
      "cell_type": "code",
      "execution_count": null,
      "metadata": {
        "colab": {
          "base_uri": "https://localhost:8080/"
        },
        "id": "kU4ICYbJ-kKB",
        "outputId": "a1cd26a2-2a7e-4543-8595-bffa987cad45"
      },
      "outputs": [
        {
          "data": {
            "text/plain": [
              "64.8978734441978"
            ]
          },
          "execution_count": 9,
          "metadata": {},
          "output_type": "execute_result"
        }
      ],
      "source": [
        "df_height.sample(20).mean()"
      ]
    },
    {
      "cell_type": "code",
      "execution_count": null,
      "metadata": {
        "colab": {
          "base_uri": "https://localhost:8080/"
        },
        "id": "jIgcuWGk-qZv",
        "outputId": "448f84b0-9220-4135-abdf-e13ede7b4d2b"
      },
      "outputs": [
        {
          "data": {
            "text/plain": [
              "4.506154400721689"
            ]
          },
          "execution_count": 10,
          "metadata": {},
          "output_type": "execute_result"
        }
      ],
      "source": [
        "df_height.sample(20).std()"
      ]
    },
    {
      "cell_type": "code",
      "execution_count": null,
      "metadata": {
        "id": "COhvCj0I-v0W"
      },
      "outputs": [],
      "source": []
    },
    {
      "cell_type": "code",
      "execution_count": null,
      "metadata": {
        "id": "yVp7B8zv-qWg"
      },
      "outputs": [],
      "source": []
    },
    {
      "cell_type": "code",
      "execution_count": null,
      "metadata": {
        "colab": {
          "base_uri": "https://localhost:8080/"
        },
        "id": "H7VCu9gZ1mkp",
        "outputId": "568095d5-7c1a-4cf7-9758-2a53755d4da0"
      },
      "outputs": [
        {
          "data": {
            "text/plain": [
              "[66.30876274075305,\n",
              " 68.61594619382119,\n",
              " 67.54246509728019,\n",
              " 64.80217526234041,\n",
              " 65.96657360892449,\n",
              " 64.97804451095654,\n",
              " 67.930306858703,\n",
              " 67.53618999521743,\n",
              " 66.49339489092488,\n",
              " 66.33691397856366,\n",
              " 67.20075507668163,\n",
              " 67.06851363709987,\n",
              " 67.96334302118848,\n",
              " 66.1860157428022,\n",
              " 65.52400324251735,\n",
              " 65.9245613837692,\n",
              " 64.95018392670137,\n",
              " 66.51159008749332,\n",
              " 66.98166935077467,\n",
              " 64.73442254603381,\n",
              " 67.4808198864363,\n",
              " 66.53147010034807,\n",
              " 64.65757623033514,\n",
              " 66.73154479247489,\n",
              " 65.89357199634965,\n",
              " 66.57717640565576,\n",
              " 65.83929903094541,\n",
              " 66.48631564488186,\n",
              " 66.76570973654762,\n",
              " 66.88708262987028,\n",
              " 66.60084423224356,\n",
              " 68.29290805648539,\n",
              " 66.30237523249302,\n",
              " 67.7712828872233,\n",
              " 65.39651304253655,\n",
              " 65.97560131947463,\n",
              " 66.08718366815386,\n",
              " 66.58015547002931,\n",
              " 66.12114302345631,\n",
              " 66.03718453670136,\n",
              " 66.00996125564966,\n",
              " 66.48249432236835,\n",
              " 66.51356455437295,\n",
              " 66.58668978670796,\n",
              " 66.59924748120406,\n",
              " 66.55468414031048,\n",
              " 67.75355739696909,\n",
              " 65.26213242607828,\n",
              " 65.4849255682482,\n",
              " 66.35872132157232,\n",
              " 66.68214891632601,\n",
              " 66.26321983884574,\n",
              " 66.98172095758466,\n",
              " 64.54409200877507,\n",
              " 67.29176216369305,\n",
              " 66.66233564730484,\n",
              " 66.0934697484664,\n",
              " 66.014178549158,\n",
              " 67.44057854154998,\n",
              " 66.28187484063542,\n",
              " 66.22340990410734,\n",
              " 67.21505818565603,\n",
              " 67.51732475151795,\n",
              " 64.81900698220488,\n",
              " 67.15664430362592,\n",
              " 67.8590605165784,\n",
              " 65.02663921918428,\n",
              " 64.88124549540102,\n",
              " 66.60069320625662,\n",
              " 66.54568374988841,\n",
              " 65.86672485639528,\n",
              " 66.70776328507314,\n",
              " 65.95474597548748,\n",
              " 66.7681070473118,\n",
              " 65.29122803660935,\n",
              " 65.65345136809682,\n",
              " 67.10986352618951,\n",
              " 64.43109839291569,\n",
              " 64.97153052489199,\n",
              " 66.50878234995865,\n",
              " 67.19872631418967,\n",
              " 66.43978158873067,\n",
              " 66.98215347348875,\n",
              " 66.01785124010424,\n",
              " 66.96298360285084,\n",
              " 65.89378132685131,\n",
              " 66.32616028023178,\n",
              " 66.06521098313411,\n",
              " 66.10058129562438,\n",
              " 65.93557303987716,\n",
              " 67.5245406963001,\n",
              " 66.71656958403426,\n",
              " 65.93163684582791,\n",
              " 65.4521509986949,\n",
              " 68.88035344646677,\n",
              " 66.94503714135126,\n",
              " 66.27211014981663,\n",
              " 66.75556588811901,\n",
              " 66.78188986402704,\n",
              " 67.11261697084099,\n",
              " 65.76497970100938,\n",
              " 65.31441116464968,\n",
              " 66.43919331383331,\n",
              " 66.08206361728256,\n",
              " 65.92356606526917,\n",
              " 66.36945044490965,\n",
              " 65.38627299168687,\n",
              " 65.91394329725797,\n",
              " 65.9464858185734,\n",
              " 64.60862013125806,\n",
              " 66.30250675631207,\n",
              " 66.09051033387925,\n",
              " 66.39692994031898,\n",
              " 66.11025576966873,\n",
              " 65.90350808168849,\n",
              " 66.49830787135227,\n",
              " 65.6429286774098,\n",
              " 66.05013516383592,\n",
              " 66.99287843736852,\n",
              " 65.20189495087116,\n",
              " 65.32213651839429,\n",
              " 66.98272380767517,\n",
              " 67.09154534359405,\n",
              " 66.23699235422528,\n",
              " 67.64387068157984,\n",
              " 64.49669513691637,\n",
              " 66.06045835616439,\n",
              " 67.01287863443065,\n",
              " 67.57778582095386,\n",
              " 66.62370920286331,\n",
              " 66.04736735697817,\n",
              " 65.68488250623692,\n",
              " 66.97070731580042,\n",
              " 66.50860302636661,\n",
              " 66.87114611837168,\n",
              " 66.4775319599463,\n",
              " 65.99783898228858,\n",
              " 65.70773785634168,\n",
              " 66.93504231357582,\n",
              " 66.25243383875355,\n",
              " 65.82468176985151,\n",
              " 67.52069899904774,\n",
              " 66.85722458645871,\n",
              " 66.62324865678033,\n",
              " 65.69031485558975,\n",
              " 66.44920546397518,\n",
              " 64.73512199843603,\n",
              " 64.91410590963645,\n",
              " 67.13700642260474,\n",
              " 66.25686943862834,\n",
              " 66.54442368148896,\n",
              " 66.67027208599698,\n",
              " 66.29148837264988,\n",
              " 67.19363374863914,\n",
              " 65.83766074156897,\n",
              " 66.3271447557942,\n",
              " 66.77581294711364,\n",
              " 67.42745250104414,\n",
              " 65.82712400750123,\n",
              " 66.65327311646793,\n",
              " 67.64477436366073,\n",
              " 65.00250861759892,\n",
              " 67.0671301510402,\n",
              " 66.00680603149189,\n",
              " 65.4956875638977,\n",
              " 65.50149443013319,\n",
              " 67.07226294041718,\n",
              " 66.97429676187069,\n",
              " 66.58375070850131,\n",
              " 67.73302392700438,\n",
              " 65.54571887852269,\n",
              " 66.26276056812597,\n",
              " 65.98361182136406,\n",
              " 66.1267003986762,\n",
              " 65.43374309852256,\n",
              " 67.55782679332734,\n",
              " 67.15845896704089,\n",
              " 66.7840428689649,\n",
              " 66.64174962359638,\n",
              " 66.80303828362614,\n",
              " 66.3168111497455,\n",
              " 66.46763515629647,\n",
              " 65.5030693008918,\n",
              " 66.03193177447709,\n",
              " 65.67245354369838,\n",
              " 65.2225637707758,\n",
              " 66.50172234172291,\n",
              " 65.65030583710009,\n",
              " 66.3284557051135,\n",
              " 66.72964608333754,\n",
              " 66.10298634604953,\n",
              " 66.98771671680134,\n",
              " 67.20676347230699,\n",
              " 67.7563669317923,\n",
              " 66.54913044265791,\n",
              " 66.68202745548508,\n",
              " 66.84454802089266,\n",
              " 65.91595287163558,\n",
              " 67.54021527692824,\n",
              " 66.27518652440321,\n",
              " 67.48427187390773,\n",
              " 65.76005447633426,\n",
              " 65.373800964483,\n",
              " 66.84855945280995,\n",
              " 66.58657098625392,\n",
              " 66.85539845368305,\n",
              " 67.39515341402277,\n",
              " 65.03809285367802,\n",
              " 66.53557139683656,\n",
              " 67.58022338733073,\n",
              " 67.04223085484048,\n",
              " 65.43125413711627,\n",
              " 66.84410572635309,\n",
              " 67.37823356324776,\n",
              " 65.55791987476782,\n",
              " 66.10842970800785,\n",
              " 66.7675052821646,\n",
              " 66.43575737351568,\n",
              " 66.01213849023766,\n",
              " 66.90856926027155,\n",
              " 65.52345507565602,\n",
              " 66.87790790735579,\n",
              " 64.55767133429966,\n",
              " 66.8991850201771,\n",
              " 65.97058432547051,\n",
              " 65.8767780739984,\n",
              " 67.22354313165913,\n",
              " 67.9848526577065,\n",
              " 66.70202097012746,\n",
              " 66.80453373771812,\n",
              " 65.8974536191924,\n",
              " 65.81271857509381,\n",
              " 65.72209312385914,\n",
              " 67.66663884603723,\n",
              " 67.2600032231745,\n",
              " 66.64082826826436,\n",
              " 65.34386993020334,\n",
              " 65.85901900826099,\n",
              " 66.99634414964774,\n",
              " 66.3704539828802,\n",
              " 65.55189352667452,\n",
              " 65.2824910809649,\n",
              " 66.40628272134913,\n",
              " 66.63126759548241,\n",
              " 67.48397830849595,\n",
              " 66.46354944046172,\n",
              " 66.50275765260301,\n",
              " 67.7510535961404,\n",
              " 66.57365028682912,\n",
              " 67.47832011312686,\n",
              " 65.71024137556502,\n",
              " 67.05947854274137,\n",
              " 65.780021616564,\n",
              " 66.92141008688921,\n",
              " 65.93012442348291,\n",
              " 66.07560876589824,\n",
              " 65.46189937718361,\n",
              " 66.69913432387224,\n",
              " 67.26219400999803,\n",
              " 66.22215230743328,\n",
              " 66.12635302495092,\n",
              " 68.13487068814992,\n",
              " 65.2326368497333,\n",
              " 64.63472493608337,\n",
              " 66.88878296777737,\n",
              " 64.54439416327725,\n",
              " 67.94741529519207,\n",
              " 66.7772587549454,\n",
              " 66.06428071698099,\n",
              " 64.35096371993453,\n",
              " 66.09772863557562,\n",
              " 65.91398723692667,\n",
              " 65.7787601084681,\n",
              " 65.9419235223081,\n",
              " 67.18444182696742,\n",
              " 67.37024414903547,\n",
              " 67.11599923935982,\n",
              " 65.41414099549509,\n",
              " 66.79575839999845,\n",
              " 66.32817337653987,\n",
              " 64.0566759400843,\n",
              " 64.34030131708232,\n",
              " 67.14476521463577,\n",
              " 67.13439456328699,\n",
              " 65.981974056827,\n",
              " 66.37202203873456,\n",
              " 65.99120664136322,\n",
              " 66.30913908484749,\n",
              " 65.52728167121671,\n",
              " 65.19994318580478,\n",
              " 66.418484757088,\n",
              " 67.08567957669847,\n",
              " 65.7366295644847,\n",
              " 66.44039727175917,\n",
              " 67.23650257715714,\n",
              " 65.97437177043096,\n",
              " 65.1118615241825,\n",
              " 67.24087558399893,\n",
              " 67.20895498336759,\n",
              " 66.75126155993983,\n",
              " 66.80797349348929,\n",
              " 65.89307305558917,\n",
              " 65.73973959163787,\n",
              " 66.80278834820261,\n",
              " 65.04278375506969,\n",
              " 66.3437819679968,\n",
              " 66.11222292000949,\n",
              " 65.06627531488445,\n",
              " 67.82990520576288,\n",
              " 67.04825225243579,\n",
              " 66.74579972894222,\n",
              " 65.93734552092381,\n",
              " 65.62005628190306,\n",
              " 66.99976244927345,\n",
              " 65.86880277705245,\n",
              " 65.79656108447563,\n",
              " 65.71528512789634,\n",
              " 65.31188510270421,\n",
              " 65.38718740737224,\n",
              " 67.65239293047992,\n",
              " 64.8102672481612,\n",
              " 67.00660885711935,\n",
              " 67.10196818319596,\n",
              " 66.54922290222734,\n",
              " 68.76824096408583,\n",
              " 65.95470024627811,\n",
              " 65.92511214467135,\n",
              " 66.25329804614198,\n",
              " 66.27604579546036,\n",
              " 66.63717747947666,\n",
              " 65.97976034992459,\n",
              " 67.99030289409505,\n",
              " 64.94776040093302,\n",
              " 67.23667537885305,\n",
              " 66.56385758714035,\n",
              " 66.50057744566406,\n",
              " 64.7427034816304,\n",
              " 68.0995288651118,\n",
              " 66.4218450967095,\n",
              " 66.36590728167576,\n",
              " 66.44026747794187,\n",
              " 65.90466436452051,\n",
              " 65.51827591884185,\n",
              " 66.11436130406172,\n",
              " 67.08115113098903,\n",
              " 66.71267707045585,\n",
              " 65.48280309000931,\n",
              " 67.00510083615801,\n",
              " 66.93329734793423,\n",
              " 65.38038256609431,\n",
              " 67.46273417991333,\n",
              " 66.78497010201737,\n",
              " 66.30328445324776,\n",
              " 65.27543666748697,\n",
              " 67.57069246211258,\n",
              " 66.17051360417622,\n",
              " 66.22295574614131,\n",
              " 67.22737873008582,\n",
              " 66.45789028492202,\n",
              " 65.34266891343381,\n",
              " 67.50902973206539,\n",
              " 66.29985566728983,\n",
              " 65.17500128031956,\n",
              " 66.4610748949998,\n",
              " 66.91101024242441,\n",
              " 67.37494459880871,\n",
              " 66.35908950320112,\n",
              " 65.27976681345092,\n",
              " 65.01529523073239,\n",
              " 65.51085082445276,\n",
              " 66.76698410335824,\n",
              " 66.22657323574906,\n",
              " 67.25709642141932,\n",
              " 66.25613472256515,\n",
              " 66.95791321416732,\n",
              " 66.10402273705765,\n",
              " 65.21892175418787,\n",
              " 65.96069680699006,\n",
              " 65.60251254598757,\n",
              " 68.48127336375424,\n",
              " 66.91026381842995,\n",
              " 66.76840890858224,\n",
              " 67.38686890315964,\n",
              " 66.073961340476,\n",
              " 65.63268920025419,\n",
              " 66.32932026861032,\n",
              " 66.7405032114527,\n",
              " 68.69669656914951,\n",
              " 66.74978243981641,\n",
              " 66.49656825765406,\n",
              " 65.42412589346941,\n",
              " 65.87157104044998,\n",
              " 67.56236784810959,\n",
              " 66.82139114996981,\n",
              " 66.74296173987497,\n",
              " 66.15731753806458,\n",
              " 67.3357347454131,\n",
              " 67.6442509443007,\n",
              " 66.70219067354935,\n",
              " 65.83357444619936,\n",
              " 65.84632651366394,\n",
              " 66.75356240765507,\n",
              " 67.84682133339925,\n",
              " 68.68215391726879,\n",
              " 66.7405203118062,\n",
              " 65.97547757670176,\n",
              " 67.75578954895245,\n",
              " 67.08040064369087,\n",
              " 65.28519074304153,\n",
              " 65.76794232051728,\n",
              " 66.61439041862161,\n",
              " 66.87902138100897,\n",
              " 65.71033602929707,\n",
              " 65.33472117230491,\n",
              " 67.24413240848703,\n",
              " 65.7144248021402,\n",
              " 64.65348197644094,\n",
              " 66.57219758399532,\n",
              " 65.90005001599697,\n",
              " 67.23322569400555,\n",
              " 66.48325451278313,\n",
              " 65.876240594686,\n",
              " 65.41575061083074,\n",
              " 68.52457649002547,\n",
              " 65.49439193877524,\n",
              " 67.16110492282154,\n",
              " 66.43640963938206,\n",
              " 66.91693260636302,\n",
              " 67.42398352567709,\n",
              " 66.81520103603478,\n",
              " 66.86596206349535,\n",
              " 66.62700944372507,\n",
              " 66.56562235950362,\n",
              " 66.27548551514863,\n",
              " 67.49887526103385,\n",
              " 66.90780925354655,\n",
              " 66.8506555944639,\n",
              " 65.87842707026705,\n",
              " 64.85010415554851,\n",
              " 66.33896217847675,\n",
              " 65.10187968960636,\n",
              " 67.13658404707446,\n",
              " 66.38479625126698,\n",
              " 66.14872451563052,\n",
              " 67.28994823131598,\n",
              " 65.59322820692385,\n",
              " 67.25963152300314,\n",
              " 65.8184396706878,\n",
              " 66.95860328536615,\n",
              " 66.24438646514844,\n",
              " 65.72740671041096,\n",
              " 66.27473095324663,\n",
              " 65.38755187106166,\n",
              " 67.21990324195299,\n",
              " 65.68486168840676,\n",
              " 65.83309254916011,\n",
              " 66.36839459175688,\n",
              " 65.5595354481338,\n",
              " 67.90972483033423,\n",
              " 65.22710020558894,\n",
              " 66.43863031758816,\n",
              " 65.0988125930975,\n",
              " 67.31489167047702,\n",
              " 66.1591806259924,\n",
              " 66.67013445351265,\n",
              " 66.71922389835557,\n",
              " 65.64846401899452,\n",
              " 65.92738035598337,\n",
              " 65.85003840440427,\n",
              " 67.4289285052488,\n",
              " 66.6851703928186,\n",
              " 64.97170888722034,\n",
              " 66.53496149251606,\n",
              " 66.62188823880511,\n",
              " 67.68198841016262,\n",
              " 66.40159031623686,\n",
              " 66.06348467374869,\n",
              " 66.35520726982297,\n",
              " 65.55128954982588,\n",
              " 65.73186763129576,\n",
              " 65.78661366184001,\n",
              " 66.23624651827502,\n",
              " 64.6709383418261,\n",
              " 65.4753573539371,\n",
              " 66.33975600585576,\n",
              " 67.07797287541754,\n",
              " 67.96845090862249,\n",
              " 66.049340870981,\n",
              " 66.37594276442606,\n",
              " 66.65672247673689,\n",
              " 66.16839393497568,\n",
              " 66.57096094145861,\n",
              " 66.07464184977262,\n",
              " 64.86250082715028,\n",
              " 64.76179871000303,\n",
              " 67.41394122732302,\n",
              " 65.38510748381124,\n",
              " 67.19558678175865,\n",
              " 66.57302891320876,\n",
              " 65.29215313046207,\n",
              " 66.06222169741811,\n",
              " 67.3730288014149,\n",
              " 67.84500141859823,\n",
              " 65.57558251795317,\n",
              " 66.26359768861724,\n",
              " 66.19439953562672,\n",
              " 64.1093679666723,\n",
              " 67.41445706762121,\n",
              " 65.66561498962315,\n",
              " 66.76259912556317,\n",
              " 65.91593271368617,\n",
              " 66.61468927223606,\n",
              " 65.81212712038561,\n",
              " 67.35474721043157,\n",
              " 66.2442554670302,\n",
              " 65.72693868534273,\n",
              " 66.58223620161318,\n",
              " 66.56643539546337,\n",
              " 68.12044832754142,\n",
              " 66.19555067106405,\n",
              " 66.76841659205088,\n",
              " 67.25556021137996,\n",
              " 66.74844190390527,\n",
              " 65.05836167532252,\n",
              " 66.20550037805985,\n",
              " 67.6684007529381,\n",
              " 67.12249597137591,\n",
              " 65.06301127877228,\n",
              " 66.34258338121309,\n",
              " 66.4143957589321,\n",
              " 66.15845049363017,\n",
              " 65.27964787506252,\n",
              " 65.765850684777,\n",
              " 67.49246879170997,\n",
              " 66.45731816760767,\n",
              " 67.19514607448848,\n",
              " 67.69360280536539,\n",
              " 65.51841754087505,\n",
              " 67.44708147308526,\n",
              " 66.00109971001766,\n",
              " 65.68315649733488,\n",
              " 65.93332392489074,\n",
              " 65.39189602119318,\n",
              " 65.33173835913092,\n",
              " 67.40026065481868,\n",
              " 66.68106385910222,\n",
              " 65.75878132178082,\n",
              " 65.81777406437519,\n",
              " 66.25812571266559,\n",
              " 66.98085677624304,\n",
              " 66.48338073227156,\n",
              " 67.2201598175717,\n",
              " 67.63661346264104,\n",
              " 65.62683169956965,\n",
              " 67.07166146175611,\n",
              " 65.73525850452492,\n",
              " 65.61406478658554,\n",
              " 66.24926566372353,\n",
              " 65.33048417449517,\n",
              " 65.73648399081222,\n",
              " 65.62050979857602,\n",
              " 64.98522952186451,\n",
              " 66.3955095369832,\n",
              " 66.36763968860076,\n",
              " 65.56715813734641,\n",
              " 65.54306484699691,\n",
              " 65.2569300782545,\n",
              " 65.67809744888082,\n",
              " 67.02773865940861,\n",
              " 66.37921881358854,\n",
              " 65.89297905809096,\n",
              " 67.19063791298774,\n",
              " 65.58317210407202,\n",
              " 66.72935116794108,\n",
              " 67.18647898471555,\n",
              " 65.60696945367242,\n",
              " 65.70563499738113,\n",
              " 68.3111535258361,\n",
              " 65.41272141542274,\n",
              " 63.78625548980597,\n",
              " 66.55575473721461,\n",
              " 66.8900254203389,\n",
              " 66.61067313813025,\n",
              " 65.16398151242893,\n",
              " 66.6274611777363,\n",
              " 65.71587885280552,\n",
              " 67.61707437634614,\n",
              " 66.52156007708064,\n",
              " 63.14270244507192,\n",
              " 66.37902965759845,\n",
              " 65.58686952469401,\n",
              " 66.29189684647233,\n",
              " 66.15731438050236,\n",
              " 66.37753135345194,\n",
              " 65.99287064703121,\n",
              " 64.60923294330425,\n",
              " 65.98951335872108,\n",
              " 65.55194037519695,\n",
              " 67.61920361507819,\n",
              " 67.16733059127141,\n",
              " 67.95413782567121,\n",
              " 64.32566720874736,\n",
              " 65.81129823654813,\n",
              " 66.51702601773583,\n",
              " 66.81809618908063,\n",
              " 66.46931792656757,\n",
              " 66.0898385793383,\n",
              " 68.64458208685275,\n",
              " 65.28647996923674,\n",
              " 66.09175357956943,\n",
              " 66.42912881730132,\n",
              " 68.49591100312489,\n",
              " 66.46858566148295,\n",
              " 66.42408209229598,\n",
              " 65.81237371323866,\n",
              " 66.16640095950028,\n",
              " 65.88045510363948,\n",
              " 66.21614774528264,\n",
              " 66.57044451663437,\n",
              " 65.04728490607812,\n",
              " 65.87571481621852,\n",
              " 65.82468557326203,\n",
              " 66.31324392082922,\n",
              " 65.81461149930371,\n",
              " 64.77512710818313,\n",
              " 66.22321683410959,\n",
              " 66.83713580112494,\n",
              " 66.43580986831542,\n",
              " 67.01358724537737,\n",
              " 67.08961937565508,\n",
              " 66.52882512514968,\n",
              " 67.4034823253962,\n",
              " 65.56186861154643,\n",
              " 66.0762394546493,\n",
              " 66.91965572971654,\n",
              " 67.1521323582305,\n",
              " 67.26167563926924,\n",
              " 64.98801216739282,\n",
              " 67.22530783299275,\n",
              " 65.30530989217115,\n",
              " 66.53334183367465,\n",
              " 66.82398418154978,\n",
              " 67.62501291709575,\n",
              " 67.3929330325917,\n",
              " 65.28276355862229,\n",
              " 65.40936216524936,\n",
              " 65.4546097316761,\n",
              " 66.62644856372347,\n",
              " 67.61541783769066,\n",
              " 67.40875705447324,\n",
              " 65.8851600451446,\n",
              " 66.00792497982195,\n",
              " 66.08723275310324,\n",
              " 65.84963726712513,\n",
              " 65.3745562265631,\n",
              " 65.96931756514041,\n",
              " 66.48427495127001,\n",
              " 65.57978159543904,\n",
              " 67.59298559515716,\n",
              " 66.28069622198448,\n",
              " 67.07861492099082,\n",
              " 65.48702011988095,\n",
              " 66.03644101928495,\n",
              " 65.70614253880123,\n",
              " 66.74164917585422,\n",
              " 65.32727528559789,\n",
              " 66.07251555621073,\n",
              " 65.35084887047725,\n",
              " 67.17132595698506,\n",
              " 66.76256420766461,\n",
              " 67.06480486802194,\n",
              " 65.44715617823836,\n",
              " 65.98662012561752,\n",
              " 66.06068569725696,\n",
              " 65.26106523618394,\n",
              " 66.54020529935383,\n",
              " 65.82142501684332,\n",
              " 66.79734792442214,\n",
              " 67.04838552163423,\n",
              " 66.3418608683616,\n",
              " 67.2300512653794,\n",
              " 65.67523018630604,\n",
              " 66.38467880777151,\n",
              " 66.41182794682626,\n",
              " 65.75256553186952,\n",
              " 67.26330357097727,\n",
              " 67.0160631330914,\n",
              " 65.44184291446972,\n",
              " 65.18074898057431,\n",
              " 67.84354031752397,\n",
              " 66.50620399003942,\n",
              " 65.82606165435489,\n",
              " 66.42933760423185,\n",
              " 69.53800844738232,\n",
              " 67.90059039798521,\n",
              " 66.93833269949778,\n",
              " 67.45616882444172,\n",
              " 67.10908409161969,\n",
              " 65.87149033974535,\n",
              " 65.87764212915616,\n",
              " 67.28235693665819,\n",
              " 65.0407126972927,\n",
              " 65.2191924840555,\n",
              " 66.68317139911942,\n",
              " 65.98132210353785,\n",
              " 64.88837045488097,\n",
              " 65.16141958321305,\n",
              " 66.88474744728317,\n",
              " 66.75606650136798,\n",
              " 66.3547037383133,\n",
              " 67.07216715923155,\n",
              " 67.28730025551098,\n",
              " 67.04318476795886,\n",
              " 65.85862815155674,\n",
              " 66.11202902718334,\n",
              " 65.94038701506405,\n",
              " 66.6617743852651,\n",
              " 66.13714634717739,\n",
              " 66.09934241658988,\n",
              " 66.62166958395247,\n",
              " 65.77319539026134,\n",
              " 68.0233148713402,\n",
              " 65.56026181860875,\n",
              " 66.0688957206867,\n",
              " 67.0632712736725,\n",
              " 64.86385080850474,\n",
              " 67.85475628370207,\n",
              " 66.06453687003126,\n",
              " 66.61560260033289,\n",
              " 66.16313231407838,\n",
              " 67.59873886358405,\n",
              " 65.2894140458321,\n",
              " 67.77415756457214,\n",
              " 67.37486522605877,\n",
              " 65.87806804945643,\n",
              " 67.09553865221348,\n",
              " 65.87561455810672,\n",
              " 65.55173685912543,\n",
              " 66.72811444541317,\n",
              " 65.88371236936813,\n",
              " 66.60262317271986,\n",
              " 67.10771057737752,\n",
              " 66.01121849613953,\n",
              " 66.92374124830624,\n",
              " 66.15623657705237,\n",
              " 66.73738257155537,\n",
              " 67.09132221467507,\n",
              " 67.23455402571305,\n",
              " 64.17885398599273,\n",
              " 66.67857674860512,\n",
              " 66.3784179987542,\n",
              " 65.63042075566696,\n",
              " 67.68950558264505,\n",
              " 64.49143547245218,\n",
              " 66.47700137841308,\n",
              " 66.55005490096514,\n",
              " 67.62652643545984,\n",
              " 67.91260899514954,\n",
              " 66.72357480054038,\n",
              " 66.36993148618265,\n",
              " 66.78368945310504,\n",
              " 64.88447513577212,\n",
              " 66.87864381349172,\n",
              " 67.35914312274977,\n",
              " 67.14947912909022,\n",
              " 65.67023258173448,\n",
              " 66.02939999315394,\n",
              " 66.49730748228117,\n",
              " 65.69917018689765,\n",
              " 64.95346751676894,\n",
              " 66.95446563311408,\n",
              " 66.04637612526976,\n",
              " 66.09430015897097,\n",
              " 67.82185085406445,\n",
              " 66.6678512377085,\n",
              " 67.14983463118477,\n",
              " 67.62093912733096,\n",
              " 65.52779793643137,\n",
              " 66.24784339229431,\n",
              " 66.04575311245114,\n",
              " 68.0307933678041,\n",
              " 66.16804940029229,\n",
              " 67.32914925876696,\n",
              " 66.31984393756808,\n",
              " 67.37000818852995,\n",
              " 66.92838603654252,\n",
              " 66.9938472222759,\n",
              " 66.06679491344039,\n",
              " 65.48590398743937,\n",
              " 66.25391039656726,\n",
              " 65.53352589053591,\n",
              " 65.71479691187207,\n",
              " 65.80372118965977,\n",
              " 67.37098721276502,\n",
              " 66.88537681905207,\n",
              " 65.61128411508489,\n",
              " 65.38014156609212,\n",
              " 66.42727973488552,\n",
              " 66.64499199366404,\n",
              " 66.29370129967091,\n",
              " 64.48983962639464,\n",
              " 66.2452594296863,\n",
              " 66.78823841447061,\n",
              " 67.68548760517857,\n",
              " 66.54731703708644,\n",
              " 66.62882957887223,\n",
              " 65.53979628096269,\n",
              " 67.18601898048476,\n",
              " 66.5113822006409,\n",
              " 65.30244478820113,\n",
              " 66.43629640493944,\n",
              " 66.19053034148726,\n",
              " 68.06631961594107,\n",
              " 66.91126604478204,\n",
              " 66.81394253895819,\n",
              " 64.81030783910464,\n",
              " 66.4930255851926,\n",
              " 67.93570982539345,\n",
              " 66.41962767568155,\n",
              " 67.87526831431556,\n",
              " 66.13176301825237,\n",
              " 66.10313773641988,\n",
              " 65.85180210065315,\n",
              " 66.2546642431902,\n",
              " 66.03032584881315,\n",
              " 66.7401860406044,\n",
              " 66.16705093459183,\n",
              " 66.12056784975809,\n",
              " 65.37278168960404,\n",
              " 64.7289011073033,\n",
              " 65.55269587149809,\n",
              " 65.20028105438138,\n",
              " 65.7570965836979,\n",
              " 66.4218727951492,\n",
              " 66.76379033112053,\n",
              " 66.02011057103631,\n",
              " 66.65438866546461,\n",
              " 66.46578662751335,\n",
              " 65.72554919942378,\n",
              " 68.03685539155606,\n",
              " 64.55108552006934,\n",
              " 65.97404342800061,\n",
              " 65.45427011719853,\n",
              " 65.84638504587382,\n",
              " 66.36197936451259,\n",
              " 66.45648204107538,\n",
              " 67.31705071377169,\n",
              " 67.37145187201375,\n",
              " 66.9830850727299,\n",
              " 65.45606521803903,\n",
              " 67.5804013525615,\n",
              " 66.77383238777053,\n",
              " 67.12705592473463,\n",
              " 66.83816165988227,\n",
              " 66.52229002889953,\n",
              " 66.95630393685084,\n",
              " 67.20017762892452,\n",
              " 66.50310420610582,\n",
              " 67.29050749442396,\n",
              " 67.53949560891182,\n",
              " 67.14572850598742,\n",
              " 66.29643764496426,\n",
              " 65.0602038325818,\n",
              " 66.97572139267484,\n",
              " 66.25158388457957,\n",
              " 64.46552476894095,\n",
              " 66.8356162909169,\n",
              " 66.27700754158467,\n",
              " 65.6924956562307,\n",
              " 67.53758008662835,\n",
              " 66.55766605802641,\n",
              " 66.29487274709999,\n",
              " 65.01001256886698,\n",
              " 66.13769276827543,\n",
              " 65.62931766078539,\n",
              " 66.81547663708471,\n",
              " 67.1535803844386,\n",
              " 66.84122660442256,\n",
              " 66.21734283873312,\n",
              " 67.1847688890459,\n",
              " 65.65748104661323,\n",
              " 66.24460318796316,\n",
              " 67.22545620868375,\n",
              " 67.83646661603822,\n",
              " 66.32862476046179,\n",
              " 66.1391034879458,\n",
              " 65.80921268870732,\n",
              " 66.78800339168541,\n",
              " 66.18569433281897,\n",
              " 66.20811222324305,\n",
              " 65.40840532172183,\n",
              " 65.47237442836865,\n",
              " 66.91483177099695,\n",
              " 66.79311200696038,\n",
              " 65.98482472142743,\n",
              " 66.55643921514957,\n",
              " 65.92113542416304,\n",
              " 67.03567102063163,\n",
              " 66.54653405563029,\n",
              " 66.06301501181945,\n",
              " 66.04653235901131,\n",
              " 66.20952565848883,\n",
              " 65.9251052194721,\n",
              " 65.82547921635691,\n",
              " 66.27272197238122,\n",
              " 66.4633516312983,\n",
              " 65.34076544005094,\n",
              " 67.0292214193179,\n",
              " 65.7473455143562,\n",
              " 66.95328265428176,\n",
              " 67.07347641127424,\n",
              " 66.37690008173742,\n",
              " 66.09842120647835,\n",
              " 66.68435127382591,\n",
              " 65.9551243472647,\n",
              " 67.54527616457993,\n",
              " 67.82952041132569,\n",
              " 68.44016350011364,\n",
              " 66.41822133011166,\n",
              " 66.26486279264735,\n",
              " 66.93681265633853,\n",
              " 65.4693397586226,\n",
              " 65.78324841130873,\n",
              " 66.69954191811675,\n",
              " 67.5238651670928,\n",
              " 65.80634773034525,\n",
              " 66.05417164657209,\n",
              " 66.30982600651338,\n",
              " 66.07170434766644,\n",
              " 67.59498241194648,\n",
              " 66.53455590994055,\n",
              " 65.42861177268526,\n",
              " 64.80154284734789,\n",
              " 66.33366430970067,\n",
              " 65.51444432280339,\n",
              " 66.02819254962007,\n",
              " 66.59188287424224,\n",
              " 67.15483388897127,\n",
              " 67.43182060301247,\n",
              " 67.02045897825505,\n",
              " 67.04996527298931,\n",
              " 65.91985200554913,\n",
              " 66.67012634014813,\n",
              " 65.6416447693968,\n",
              " 67.09846282110793,\n",
              " 66.08818952658982,\n",
              " 66.97803197902837,\n",
              " 67.6351531795653,\n",
              " 67.33173182447754,\n",
              " 66.83219752787704,\n",
              " 66.31339510960815,\n",
              " 67.84398239149074,\n",
              " 66.84138567611181,\n",
              " 66.90897536816172,\n",
              " 66.63036987067801,\n",
              " 66.07069617486708,\n",
              " 67.22151589411584,\n",
              " 67.92846167612603,\n",
              " 66.95894888419522,\n",
              " 65.92491703982942,\n",
              " 67.07238239138229,\n",
              " 66.53965590256729,\n",
              " 66.07072501121834,\n",
              " 66.86760699572667,\n",
              " 65.82771953990013,\n",
              " 65.54005030554372,\n",
              " 65.3992247372733,\n",
              " 66.92814049477421,\n",
              " 69.53334622778672,\n",
              " 66.9902399270508,\n",
              " 67.30120906260655,\n",
              " 67.06034932901522,\n",
              " 66.5539137932734,\n",
              " 68.08669755967126,\n",
              " 64.957679045588,\n",
              " 66.95229675714951,\n",
              " 67.53213492796503,\n",
              " 66.87135880265888,\n",
              " 65.47061197705565,\n",
              " 65.61848737321786,\n",
              " 66.93877525369976,\n",
              " 65.88050866152255,\n",
              " 64.36213473408394,\n",
              " 67.08645955825077,\n",
              " 67.15536710210066,\n",
              " 66.63911869545105,\n",
              " 65.94045050036144,\n",
              " 66.49759811174145,\n",
              " 65.55451362931304,\n",
              " 67.11225244059642,\n",
              " 66.02067106260112,\n",
              " 66.41129994828421,\n",
              " 67.62950917223169,\n",
              " 66.80027378904964,\n",
              " 67.70245254057127,\n",
              " 66.10405039783454,\n",
              " 67.20210777127492,\n",
              " 65.61901642990647,\n",
              " 66.97137653055232,\n",
              " 63.91890506807822,\n",
              " ...]"
            ]
          },
          "execution_count": 5,
          "metadata": {},
          "output_type": "execute_result"
        }
      ],
      "source": [
        "s20=[np.mean(df_height.sample(20)) for i in range(10000)]\n",
        "s20"
      ]
    },
    {
      "cell_type": "code",
      "execution_count": null,
      "metadata": {
        "colab": {
          "base_uri": "https://localhost:8080/",
          "height": 449
        },
        "id": "2Mx9-Pkt1mhG",
        "outputId": "2d2640d1-3786-43e8-fe41-dd00050b650e"
      },
      "outputs": [
        {
          "data": {
            "image/png": "[encoded data removed]",
            "text/plain": [
              "<Figure size 640x480 with 1 Axes>"
            ]
          },
          "metadata": {},
          "output_type": "display_data"
        }
      ],
      "source": [
        "sns.histplot(data=df_height)\n",
        "plt.show()"
      ]
    },
    {
      "cell_type": "code",
      "execution_count": null,
      "metadata": {
        "colab": {
          "base_uri": "https://localhost:8080/",
          "height": 448
        },
        "id": "kwGDNjk_1met",
        "outputId": "b2b6287b-1bda-4ddd-ef45-3c59a30733fb"
      },
      "outputs": [
        {
          "data": {
            "text/plain": [
              "<Axes: ylabel='Count'>"
            ]
          },
          "execution_count": 12,
          "metadata": {},
          "output_type": "execute_result"
        },
        {
          "data": {
            "image/png": "[encoded data removed]",
            "text/plain": [
              "<Figure size 640x480 with 1 Axes>"
            ]
          },
          "metadata": {},
          "output_type": "display_data"
        }
      ],
      "source": [
        "sns.histplot(data=s20, kde=True)"
      ]
    },
    {
      "cell_type": "markdown",
      "metadata": {
        "id": "vNeEb46PHosv"
      },
      "source": [
        "An unknown distribution has a mean of 90 and a standard deviation of 15.\n",
        "\n",
        "Samples of size n = 35 are drawn randomly from the population.\n",
        "\n",
        "Find the probability that the sample mean is between 85 and 92.\n",
        "\n",
        "(Round off the answer to 4 decimal points)"
      ]
    },
    {
      "cell_type": "code",
      "execution_count": null,
      "metadata": {
        "colab": {
          "base_uri": "https://localhost:8080/"
        },
        "id": "r37K5-tRHoO8",
        "outputId": "e84aaf69-1226-41a6-ca68-4bdac1cd2332"
      },
      "outputs": [
        {
          "data": {
            "text/plain": [
              "0.7605853690971865"
            ]
          },
          "execution_count": 80,
          "metadata": {},
          "output_type": "execute_result"
        }
      ],
      "source": [
        "norm.cdf((92-90)/(15/np.sqrt(35)))-norm.cdf((85-90)/(15/np.sqrt(35)))"
      ]
    },
    {
      "cell_type": "markdown",
      "metadata": {
        "id": "r7At5KomHs2k"
      },
      "source": [
        "Can we apply Central Limit theorem if we don't know the population standard deviation ?"
      ]
    },
    {
      "cell_type": "code",
      "execution_count": null,
      "metadata": {
        "id": "SxC-l8BUHoLZ"
      },
      "outputs": [],
      "source": [
        "#yes we can apply CLT"
      ]
    },
    {
      "cell_type": "markdown",
      "metadata": {
        "id": "dlZSJONQIUbh"
      },
      "source": [
        "The tip percentage for a delivery person has a mean value of 28% and a standard deviation of 7%.\n",
        "\n",
        "What is the probability that the sample mean tip percentage for a random sample of 50 bills is between 26% and 31%?"
      ]
    },
    {
      "cell_type": "code",
      "execution_count": null,
      "metadata": {
        "colab": {
          "base_uri": "https://localhost:8080/"
        },
        "id": "4ZDP3-8_HoIn",
        "outputId": "4b2e9070-b234-484c-ae61-2f37679165c9"
      },
      "outputs": [
        {
          "data": {
            "text/plain": [
              "0.009899494936611667"
            ]
          },
          "execution_count": 31,
          "metadata": {},
          "output_type": "execute_result"
        }
      ],
      "source": [
        "# mu = 0.28\n",
        "# S.D = 0.07\n",
        "# n = 50 between 26 % and 31%\n",
        "# lets calculate S.D of sample mean\n",
        "#S_D=n/sigma(n)\n",
        "sd = 0.07/np.sqrt(50)\n",
        "sd"
      ]
    },
    {
      "cell_type": "code",
      "execution_count": null,
      "metadata": {
        "colab": {
          "base_uri": "https://localhost:8080/"
        },
        "id": "fuggg1ObJ4Ms",
        "outputId": "abf5f8ba-9052-4d14-ea6c-6c52f90fa82a"
      },
      "outputs": [
        {
          "data": {
            "text/plain": [
              "0.9771032071594303"
            ]
          },
          "execution_count": 33,
          "metadata": {},
          "output_type": "execute_result"
        }
      ],
      "source": [
        "# x = u + z * sd\n",
        "z = norm.cdf((0.31-0.28)/sd)-norm.cdf((0.26-0.28)/sd)\n",
        "z\n"
      ]
    },
    {
      "cell_type": "markdown",
      "metadata": {
        "id": "LjfhGKqcKjpe"
      },
      "source": [
        "A company wants to estimate the average purchase amount made by customers on their e-commerce platform.\n",
        "They collect a random sample of 100 transactions and found that the average purchase amount is \\$75 with a standard deviation of $10. Construct a 90% confidence interval for the true average purchase amount."
      ]
    },
    {
      "cell_type": "code",
      "execution_count": null,
      "metadata": {
        "colab": {
          "base_uri": "https://localhost:8080/"
        },
        "id": "uBm9dAMmHnwt",
        "outputId": "d76e0dcc-9d51-4eb2-e403-c528c1e47659"
      },
      "outputs": [
        {
          "data": {
            "text/plain": [
              "1.0"
            ]
          },
          "execution_count": 34,
          "metadata": {},
          "output_type": "execute_result"
        }
      ],
      "source": [
        "# mu = 75\n",
        "# S.D = 10\n",
        "# n = 100\n",
        "# lets calculate S.D of sample mean\n",
        "#S_D=n/sigma(n)\n",
        "sd = 10/np.sqrt(100)\n",
        "sd"
      ]
    },
    {
      "cell_type": "code",
      "execution_count": null,
      "metadata": {
        "id": "MKmEnTpKLQJg"
      },
      "outputs": [],
      "source": [
        "#Lets calculate the ppf(point percentage function)\n",
        "z=norm.ppf(0.90)"
      ]
    },
    {
      "cell_type": "code",
      "execution_count": null,
      "metadata": {
        "colab": {
          "base_uri": "https://localhost:8080/"
        },
        "id": "yQ26NlcKLdDB",
        "outputId": "5afc3942-2268-4bb7-aea6-431870b81899"
      },
      "outputs": [
        {
          "data": {
            "text/plain": [
              "76.2815515655446"
            ]
          },
          "execution_count": 37,
          "metadata": {},
          "output_type": "execute_result"
        }
      ],
      "source": [
        "# x = u + z * sd\n",
        "x=75 + z * sd\n",
        "x"
      ]
    },
    {
      "cell_type": "markdown",
      "metadata": {
        "id": "Rr3DWaPCL693"
      },
      "source": [
        "A paint manufacturer in Delhi claims that his paint lasts for 5 years, on an average.\n",
        "\n",
        "Assuming that paint life is normally distributed and has a standard deviation of 0.5 years.\n",
        "\n",
        "If you randomly select 5 houses, what is the probability that the average paint life from these houses is less than 5.5 years ?"
      ]
    },
    {
      "cell_type": "code",
      "execution_count": null,
      "metadata": {
        "id": "6CTS5BoiL8EE"
      },
      "outputs": [],
      "source": [
        "# mu = 5\n",
        "# S.D = 0.5\n",
        "# n = 5\n",
        "# lets calculate S.D of sample mean\n",
        "#S_D=n/sigma(n)\n",
        "sd = 10/np.sqrt(100)\n",
        "sd"
      ]
    },
    {
      "cell_type": "markdown",
      "metadata": {
        "id": "gl1oub2MM0IC"
      },
      "source": [
        "The life of LED light bulbs manufactured in a factory is normally distributed with a mean equal to 900 hours and a standard deviation of 50 hours.\n",
        "\n",
        "Find the probability that a random sample of 20 bulbs will have an average life of less than 875 hours.\n",
        "\n",
        "(Round off the answer to 4 decimal points)"
      ]
    },
    {
      "cell_type": "code",
      "execution_count": null,
      "metadata": {
        "id": "t0RBRNa0M3JL"
      },
      "outputs": [],
      "source": [
        "# mu = 900\n",
        "# S.D = 50\n",
        "# n= 20\n",
        "#s.d = sigma/sqrt(n)\n"
      ]
    },
    {
      "cell_type": "code",
      "execution_count": null,
      "metadata": {
        "colab": {
          "base_uri": "https://localhost:8080/"
        },
        "id": "hqK_UMHgM3Gl",
        "outputId": "b1c2f222-2c1c-4ab0-db22-58f941274f0f"
      },
      "outputs": [
        {
          "data": {
            "text/plain": [
              "-2.23606797749979"
            ]
          },
          "execution_count": 6,
          "metadata": {},
          "output_type": "execute_result"
        }
      ],
      "source": [
        "z= (875-900)/(50/np.sqrt(20))\n",
        "z"
      ]
    },
    {
      "cell_type": "code",
      "execution_count": null,
      "metadata": {
        "colab": {
          "base_uri": "https://localhost:8080/"
        },
        "id": "RG94e3YJM3DO",
        "outputId": "99107a64-21bb-4f37-dc49-9d7f9e3842ef"
      },
      "outputs": [
        {
          "data": {
            "text/plain": [
              "0.012673659338734126"
            ]
          },
          "execution_count": 7,
          "metadata": {},
          "output_type": "execute_result"
        }
      ],
      "source": [
        "norm.cdf(z)"
      ]
    },
    {
      "cell_type": "markdown",
      "metadata": {
        "id": "t6as_k-wMp25"
      },
      "source": [
        "The average calcium intake for adults (ages 19–50) is 1000 milligrams (mg) per day.\n",
        "\n",
        "Assuming that we take a sample of 35 such adults, what percentage of them have a mean calcium intake of at most 947.4mg?\n",
        "\n",
        "Assume population standard deviation (σ) = 188 mg"
      ]
    },
    {
      "cell_type": "code",
      "execution_count": null,
      "metadata": {
        "id": "808afgyGNQrH"
      },
      "outputs": [],
      "source": [
        "# mu = 1000\n",
        "# S.D = 188\n",
        "# n= 35\n",
        "#s.d = sigma/sqrt(n)"
      ]
    },
    {
      "cell_type": "code",
      "execution_count": null,
      "metadata": {
        "colab": {
          "base_uri": "https://localhost:8080/"
        },
        "id": "xrvAvowxNQTw",
        "outputId": "a69af5d3-5b17-48de-a210-2c29c23bb264"
      },
      "outputs": [
        {
          "data": {
            "text/plain": [
              "31.777799977792224"
            ]
          },
          "execution_count": 8,
          "metadata": {},
          "output_type": "execute_result"
        }
      ],
      "source": [
        "sd=188/np.sqrt(35)\n",
        "sd"
      ]
    },
    {
      "cell_type": "code",
      "execution_count": null,
      "metadata": {
        "colab": {
          "base_uri": "https://localhost:8080/"
        },
        "id": "KUueRm5TNsXP",
        "outputId": "4ded0ad0-8be8-46c1-e534-73976beeac66"
      },
      "outputs": [
        {
          "data": {
            "text/plain": [
              "-1.6552435988885104"
            ]
          },
          "execution_count": 11,
          "metadata": {},
          "output_type": "execute_result"
        }
      ],
      "source": [
        "# x = mu + z * sigma\n",
        "z = (947.4 - 1000) /sd\n",
        "z"
      ]
    },
    {
      "cell_type": "code",
      "execution_count": null,
      "metadata": {
        "colab": {
          "base_uri": "https://localhost:8080/"
        },
        "id": "zH5HPlpGNsGG",
        "outputId": "c309c878-11dd-4441-fe60-77484575f503"
      },
      "outputs": [
        {
          "data": {
            "text/plain": [
              "0.04893754729607754"
            ]
          },
          "execution_count": 12,
          "metadata": {},
          "output_type": "execute_result"
        }
      ],
      "source": [
        "norm.cdf(z)"
      ]
    },
    {
      "cell_type": "code",
      "execution_count": null,
      "metadata": {
        "id": "ea1ilgIb1smT"
      },
      "outputs": [],
      "source": [
        "import numpy as np\n",
        "import pandas as pd\n",
        "import matplotlib.pyplot as plt\n",
        "import seaborn as sns"
      ]
    },
    {
      "cell_type": "code",
      "execution_count": null,
      "metadata": {
        "id": "aysXd4ST1J2g"
      },
      "outputs": [],
      "source": [
        "#binomial formula\n",
        "from scipy.stats import norm"
      ]
    },
    {
      "cell_type": "code",
      "execution_count": null,
      "metadata": {
        "colab": {
          "base_uri": "https://localhost:8080/"
        },
        "id": "A3HrqChMEy3N",
        "outputId": "34d8d538-717d-4338-a0ac-10b408eb4399"
      },
      "outputs": [
        {
          "data": {
            "text/plain": [
              "-1.9599639845400545"
            ]
          },
          "execution_count": 12,
          "metadata": {},
          "output_type": "execute_result"
        }
      ],
      "source": [
        "z1=norm.ppf(0.025)\n",
        "z1"
      ]
    },
    {
      "cell_type": "code",
      "execution_count": null,
      "metadata": {
        "colab": {
          "base_uri": "https://localhost:8080/"
        },
        "id": "NpGPInHIEyzr",
        "outputId": "394e9276-fc37-4ebf-f067-80c460fcdb4a"
      },
      "outputs": [
        {
          "data": {
            "text/plain": [
              "1.959963984540054"
            ]
          },
          "execution_count": 6,
          "metadata": {},
          "output_type": "execute_result"
        }
      ],
      "source": [
        "z2=norm.ppf(1-0.025)\n",
        "z2"
      ]
    },
    {
      "cell_type": "code",
      "execution_count": null,
      "metadata": {
        "id": "BSJK2ClA18hG"
      },
      "outputs": [],
      "source": [
        "x1=10.5+0.2*z1\n",
        "x2=10.5+0.2*z2"
      ]
    },
    {
      "cell_type": "code",
      "execution_count": null,
      "metadata": {
        "colab": {
          "base_uri": "https://localhost:8080/"
        },
        "id": "D3LemPNT18db",
        "outputId": "4e94f939-60cc-49eb-f47c-b9777d67cc4b"
      },
      "outputs": [
        {
          "data": {
            "text/plain": [
              "(10.108007203091988, 10.89199279690801)"
            ]
          },
          "execution_count": 11,
          "metadata": {},
          "output_type": "execute_result"
        }
      ],
      "source": [
        "x1, x2"
      ]
    },
    {
      "cell_type": "markdown",
      "metadata": {
        "id": "FKphTgCQ2-VX"
      },
      "source": [
        "Inbuilt function to calculate confidence interval"
      ]
    },
    {
      "cell_type": "code",
      "execution_count": null,
      "metadata": {
        "colab": {
          "base_uri": "https://localhost:8080/"
        },
        "id": "eZFqXo1s18aU",
        "outputId": "316fe33d-fa6a-4c85-8031-2015de66939f"
      },
      "outputs": [
        {
          "data": {
            "text/plain": [
              "(10.10800720309199, 10.89199279690801)"
            ]
          },
          "execution_count": 14,
          "metadata": {},
          "output_type": "execute_result"
        }
      ],
      "source": [
        "norm.interval(confidence=0.95, loc=10.5,scale=0.2)"
      ]
    },
    {
      "cell_type": "markdown",
      "metadata": {
        "id": "7xaieFq2493q"
      },
      "source": [
        "Bootstarp"
      ]
    },
    {
      "cell_type": "code",
      "execution_count": null,
      "metadata": {
        "id": "vqx26K4w18Xc"
      },
      "outputs": [],
      "source": [
        "survey_1=[35,36,33,37,34,35]"
      ]
    },
    {
      "cell_type": "code",
      "execution_count": null,
      "metadata": {
        "colab": {
          "base_uri": "https://localhost:8080/"
        },
        "id": "9gjOyNv-a9ag",
        "outputId": "8b02797c-7cfd-4393-efda-2b942a679a30"
      },
      "outputs": [
        {
          "data": {
            "text/plain": [
              "array([35, 33, 33, 36, 36, 37])"
            ]
          },
          "execution_count": 21,
          "metadata": {},
          "output_type": "execute_result"
        }
      ],
      "source": [
        "n=6\n",
        "np.random.choice(survey_1, n)"
      ]
    },
    {
      "cell_type": "code",
      "execution_count": null,
      "metadata": {
        "id": "1ZQi6aYubPuF"
      },
      "outputs": [],
      "source": [
        "bootstrap_mean_survey_1=[]\n",
        "for i in range(10000):\n",
        "  bootstrap_sample=np.random.choice(survey_1,size=6)\n",
        "  bootstrap_mean=np.mean(bootstrap_sample)\n",
        "  bootstrap_mean_survey_1.append(bootstrap_mean)\n"
      ]
    },
    {
      "cell_type": "code",
      "execution_count": null,
      "metadata": {
        "colab": {
          "base_uri": "https://localhost:8080/",
          "height": 448
        },
        "id": "0tZq72TOcWMQ",
        "outputId": "631eccad-102f-49f4-94ad-8303a6a395f6"
      },
      "outputs": [
        {
          "data": {
            "text/plain": [
              "<Axes: ylabel='Count'>"
            ]
          },
          "execution_count": 45,
          "metadata": {},
          "output_type": "execute_result"
        },
        {
          "data": {
            "image/png": "[encoded data removed]",
            "text/plain": [
              "<Figure size 640x480 with 1 Axes>"
            ]
          },
          "metadata": {},
          "output_type": "display_data"
        }
      ],
      "source": [
        "sns.histplot(data=bootstrap_mean_survey_1)"
      ]
    },
    {
      "cell_type": "code",
      "execution_count": null,
      "metadata": {
        "id": "GJaHYoTlYEsZ"
      },
      "outputs": [],
      "source": [
        "survey_2=[20,37,17,50,53,33]"
      ]
    },
    {
      "cell_type": "code",
      "execution_count": null,
      "metadata": {
        "colab": {
          "base_uri": "https://localhost:8080/"
        },
        "id": "Z2v_XWMlavRn",
        "outputId": "7e6a0bf9-5b4f-45ed-e5ed-cf5a5a0a60e4"
      },
      "outputs": [
        {
          "data": {
            "text/plain": [
              "35.0"
            ]
          },
          "execution_count": 29,
          "metadata": {},
          "output_type": "execute_result"
        }
      ],
      "source": [
        "np.mean(survey_2)"
      ]
    },
    {
      "cell_type": "code",
      "execution_count": null,
      "metadata": {
        "colab": {
          "base_uri": "https://localhost:8080/"
        },
        "id": "XAr6IVEKa5bc",
        "outputId": "9f18b4fc-5c07-4c0c-9735-43665540f1a6"
      },
      "outputs": [
        {
          "data": {
            "text/plain": [
              "array([17, 20, 17, 53, 37, 53])"
            ]
          },
          "execution_count": 30,
          "metadata": {},
          "output_type": "execute_result"
        }
      ],
      "source": [
        "n=6\n",
        "np.random.choice(survey_2, n)"
      ]
    },
    {
      "cell_type": "code",
      "execution_count": null,
      "metadata": {
        "id": "lCVMoYuTavLE"
      },
      "outputs": [],
      "source": [
        "bootstrap_mean_survey_2=[]\n",
        "for i in range(10000):\n",
        "  bootstrap_sample=np.random.choice(survey_2, size=6)\n",
        "  bootstrap_mean=np.mean( bootstrap_sample)\n",
        "  bootstrap_mean_survey_2.append(bootstrap_mean)"
      ]
    },
    {
      "cell_type": "code",
      "execution_count": null,
      "metadata": {
        "colab": {
          "base_uri": "https://localhost:8080/",
          "height": 448
        },
        "id": "Ny8hv6OZdeyl",
        "outputId": "1787364e-2cd0-4a0d-f80b-3540a063c116"
      },
      "outputs": [
        {
          "data": {
            "text/plain": [
              "<Axes: ylabel='Count'>"
            ]
          },
          "execution_count": 36,
          "metadata": {},
          "output_type": "execute_result"
        },
        {
          "data": {
            "image/png": "[encoded data removed]",
            "text/plain": [
              "<Figure size 640x480 with 1 Axes>"
            ]
          },
          "metadata": {},
          "output_type": "display_data"
        }
      ],
      "source": [
        "sns.histplot(bootstrap_mean_survey_2)"
      ]
    },
    {
      "cell_type": "code",
      "execution_count": null,
      "metadata": {
        "id": "GUnV16Hwf2E4"
      },
      "outputs": [],
      "source": [
        "x1=np.percentile(bootstrap_mean_survey_2, 2.5)\n",
        "x2=np.percentile(bootstrap_mean_survey_2, 97.5)"
      ]
    },
    {
      "cell_type": "code",
      "execution_count": null,
      "metadata": {
        "colab": {
          "base_uri": "https://localhost:8080/"
        },
        "id": "xY760hH_gLv3",
        "outputId": "00a41cea-e515-4d9d-e9ed-8e111f4469b3"
      },
      "outputs": [
        {
          "data": {
            "text/plain": [
              "(24.0, 46.0)"
            ]
          },
          "execution_count": 39,
          "metadata": {},
          "output_type": "execute_result"
        }
      ],
      "source": [
        "x1, x2"
      ]
    },
    {
      "cell_type": "code",
      "execution_count": null,
      "metadata": {
        "id": "gIrmulnugLtc"
      },
      "outputs": [],
      "source": [
        "y1=np.percentile(bootstrap_mean_survey_1, 2.5)\n",
        "y2=np.percentile(bootstrap_mean_survey_1, 97.5)"
      ]
    },
    {
      "cell_type": "code",
      "execution_count": null,
      "metadata": {
        "colab": {
          "base_uri": "https://localhost:8080/"
        },
        "id": "3RKyIoNmgTH3",
        "outputId": "a901bf26-3ae5-4bed-aa40-e5e3b74e0517"
      },
      "outputs": [
        {
          "data": {
            "text/plain": [
              "(34.0, 36.0)"
            ]
          },
          "execution_count": 47,
          "metadata": {},
          "output_type": "execute_result"
        }
      ],
      "source": [
        "y1, y2"
      ]
    },
    {
      "cell_type": "code",
      "execution_count": null,
      "metadata": {
        "colab": {
          "base_uri": "https://localhost:8080/",
          "height": 423
        },
        "id": "aKSrPuAqgTEU",
        "outputId": "d21f0d9b-4436-4f43-bf03-c7af05d316fc"
      },
      "outputs": [
        {
          "data": {
            "application/vnd.google.colaboratory.intrinsic+json": {
              "summary": "{\n  \"name\": \"df\",\n  \"rows\": 90046,\n  \"fields\": [\n    {\n      \"column\": \"time\",\n      \"properties\": {\n        \"dtype\": \"number\",\n        \"std\": 57.15118102853873,\n        \"min\": 10.000115413646306,\n        \"max\": 272.9994133753734,\n        \"num_unique_values\": 90046,\n        \"samples\": [\n          151.0882516179474,\n          22.455015339495493,\n          11.09978658872463\n        ],\n        \"semantic_type\": \"\",\n        \"description\": \"\"\n      }\n    }\n  ]\n}",
              "type": "dataframe",
              "variable_name": "df"
            },
            "text/html": [
              "\n",
              "  <div id=\"df-ef6300c1-0764-4255-a4c5-68e2d6f68bb1\" class=\"colab-df-container\">\n",
              "    <div>\n",
              "<style scoped>\n",
              "    .dataframe tbody tr th:only-of-type {\n",
              "        vertical-align: middle;\n",
              "    }\n",
              "\n",
              "    .dataframe tbody tr th {\n",
              "        vertical-align: top;\n",
              "    }\n",
              "\n",
              "    .dataframe thead th {\n",
              "        text-align: right;\n",
              "    }\n",
              "</style>\n",
              "<table border=\"1\" class=\"dataframe\">\n",
              "  <thead>\n",
              "    <tr style=\"text-align: right;\">\n",
              "      <th></th>\n",
              "      <th>time</th>\n",
              "    </tr>\n",
              "  </thead>\n",
              "  <tbody>\n",
              "    <tr>\n",
              "      <th>0</th>\n",
              "      <td>184.003075</td>\n",
              "    </tr>\n",
              "    <tr>\n",
              "      <th>1</th>\n",
              "      <td>36.721521</td>\n",
              "    </tr>\n",
              "    <tr>\n",
              "      <th>2</th>\n",
              "      <td>29.970417</td>\n",
              "    </tr>\n",
              "    <tr>\n",
              "      <th>3</th>\n",
              "      <td>75.640285</td>\n",
              "    </tr>\n",
              "    <tr>\n",
              "      <th>4</th>\n",
              "      <td>61.489439</td>\n",
              "    </tr>\n",
              "    <tr>\n",
              "      <th>...</th>\n",
              "      <td>...</td>\n",
              "    </tr>\n",
              "    <tr>\n",
              "      <th>90041</th>\n",
              "      <td>135.885984</td>\n",
              "    </tr>\n",
              "    <tr>\n",
              "      <th>90042</th>\n",
              "      <td>15.223970</td>\n",
              "    </tr>\n",
              "    <tr>\n",
              "      <th>90043</th>\n",
              "      <td>207.839528</td>\n",
              "    </tr>\n",
              "    <tr>\n",
              "      <th>90044</th>\n",
              "      <td>140.488418</td>\n",
              "    </tr>\n",
              "    <tr>\n",
              "      <th>90045</th>\n",
              "      <td>50.719544</td>\n",
              "    </tr>\n",
              "  </tbody>\n",
              "</table>\n",
              "<p>90046 rows × 1 columns</p>\n",
              "</div>\n",
              "    <div class=\"colab-df-buttons\">\n",
              "\n",
              "  <div class=\"colab-df-container\">\n",
              "    <button class=\"colab-df-convert\" onclick=\"convertToInteractive('df-ef6300c1-0764-4255-a4c5-68e2d6f68bb1')\"\n",
              "            title=\"Convert this dataframe to an interactive table.\"\n",
              "            style=\"display:none;\">\n",
              "\n",
              "  <svg xmlns=\"http://www.w3.org/2000/svg\" height=\"24px\" viewBox=\"0 -960 960 960\">\n",
              "    <path d=\"M120-120v-720h720v720H120Zm60-500h600v-160H180v160Zm220 220h160v-160H400v160Zm0 220h160v-160H400v160ZM180-400h160v-160H180v160Zm440 0h160v-160H620v160ZM180-180h160v-160H180v160Zm440 0h160v-160H620v160Z\"/>\n",
              "  </svg>\n",
              "    </button>\n",
              "\n",
              "  <style>\n",
              "    .colab-df-container {\n",
              "      display:flex;\n",
              "      gap: 12px;\n",
              "    }\n",
              "\n",
              "    .colab-df-convert {\n",
              "      background-color: #E8F0FE;\n",
              "      border: none;\n",
              "      border-radius: 50%;\n",
              "      cursor: pointer;\n",
              "      display: none;\n",
              "      fill: #1967D2;\n",
              "      height: 32px;\n",
              "      padding: 0 0 0 0;\n",
              "      width: 32px;\n",
              "    }\n",
              "\n",
              "    .colab-df-convert:hover {\n",
              "      background-color: #E2EBFA;\n",
              "      box-shadow: 0px 1px 2px rgba(60, 64, 67, 0.3), 0px 1px 3px 1px rgba(60, 64, 67, 0.15);\n",
              "      fill: #174EA6;\n",
              "    }\n",
              "\n",
              "    .colab-df-buttons div {\n",
              "      margin-bottom: 4px;\n",
              "    }\n",
              "\n",
              "    [theme=dark] .colab-df-convert {\n",
              "      background-color: #3B4455;\n",
              "      fill: #D2E3FC;\n",
              "    }\n",
              "\n",
              "    [theme=dark] .colab-df-convert:hover {\n",
              "      background-color: #434B5C;\n",
              "      box-shadow: 0px 1px 3px 1px rgba(0, 0, 0, 0.15);\n",
              "      filter: drop-shadow(0px 1px 2px rgba(0, 0, 0, 0.3));\n",
              "      fill: #FFFFFF;\n",
              "    }\n",
              "  </style>\n",
              "\n",
              "    <script>\n",
              "      const buttonEl =\n",
              "        document.querySelector('#df-ef6300c1-0764-4255-a4c5-68e2d6f68bb1 button.colab-df-convert');\n",
              "      buttonEl.style.display =\n",
              "        google.colab.kernel.accessAllowed ? 'block' : 'none';\n",
              "\n",
              "      async function convertToInteractive(key) {\n",
              "        const element = document.querySelector('#df-ef6300c1-0764-4255-a4c5-68e2d6f68bb1');\n",
              "        const dataTable =\n",
              "          await google.colab.kernel.invokeFunction('convertToInteractive',\n",
              "                                                    [key], {});\n",
              "        if (!dataTable) return;\n",
              "\n",
              "        const docLinkHtml = 'Like what you see? Visit the ' +\n",
              "          '<a target=\"_blank\" href=https://colab.research.google.com/notebooks/data_table.ipynb>data table notebook</a>'\n",
              "          + ' to learn more about interactive tables.';\n",
              "        element.innerHTML = '';\n",
              "        dataTable['output_type'] = 'display_data';\n",
              "        await google.colab.output.renderOutput(dataTable, element);\n",
              "        const docLink = document.createElement('div');\n",
              "        docLink.innerHTML = docLinkHtml;\n",
              "        element.appendChild(docLink);\n",
              "      }\n",
              "    </script>\n",
              "  </div>\n",
              "\n",
              "\n",
              "<div id=\"df-c5572c5d-154e-4cd1-99a6-9cd77e0a00fe\">\n",
              "  <button class=\"colab-df-quickchart\" onclick=\"quickchart('df-c5572c5d-154e-4cd1-99a6-9cd77e0a00fe')\"\n",
              "            title=\"Suggest charts\"\n",
              "            style=\"display:none;\">\n",
              "\n",
              "<svg xmlns=\"http://www.w3.org/2000/svg\" height=\"24px\"viewBox=\"0 0 24 24\"\n",
              "     width=\"24px\">\n",
              "    <g>\n",
              "        <path d=\"M19 3H5c-1.1 0-2 .9-2 2v14c0 1.1.9 2 2 2h14c1.1 0 2-.9 2-2V5c0-1.1-.9-2-2-2zM9 17H7v-7h2v7zm4 0h-2V7h2v10zm4 0h-2v-4h2v4z\"/>\n",
              "    </g>\n",
              "</svg>\n",
              "  </button>\n",
              "\n",
              "<style>\n",
              "  .colab-df-quickchart {\n",
              "      --bg-color: #E8F0FE;\n",
              "      --fill-color: #1967D2;\n",
              "      --hover-bg-color: #E2EBFA;\n",
              "      --hover-fill-color: #174EA6;\n",
              "      --disabled-fill-color: #AAA;\n",
              "      --disabled-bg-color: #DDD;\n",
              "  }\n",
              "\n",
              "  [theme=dark] .colab-df-quickchart {\n",
              "      --bg-color: #3B4455;\n",
              "      --fill-color: #D2E3FC;\n",
              "      --hover-bg-color: #434B5C;\n",
              "      --hover-fill-color: #FFFFFF;\n",
              "      --disabled-bg-color: #3B4455;\n",
              "      --disabled-fill-color: #666;\n",
              "  }\n",
              "\n",
              "  .colab-df-quickchart {\n",
              "    background-color: var(--bg-color);\n",
              "    border: none;\n",
              "    border-radius: 50%;\n",
              "    cursor: pointer;\n",
              "    display: none;\n",
              "    fill: var(--fill-color);\n",
              "    height: 32px;\n",
              "    padding: 0;\n",
              "    width: 32px;\n",
              "  }\n",
              "\n",
              "  .colab-df-quickchart:hover {\n",
              "    background-color: var(--hover-bg-color);\n",
              "    box-shadow: 0 1px 2px rgba(60, 64, 67, 0.3), 0 1px 3px 1px rgba(60, 64, 67, 0.15);\n",
              "    fill: var(--button-hover-fill-color);\n",
              "  }\n",
              "\n",
              "  .colab-df-quickchart-complete:disabled,\n",
              "  .colab-df-quickchart-complete:disabled:hover {\n",
              "    background-color: var(--disabled-bg-color);\n",
              "    fill: var(--disabled-fill-color);\n",
              "    box-shadow: none;\n",
              "  }\n",
              "\n",
              "  .colab-df-spinner {\n",
              "    border: 2px solid var(--fill-color);\n",
              "    border-color: transparent;\n",
              "    border-bottom-color: var(--fill-color);\n",
              "    animation:\n",
              "      spin 1s steps(1) infinite;\n",
              "  }\n",
              "\n",
              "  @keyframes spin {\n",
              "    0% {\n",
              "      border-color: transparent;\n",
              "      border-bottom-color: var(--fill-color);\n",
              "      border-left-color: var(--fill-color);\n",
              "    }\n",
              "    20% {\n",
              "      border-color: transparent;\n",
              "      border-left-color: var(--fill-color);\n",
              "      border-top-color: var(--fill-color);\n",
              "    }\n",
              "    30% {\n",
              "      border-color: transparent;\n",
              "      border-left-color: var(--fill-color);\n",
              "      border-top-color: var(--fill-color);\n",
              "      border-right-color: var(--fill-color);\n",
              "    }\n",
              "    40% {\n",
              "      border-color: transparent;\n",
              "      border-right-color: var(--fill-color);\n",
              "      border-top-color: var(--fill-color);\n",
              "    }\n",
              "    60% {\n",
              "      border-color: transparent;\n",
              "      border-right-color: var(--fill-color);\n",
              "    }\n",
              "    80% {\n",
              "      border-color: transparent;\n",
              "      border-right-color: var(--fill-color);\n",
              "      border-bottom-color: var(--fill-color);\n",
              "    }\n",
              "    90% {\n",
              "      border-color: transparent;\n",
              "      border-bottom-color: var(--fill-color);\n",
              "    }\n",
              "  }\n",
              "</style>\n",
              "\n",
              "  <script>\n",
              "    async function quickchart(key) {\n",
              "      const quickchartButtonEl =\n",
              "        document.querySelector('#' + key + ' button');\n",
              "      quickchartButtonEl.disabled = true;  // To prevent multiple clicks.\n",
              "      quickchartButtonEl.classList.add('colab-df-spinner');\n",
              "      try {\n",
              "        const charts = await google.colab.kernel.invokeFunction(\n",
              "            'suggestCharts', [key], {});\n",
              "      } catch (error) {\n",
              "        console.error('Error during call to suggestCharts:', error);\n",
              "      }\n",
              "      quickchartButtonEl.classList.remove('colab-df-spinner');\n",
              "      quickchartButtonEl.classList.add('colab-df-quickchart-complete');\n",
              "    }\n",
              "    (() => {\n",
              "      let quickchartButtonEl =\n",
              "        document.querySelector('#df-c5572c5d-154e-4cd1-99a6-9cd77e0a00fe button');\n",
              "      quickchartButtonEl.style.display =\n",
              "        google.colab.kernel.accessAllowed ? 'block' : 'none';\n",
              "    })();\n",
              "  </script>\n",
              "</div>\n",
              "\n",
              "  <div id=\"id_4cf34232-0b57-42c2-90e1-785e517deb1c\">\n",
              "    <style>\n",
              "      .colab-df-generate {\n",
              "        background-color: #E8F0FE;\n",
              "        border: none;\n",
              "        border-radius: 50%;\n",
              "        cursor: pointer;\n",
              "        display: none;\n",
              "        fill: #1967D2;\n",
              "        height: 32px;\n",
              "        padding: 0 0 0 0;\n",
              "        width: 32px;\n",
              "      }\n",
              "\n",
              "      .colab-df-generate:hover {\n",
              "        background-color: #E2EBFA;\n",
              "        box-shadow: 0px 1px 2px rgba(60, 64, 67, 0.3), 0px 1px 3px 1px rgba(60, 64, 67, 0.15);\n",
              "        fill: #174EA6;\n",
              "      }\n",
              "\n",
              "      [theme=dark] .colab-df-generate {\n",
              "        background-color: #3B4455;\n",
              "        fill: #D2E3FC;\n",
              "      }\n",
              "\n",
              "      [theme=dark] .colab-df-generate:hover {\n",
              "        background-color: #434B5C;\n",
              "        box-shadow: 0px 1px 3px 1px rgba(0, 0, 0, 0.15);\n",
              "        filter: drop-shadow(0px 1px 2px rgba(0, 0, 0, 0.3));\n",
              "        fill: #FFFFFF;\n",
              "      }\n",
              "    </style>\n",
              "    <button class=\"colab-df-generate\" onclick=\"generateWithVariable('df')\"\n",
              "            title=\"Generate code using this dataframe.\"\n",
              "            style=\"display:none;\">\n",
              "\n",
              "  <svg xmlns=\"http://www.w3.org/2000/svg\" height=\"24px\"viewBox=\"0 0 24 24\"\n",
              "       width=\"24px\">\n",
              "    <path d=\"M7,19H8.4L18.45,9,17,7.55,7,17.6ZM5,21V16.75L18.45,3.32a2,2,0,0,1,2.83,0l1.4,1.43a1.91,1.91,0,0,1,.58,1.4,1.91,1.91,0,0,1-.58,1.4L9.25,21ZM18.45,9,17,7.55Zm-12,3A5.31,5.31,0,0,0,4.9,8.1,5.31,5.31,0,0,0,1,6.5,5.31,5.31,0,0,0,4.9,4.9,5.31,5.31,0,0,0,6.5,1,5.31,5.31,0,0,0,8.1,4.9,5.31,5.31,0,0,0,12,6.5,5.46,5.46,0,0,0,6.5,12Z\"/>\n",
              "  </svg>\n",
              "    </button>\n",
              "    <script>\n",
              "      (() => {\n",
              "      const buttonEl =\n",
              "        document.querySelector('#id_4cf34232-0b57-42c2-90e1-785e517deb1c button.colab-df-generate');\n",
              "      buttonEl.style.display =\n",
              "        google.colab.kernel.accessAllowed ? 'block' : 'none';\n",
              "\n",
              "      buttonEl.onclick = () => {\n",
              "        google.colab.notebook.generateWithVariable('df');\n",
              "      }\n",
              "      })();\n",
              "    </script>\n",
              "  </div>\n",
              "\n",
              "    </div>\n",
              "  </div>\n"
            ],
            "text/plain": [
              "             time\n",
              "0      184.003075\n",
              "1       36.721521\n",
              "2       29.970417\n",
              "3       75.640285\n",
              "4       61.489439\n",
              "...           ...\n",
              "90041  135.885984\n",
              "90042   15.223970\n",
              "90043  207.839528\n",
              "90044  140.488418\n",
              "90045   50.719544\n",
              "\n",
              "[90046 rows x 1 columns]"
            ]
          },
          "execution_count": 51,
          "metadata": {},
          "output_type": "execute_result"
        }
      ],
      "source": [
        "df=pd.read_csv('waiting_time.csv')\n",
        "df"
      ]
    },
    {
      "cell_type": "code",
      "execution_count": null,
      "metadata": {
        "id": "Hu4xLQbtkehi"
      },
      "outputs": [],
      "source": [
        "import numpy as np\n",
        "import pandas as pd\n",
        "import matplotlib.pyplot as plt\n",
        "import seaborn as sns\n",
        "from scipy.stats import norm"
      ]
    },
    {
      "cell_type": "markdown",
      "metadata": {
        "id": "Q3fOrPGZlFG5"
      },
      "source": [
        "A company wants to estimate the average purchase amount made by customers on their e-commerce platform.\n",
        "They collect a random sample of 100 transactions and found that the average purchase amount is \\$75 with a standard deviation of $10. Construct a 90% confidence interval for the true average purchase amount."
      ]
    },
    {
      "cell_type": "code",
      "execution_count": null,
      "metadata": {
        "colab": {
          "base_uri": "https://localhost:8080/"
        },
        "id": "lHmMkotulCZZ",
        "outputId": "213c5280-0258-40e9-8d4e-861fac50dfdc"
      },
      "outputs": [
        {
          "data": {
            "text/plain": [
              "1.6448536269514722"
            ]
          },
          "execution_count": 16,
          "metadata": {},
          "output_type": "execute_result"
        }
      ],
      "source": [
        "# mu= 75\n",
        "# sigma= 10\n",
        "# n 100\n",
        "# cI = 90%\n",
        "# calculate z1 , z1 and x1, x2\n",
        "# sigma/sqrt(n)\n",
        "z1= norm.ppf(1-0.05)\n",
        "z1"
      ]
    },
    {
      "cell_type": "code",
      "execution_count": null,
      "metadata": {
        "colab": {
          "base_uri": "https://localhost:8080/"
        },
        "id": "Gg86RWoHllNB",
        "outputId": "ea72c693-9eec-4227-ab41-1cc77e69910d"
      },
      "outputs": [
        {
          "data": {
            "text/plain": [
              "-1.6448536269514729"
            ]
          },
          "execution_count": 17,
          "metadata": {},
          "output_type": "execute_result"
        }
      ],
      "source": [
        "z2 = norm.ppf(0.05)\n",
        "z2"
      ]
    },
    {
      "cell_type": "code",
      "execution_count": null,
      "metadata": {
        "colab": {
          "base_uri": "https://localhost:8080/"
        },
        "id": "P3rm_CTLllJq",
        "outputId": "ea3d33eb-a82f-4cff-e26e-ab7102d3bfb9"
      },
      "outputs": [
        {
          "data": {
            "text/plain": [
              "76.64485362695147"
            ]
          },
          "execution_count": 23,
          "metadata": {},
          "output_type": "execute_result"
        }
      ],
      "source": [
        "x1= 75 + 1 * z1\n",
        "x1"
      ]
    },
    {
      "cell_type": "code",
      "execution_count": null,
      "metadata": {
        "colab": {
          "base_uri": "https://localhost:8080/"
        },
        "id": "K6mI8Ig0llGl",
        "outputId": "4f70e7bc-c6f2-4b6f-ced4-94be3e2908ac"
      },
      "outputs": [
        {
          "data": {
            "text/plain": [
              "73.35514637304853"
            ]
          },
          "execution_count": 19,
          "metadata": {},
          "output_type": "execute_result"
        }
      ],
      "source": [
        "x2= 75 + 1 * z2\n",
        "x2"
      ]
    },
    {
      "cell_type": "code",
      "execution_count": null,
      "metadata": {
        "colab": {
          "base_uri": "https://localhost:8080/"
        },
        "id": "bkFrtyISmh9o",
        "outputId": "f40987bb-2313-4e76-836f-71655bca244d"
      },
      "outputs": [
        {
          "data": {
            "text/plain": [
              "(74.91775731865242, 75.08224268134758)"
            ]
          },
          "execution_count": 22,
          "metadata": {},
          "output_type": "execute_result"
        }
      ],
      "source": [
        "norm.interval(confidence=0.90, loc=75,scale=0.05)"
      ]
    },
    {
      "cell_type": "markdown",
      "metadata": {
        "id": "PsdDCkLEz66Y"
      },
      "source": [
        "The mean height of a sample of 100 adults was found to be 165 cm. The population standard deviation for height of adults is known to be 8 cm.\n",
        "\n",
        "Construct a 90% confidence interval for the true mean height of the adult population."
      ]
    },
    {
      "cell_type": "code",
      "execution_count": null,
      "metadata": {
        "colab": {
          "base_uri": "https://localhost:8080/"
        },
        "id": "HzwhVBZGz9rN",
        "outputId": "7084324b-d551-4bfa-b228-9d4345f6fb90"
      },
      "outputs": [
        {
          "data": {
            "text/plain": [
              "1.6448536269514722"
            ]
          },
          "execution_count": 24,
          "metadata": {},
          "output_type": "execute_result"
        }
      ],
      "source": [
        "# mu= 165 cm\n",
        "# sigma= 8\n",
        "# n 100\n",
        "# cI = 90%\n",
        "# calculate z1 , z1 and x1, x2\n",
        "# mean of sample mean (sigma)=sigma/sqrt(n)\n",
        "z1= norm.ppf(1-0.05)\n",
        "z1"
      ]
    },
    {
      "cell_type": "code",
      "execution_count": null,
      "metadata": {
        "colab": {
          "base_uri": "https://localhost:8080/"
        },
        "id": "0PcoUobOz9n8",
        "outputId": "1f0f3e88-7632-49e5-f828-e234ea259f5d"
      },
      "outputs": [
        {
          "data": {
            "text/plain": [
              "-1.6448536269514729"
            ]
          },
          "execution_count": 25,
          "metadata": {},
          "output_type": "execute_result"
        }
      ],
      "source": [
        "z2= norm.ppf(0.05)\n",
        "z2"
      ]
    },
    {
      "cell_type": "code",
      "execution_count": null,
      "metadata": {
        "colab": {
          "base_uri": "https://localhost:8080/"
        },
        "id": "i7q0_fzTz9lW",
        "outputId": "65883ec2-86ed-49fc-baab-b9cb189030a0"
      },
      "outputs": [
        {
          "data": {
            "text/plain": [
              "166.31588290156117"
            ]
          },
          "execution_count": 26,
          "metadata": {},
          "output_type": "execute_result"
        }
      ],
      "source": [
        "x1= 165 + (0.8 * z1)\n",
        "x1"
      ]
    },
    {
      "cell_type": "code",
      "execution_count": null,
      "metadata": {
        "colab": {
          "base_uri": "https://localhost:8080/"
        },
        "id": "_nduYBAJz9iZ",
        "outputId": "de6affff-129d-4f23-caa2-4b5faf0b830f"
      },
      "outputs": [
        {
          "data": {
            "text/plain": [
              "163.68411709843883"
            ]
          },
          "execution_count": 27,
          "metadata": {},
          "output_type": "execute_result"
        }
      ],
      "source": [
        "x2= 165 + (0.8 * z2)\n",
        "x2"
      ]
    },
    {
      "cell_type": "code",
      "execution_count": null,
      "metadata": {
        "colab": {
          "base_uri": "https://localhost:8080/"
        },
        "id": "6tkHrg3m0vK5",
        "outputId": "1ca458d0-aa25-4d81-acd1-6b94a04c2c2b"
      },
      "outputs": [
        {
          "data": {
            "text/plain": [
              "(164.91775731865243, 165.08224268134757)"
            ]
          },
          "execution_count": 30,
          "metadata": {},
          "output_type": "execute_result"
        }
      ],
      "source": [
        "norm.interval(confidence=0.90, loc=165,scale=0.05)"
      ]
    },
    {
      "cell_type": "markdown",
      "metadata": {
        "id": "pBYRkNGZIYzp"
      },
      "source": [
        "A paint manufacturer in Delhi claims that his paint lasts for 5 years, on an average.\n",
        "\n",
        "Assuming that paint life is normally distributed and has a standard deviation of 0.5 years.\n",
        "\n",
        "If you randomly select 5 houses, what is the probability that the average paint life from these houses is less than 5.5 years ?"
      ]
    },
    {
      "cell_type": "code",
      "execution_count": null,
      "metadata": {
        "colab": {
          "base_uri": "https://localhost:8080/"
        },
        "id": "uQ8hcMIIIbkA",
        "outputId": "16694081-2fc6-4aa3-b775-f2b0b33dacb3"
      },
      "outputs": [
        {
          "data": {
            "text/plain": [
              "2.23606797749979"
            ]
          },
          "execution_count": 3,
          "metadata": {},
          "output_type": "execute_result"
        }
      ],
      "source": [
        "z= (5.5 - 5)/ (0.5 / np.sqrt(5))\n",
        "z\n"
      ]
    },
    {
      "cell_type": "code",
      "execution_count": null,
      "metadata": {
        "colab": {
          "base_uri": "https://localhost:8080/"
        },
        "id": "d0U7fC8tKkwq",
        "outputId": "a5f1d80e-5381-4303-bc79-2c5158737c5a"
      },
      "outputs": [
        {
          "data": {
            "text/plain": [
              "0.9873263406612659"
            ]
          },
          "execution_count": 5,
          "metadata": {},
          "output_type": "execute_result"
        }
      ],
      "source": [
        "norm.cdf(z)"
      ]
    },
    {
      "cell_type": "code",
      "execution_count": null,
      "metadata": {
        "colab": {
          "base_uri": "https://localhost:8080/",
          "height": 448
        },
        "id": "ww2vR4B4gTBQ",
        "outputId": "731975f7-2699-4570-97b0-b6252f716e5e"
      },
      "outputs": [
        {
          "data": {
            "text/plain": [
              "<Axes: ylabel='Count'>"
            ]
          },
          "execution_count": 52,
          "metadata": {},
          "output_type": "execute_result"
        },
        {
          "data": {
            "image/png": "[encoded data removed]",
            "text/plain": [
              "<Figure size 640x480 with 1 Axes>"
            ]
          },
          "metadata": {},
          "output_type": "display_data"
        }
      ],
      "source": [
        "sns.histplot(data=df)"
      ]
    },
    {
      "cell_type": "code",
      "execution_count": null,
      "metadata": {
        "id": "J1rRpiQVj0LR"
      },
      "outputs": [],
      "source": [
        "data_log=np.log(df)"
      ]
    },
    {
      "cell_type": "code",
      "execution_count": null,
      "metadata": {
        "colab": {
          "base_uri": "https://localhost:8080/",
          "height": 448
        },
        "id": "SDxxS60Ijr13",
        "outputId": "66df905c-3d73-4ab3-e04e-20be68fb12bc"
      },
      "outputs": [
        {
          "data": {
            "text/plain": [
              "<Axes: ylabel='Count'>"
            ]
          },
          "execution_count": 56,
          "metadata": {},
          "output_type": "execute_result"
        },
        {
          "data": {
            "image/png": "[encoded data removed]",
            "text/plain": [
              "<Figure size 640x480 with 1 Axes>"
            ]
          },
          "metadata": {},
          "output_type": "display_data"
        }
      ],
      "source": [
        "sns.histplot(data=data_log, bins=100)"
      ]
    },
    {
      "cell_type": "markdown",
      "metadata": {
        "id": "IAvuwIiFy0X5"
      },
      "source": [
        "An unknown distribution has a mean of 90 and a standard deviation of 15.\n",
        "\n",
        "Samples of size n = 35 are drawn randomly from the population.\n",
        "\n",
        "Find the probability that the sample mean is between 85 and 92."
      ]
    },
    {
      "cell_type": "code",
      "execution_count": null,
      "metadata": {
        "id": "zRHTPDsqjryl"
      },
      "outputs": [],
      "source": [
        "#u=90\n",
        "#s.d=15\n",
        "#n=35\n",
        "#find the probability between 85 to 92"
      ]
    },
    {
      "cell_type": "code",
      "execution_count": null,
      "metadata": {
        "id": "OEpqgbz7z114"
      },
      "outputs": [],
      "source": [
        "import math"
      ]
    },
    {
      "cell_type": "code",
      "execution_count": null,
      "metadata": {
        "colab": {
          "base_uri": "https://localhost:8080/"
        },
        "id": "n5sHAQTYjrwJ",
        "outputId": "90fb7d1e-d361-4ca9-9de3-035faecd5c6d"
      },
      "outputs": [
        {
          "name": "stdout",
          "output_type": "stream",
          "text": [
            "2.53546276418555\n"
          ]
        }
      ],
      "source": [
        "mean_of_sampleMean = 15 / np.sqrt(35)\n",
        "print(mean_of_sampleMean)"
      ]
    },
    {
      "cell_type": "code",
      "execution_count": null,
      "metadata": {
        "colab": {
          "base_uri": "https://localhost:8080/"
        },
        "id": "11Qx9zRCw7b6",
        "outputId": "485034a1-99b9-42e8-a767-f33e05424fb8"
      },
      "outputs": [
        {
          "data": {
            "text/plain": [
              "-1.9720265943665387"
            ]
          },
          "execution_count": 83,
          "metadata": {},
          "output_type": "execute_result"
        }
      ],
      "source": [
        "z1=(85 - 90) /mean_of_sampleMean\n",
        "z1"
      ]
    },
    {
      "cell_type": "code",
      "execution_count": null,
      "metadata": {
        "colab": {
          "base_uri": "https://localhost:8080/"
        },
        "id": "6xYjoxDk1CUK",
        "outputId": "4c13fa59-61d1-4377-aeed-8df67c0de7df"
      },
      "outputs": [
        {
          "data": {
            "text/plain": [
              "0.02430328533671787"
            ]
          },
          "execution_count": 84,
          "metadata": {},
          "output_type": "execute_result"
        }
      ],
      "source": [
        "norm.cdf(z1)"
      ]
    },
    {
      "cell_type": "code",
      "execution_count": null,
      "metadata": {
        "colab": {
          "base_uri": "https://localhost:8080/"
        },
        "id": "4QR5z13sw7Yh",
        "outputId": "78f3502a-61dd-415f-8e9e-d5102f65159a"
      },
      "outputs": [
        {
          "data": {
            "text/plain": [
              "0.7888106377466154"
            ]
          },
          "execution_count": 85,
          "metadata": {},
          "output_type": "execute_result"
        }
      ],
      "source": [
        "z2=(92 - 90) /mean_of_sampleMean\n",
        "z2"
      ]
    },
    {
      "cell_type": "code",
      "execution_count": null,
      "metadata": {
        "colab": {
          "base_uri": "https://localhost:8080/"
        },
        "id": "vVUhLP1fw7Va",
        "outputId": "88c9cc7d-e980-42cb-804f-16364559a175"
      },
      "outputs": [
        {
          "data": {
            "text/plain": [
              "0.7848886544339044"
            ]
          },
          "execution_count": 86,
          "metadata": {},
          "output_type": "execute_result"
        }
      ],
      "source": [
        "norm.cdf(z2)"
      ]
    },
    {
      "cell_type": "code",
      "execution_count": null,
      "metadata": {
        "id": "iXXKOOIG1JnM"
      },
      "outputs": [],
      "source": [
        "z3=z2-z1"
      ]
    },
    {
      "cell_type": "code",
      "execution_count": null,
      "metadata": {
        "colab": {
          "base_uri": "https://localhost:8080/"
        },
        "id": "tj5eGGiw1VU1",
        "outputId": "c7b477b0-d02b-431f-b1e7-fa35b71beebc"
      },
      "outputs": [
        {
          "data": {
            "text/plain": [
              "0.9971173299078417"
            ]
          },
          "execution_count": 88,
          "metadata": {},
          "output_type": "execute_result"
        }
      ],
      "source": [
        "norm.cdf(z3)"
      ]
    },
    {
      "cell_type": "code",
      "execution_count": null,
      "metadata": {
        "colab": {
          "base_uri": "https://localhost:8080/"
        },
        "id": "RzJjg5uQ3KZ1",
        "outputId": "a2699a23-bcee-4c9d-90c2-8bb70ee425a9"
      },
      "outputs": [
        {
          "data": {
            "text/plain": [
              "0.7605853690971865"
            ]
          },
          "execution_count": 82,
          "metadata": {},
          "output_type": "execute_result"
        }
      ],
      "source": [
        "norm.cdf((92-90)/(15/np.sqrt(35))) - norm.cdf((85-90)/(15/np.sqrt(35)))"
      ]
    },
    {
      "cell_type": "markdown",
      "metadata": {
        "id": "lsS8vnw06tHQ"
      },
      "source": [
        "You are working for the Department of Endangered Species. Along with your team, you have bred a certain species of endangered fish in your pond.\n",
        "\n",
        "On taking a sample of 100 fishes, the calculated average length of this species came out to be 24cm. It is known that the population standard deviation in the length of these fishes is 8cm.\n",
        "\n",
        "\n",
        "Estimate the mean length confidence interval of the fishes in the pond with a confidence of 95 percent.\n",
        "\n",
        "Note: z-multiplier for 95% is 1.96."
      ]
    },
    {
      "cell_type": "code",
      "execution_count": null,
      "metadata": {
        "id": "67wzUcPx6uff"
      },
      "outputs": [],
      "source": [
        "z1=norm.cdf(0.25)\n",
        "z2=norm.cdf(1-0.25)"
      ]
    },
    {
      "cell_type": "code",
      "execution_count": null,
      "metadata": {
        "colab": {
          "base_uri": "https://localhost:8080/"
        },
        "id": "rjUPSLsv6vm1",
        "outputId": "399972d6-619c-4a3a-dd62-e7d892dfe4b9"
      },
      "outputs": [
        {
          "data": {
            "text/plain": [
              "(0.5987063256829237, 0.7733726476231317)"
            ]
          },
          "execution_count": 91,
          "metadata": {},
          "output_type": "execute_result"
        }
      ],
      "source": [
        "z1, z2"
      ]
    },
    {
      "cell_type": "code",
      "execution_count": null,
      "metadata": {
        "colab": {
          "base_uri": "https://localhost:8080/"
        },
        "id": "cN0Tar1H6vjW",
        "outputId": "c4c7068d-03af-4e67-8877-6ce0eed9e64f"
      },
      "outputs": [
        {
          "data": {
            "text/plain": [
              "7.18965060546339"
            ]
          },
          "execution_count": 92,
          "metadata": {},
          "output_type": "execute_result"
        }
      ],
      "source": [
        "x1=24/10 + z1*8\n",
        "x1"
      ]
    },
    {
      "cell_type": "code",
      "execution_count": null,
      "metadata": {
        "colab": {
          "base_uri": "https://localhost:8080/"
        },
        "id": "fHnyVIvp-RE0",
        "outputId": "793cba9c-1664-4acb-ac14-9c7acfb6e849"
      },
      "outputs": [
        {
          "data": {
            "text/plain": [
              "25.568"
            ]
          },
          "execution_count": 94,
          "metadata": {},
          "output_type": "execute_result"
        }
      ],
      "source": [
        "ci=24+1.96*(4/5)\n",
        "ci"
      ]
    },
    {
      "cell_type": "code",
      "execution_count": null,
      "metadata": {
        "colab": {
          "base_uri": "https://localhost:8080/"
        },
        "id": "W02h8YHQ-rLI",
        "outputId": "cb70fecf-2e78-40ca-dc6d-983b1469e029"
      },
      "outputs": [
        {
          "data": {
            "text/plain": [
              "22.432"
            ]
          },
          "execution_count": 95,
          "metadata": {},
          "output_type": "execute_result"
        }
      ],
      "source": [
        "ci2=24-1.96*(4/5)\n",
        "ci2"
      ]
    },
    {
      "cell_type": "markdown",
      "metadata": {
        "id": "__e2DiaZANz4"
      },
      "source": [
        "The tip percentage for a delivery person has a mean value of 28% and a standard deviation of 7%.\n",
        "\n",
        "What is the probability that the sample mean tip percentage for a random sample of 50 bills is between 26% and 31%?"
      ]
    },
    {
      "cell_type": "code",
      "execution_count": null,
      "metadata": {
        "colab": {
          "base_uri": "https://localhost:8080/"
        },
        "id": "SkTA617uANLt",
        "outputId": "d9e96b55-29f1-4521-b711-38eac6b4b978"
      },
      "outputs": [
        {
          "data": {
            "text/plain": [
              "(-0.11199279690801078, 0.6719927969080108)"
            ]
          },
          "execution_count": 100,
          "metadata": {},
          "output_type": "execute_result"
        }
      ],
      "source": [
        "norm.interval(confidence=0.95, loc=.28,scale=0.2)"
      ]
    },
    {
      "cell_type": "code",
      "execution_count": null,
      "metadata": {
        "id": "-ANx_OmtBPY_"
      },
      "outputs": [],
      "source": [
        "sample_mean=7/np.sqrt(50)\n",
        "sm=sample_mean.round(2)"
      ]
    },
    {
      "cell_type": "code",
      "execution_count": null,
      "metadata": {
        "id": "jSg0MNVhDa4R"
      },
      "outputs": [],
      "source": [
        "#x=u+z*sigma"
      ]
    },
    {
      "cell_type": "markdown",
      "metadata": {
        "id": "9ecqsu-8shi0"
      },
      "source": [
        "# **Possion distribution**"
      ]
    },
    {
      "cell_type": "code",
      "execution_count": null,
      "metadata": {
        "id": "SvcHAv6XD6xT"
      },
      "outputs": [],
      "source": [
        "import numpy as np\n",
        "import pandas as pd\n",
        "import seaborn as sns\n",
        "import matplotlib.pyplot as plt\n",
        "\n",
        "from scipy.stats import poisson, expon, geom,binom"
      ]
    },
    {
      "cell_type": "code",
      "execution_count": null,
      "metadata": {
        "id": "yScY1sg5gHpf"
      },
      "outputs": [],
      "source": [
        "from scipy.stats import poisson"
      ]
    },
    {
      "cell_type": "code",
      "execution_count": null,
      "metadata": {
        "colab": {
          "base_uri": "https://localhost:8080/"
        },
        "id": "5R7H2bQEspcj",
        "outputId": "99264921-704f-4617-c071-1de938a221b4"
      },
      "outputs": [
        {
          "data": {
            "text/plain": [
              "0.10081881344492458"
            ]
          },
          "execution_count": 7,
          "metadata": {},
          "output_type": "execute_result"
        }
      ],
      "source": [
        "poisson.pmf(k=5,mu=3)"
      ]
    },
    {
      "cell_type": "markdown",
      "metadata": {
        "id": "4JP9_grCggdG"
      },
      "source": [
        "Que Poisson\n",
        "# If electricity power failures occur according to a poisson distribution with an average of three failures every 20 weeks.\n",
        "\n",
        "# Calculate the probability that there will not be more than one power failure during a week."
      ]
    },
    {
      "cell_type": "code",
      "execution_count": null,
      "metadata": {
        "id": "kI9EWPRDspZI"
      },
      "outputs": [],
      "source": [
        "# avg=20/week=>per week failure rate is 0.15\n",
        "# k= 1 , mu=0.15 ?\n"
      ]
    },
    {
      "cell_type": "code",
      "execution_count": null,
      "metadata": {
        "colab": {
          "base_uri": "https://localhost:8080/"
        },
        "id": "6QdniuMWspTT",
        "outputId": "cabffdf2-806d-48aa-8569-9ceb219f1c7b"
      },
      "outputs": [
        {
          "data": {
            "text/plain": [
              "0.9898141728888165"
            ]
          },
          "execution_count": 12,
          "metadata": {},
          "output_type": "execute_result"
        }
      ],
      "source": [
        "poisson.cdf(k=1,mu=0.15)"
      ]
    },
    {
      "cell_type": "markdown",
      "metadata": {
        "id": "AajK87zolV3c"
      },
      "source": [
        "# **Ques Poisson**\n",
        "An observer counts 240 vehicles per hour (3600 seconds) at a specific vehicle arrival location on a highway.\n",
        "\n",
        "Assume that the arrivals follow the poisson distribution, What is the probability of one vehicle arriving over a 30-second time interval?"
      ]
    },
    {
      "cell_type": "code",
      "execution_count": null,
      "metadata": {
        "colab": {
          "base_uri": "https://localhost:8080/"
        },
        "id": "4sKPE3TSspQc",
        "outputId": "7aa4be82-4b4b-4e62-e9f2-4a51890e1e58"
      },
      "outputs": [
        {
          "data": {
            "text/plain": [
              "0.2706705664732254"
            ]
          },
          "execution_count": 30,
          "metadata": {},
          "output_type": "execute_result"
        }
      ],
      "source": [
        "poisson.pmf(k=1, mu=2)"
      ]
    },
    {
      "cell_type": "code",
      "execution_count": null,
      "metadata": {
        "colab": {
          "base_uri": "https://localhost:8080/"
        },
        "id": "YVqxTQvpspH_",
        "outputId": "dec3f770-94fc-43ce-aa84-5c07ffef4110"
      },
      "outputs": [
        {
          "data": {
            "text/plain": [
              "0.06666666666666667"
            ]
          },
          "execution_count": 27,
          "metadata": {},
          "output_type": "execute_result"
        }
      ],
      "source": [
        "#avg rate/second\n",
        "240/3600"
      ]
    },
    {
      "cell_type": "code",
      "execution_count": null,
      "metadata": {
        "colab": {
          "base_uri": "https://localhost:8080/"
        },
        "id": "r35hwxEYspEp",
        "outputId": "98e8060f-1717-43c2-a72c-8e67455e75aa"
      },
      "outputs": [
        {
          "data": {
            "text/plain": [
              "2.001"
            ]
          },
          "execution_count": 29,
          "metadata": {},
          "output_type": "execute_result"
        }
      ],
      "source": [
        "# in 30 second arrival rate\n",
        "0.0667*30"
      ]
    },
    {
      "cell_type": "markdown",
      "metadata": {
        "id": "Dg4CJIuX5oIN"
      },
      "source": [
        "# Ques poisson\n",
        "A packaging factory consists of 10 printing machines. Average number of failures occurring in one printing machine per year is 0.4\n",
        "\n",
        "(a) What is the total expected number of failures in the factory, in a year?\n",
        "(b) What is the probability that there are fewer than two failures in the factory in a year?"
      ]
    },
    {
      "cell_type": "code",
      "execution_count": null,
      "metadata": {
        "id": "9y3aL-eC5sVC"
      },
      "outputs": [],
      "source": [
        "# per year avg failure rate in one machine= 0.4\n",
        "#k=10"
      ]
    },
    {
      "cell_type": "code",
      "execution_count": null,
      "metadata": {
        "colab": {
          "base_uri": "https://localhost:8080/"
        },
        "id": "mXyllezG5tKy",
        "outputId": "3044055f-187a-472e-94b2-0acfec21cd8a"
      },
      "outputs": [
        {
          "data": {
            "text/plain": [
              "4.0"
            ]
          },
          "execution_count": 32,
          "metadata": {},
          "output_type": "execute_result"
        }
      ],
      "source": [
        "# What is the total expected number of failures in the factory, in a year?\n",
        "10 *0.4"
      ]
    },
    {
      "cell_type": "code",
      "execution_count": null,
      "metadata": {
        "colab": {
          "base_uri": "https://localhost:8080/"
        },
        "id": "Bmqvh4As5s9a",
        "outputId": "18e13618-e177-4e87-d85b-97224c58303c"
      },
      "outputs": [
        {
          "data": {
            "text/plain": [
              "0.9824769036935782"
            ]
          },
          "execution_count": 45,
          "metadata": {},
          "output_type": "execute_result"
        }
      ],
      "source": [
        "#What is the probability that there are fewer than two failures in the factory in a year?\n",
        "#>=2 failure in factory in a year\n",
        "poisson.cdf(k=1, mu=0.2)"
      ]
    },
    {
      "cell_type": "code",
      "execution_count": null,
      "metadata": {
        "colab": {
          "base_uri": "https://localhost:8080/"
        },
        "id": "i_ukvmDD5s6F",
        "outputId": "0ec051dd-55a9-4f0c-cda8-0e324d07954b"
      },
      "outputs": [
        {
          "data": {
            "text/plain": [
              "0.938448064449895"
            ]
          },
          "execution_count": 40,
          "metadata": {},
          "output_type": "execute_result"
        }
      ],
      "source": [
        "poisson.pmf(k=0, mu=0.4) + poisson.pmf(k=1, mu=0.4)"
      ]
    },
    {
      "cell_type": "code",
      "execution_count": null,
      "metadata": {
        "colab": {
          "base_uri": "https://localhost:8080/"
        },
        "id": "RSF8xeyVkeWV",
        "outputId": "5a8804d5-0078-40d6-9477-62616554c1cd"
      },
      "outputs": [
        {
          "data": {
            "text/plain": [
              "0.9953211598395555"
            ]
          },
          "execution_count": 42,
          "metadata": {},
          "output_type": "execute_result"
        }
      ],
      "source": [
        "poisson.cdf(k=1, mu=0.1)"
      ]
    },
    {
      "cell_type": "markdown",
      "metadata": {
        "id": "IuW3fkB09__1"
      },
      "source": [
        "# Ques poisson\n",
        "A call centre receives 20 calls per hour, on an average.\n",
        "\n",
        "a) What is the probability of receiving exactly 25 calls in a given hour?\n",
        "b) What is the probability of receiving more than 25 calls in a given hour?"
      ]
    },
    {
      "cell_type": "code",
      "execution_count": null,
      "metadata": {
        "colab": {
          "base_uri": "https://localhost:8080/"
        },
        "id": "x_FXYywU9-Xm",
        "outputId": "5715147d-703c-43a1-8b39-217749b7bfaa"
      },
      "outputs": [
        {
          "data": {
            "text/plain": [
              "0.04458764910826764"
            ]
          },
          "execution_count": 56,
          "metadata": {},
          "output_type": "execute_result"
        }
      ],
      "source": [
        "#avg calls per hour=20\n",
        "#What is the probability of receiving exactly 25 calls in a given hour?\n",
        "#k=25\n",
        "poisson.pmf(k=25,mu=20)"
      ]
    },
    {
      "cell_type": "code",
      "execution_count": null,
      "metadata": {
        "colab": {
          "base_uri": "https://localhost:8080/"
        },
        "id": "0P4Lj-Hf-POh",
        "outputId": "affe6a9d-0827-4566-c22e-516439bc323f"
      },
      "outputs": [
        {
          "data": {
            "text/plain": [
              "0.8878150272820301"
            ]
          },
          "execution_count": 58,
          "metadata": {},
          "output_type": "execute_result"
        }
      ],
      "source": [
        "#b) What is the probability of receiving more than 25 calls in a given hour?\n",
        "poisson.cdf(k=25, mu=20)"
      ]
    },
    {
      "cell_type": "code",
      "execution_count": null,
      "metadata": {
        "colab": {
          "base_uri": "https://localhost:8080/"
        },
        "id": "_JqihHUB_f3T",
        "outputId": "41d05f56-2fa9-4706-b7a7-490a717cc0b8"
      },
      "outputs": [
        {
          "data": {
            "text/plain": [
              "180.0"
            ]
          },
          "execution_count": 54,
          "metadata": {},
          "output_type": "execute_result"
        }
      ],
      "source": [
        "3600/20"
      ]
    },
    {
      "cell_type": "markdown",
      "metadata": {
        "id": "XILnznVcAxjo"
      },
      "source": [
        "# Ques poisson\n",
        "You go to a party of 500 guests. What is the probability that exactly one other guest has the same birthday as you?\n",
        "\n",
        "Note: Exclude birthdays on February 29."
      ]
    },
    {
      "cell_type": "markdown",
      "metadata": {
        "id": "teGiGlN5EMWE"
      },
      "source": [
        "Correct Answer: 0.348\n",
        "\n",
        "Approach 1:\n",
        "\n",
        "The number of guests that have the same birthday as you with p = 1/365 and n = 499.\n",
        "\n",
        "Thus, the probability that exactly one other guest has the same birthday is\n",
        "\n",
        "λ = np = 499 x 1/365 = 1.367.\n",
        "\n",
        "Using poisson approximation\n",
        "\n",
        "P(X=1) = (e−λ x λx )/ x! = e −1.367 x 1.3671 / 1! = 0.25487 x 1.367 = 0.3483.\n",
        "\n",
        "Approach 2:\n",
        "\n",
        "from scipy.stats import poisson\n",
        "\n",
        "p = 1/365\n",
        "\n",
        "n = 499\n",
        "\n",
        "mu = n * p\n",
        "\n",
        "x=1\n",
        "\n",
        "p1 = poisson.pmf(x,mu)\n",
        "\n",
        "print('The probability that exactly one other guest has the same birthday as you:',p1)\n",
        "\n",
        "Output:\n",
        "\n",
        "The probability that exactly one other guest has the same birthday as you: 0.34839633781319934"
      ]
    },
    {
      "cell_type": "code",
      "execution_count": null,
      "metadata": {
        "colab": {
          "base_uri": "https://localhost:8080/"
        },
        "id": "XrgiDuVWA1B7",
        "outputId": "e56e8833-7858-42be-9124-7776dbf6213e"
      },
      "outputs": [
        {
          "data": {
            "text/plain": [
              "0.34839633781319934"
            ]
          },
          "execution_count": 61,
          "metadata": {},
          "output_type": "execute_result"
        }
      ],
      "source": [
        "poisson.pmf(k=1, mu=(499*1/365))"
      ]
    },
    {
      "cell_type": "markdown",
      "metadata": {
        "id": "oPuwbTKsFBjg"
      },
      "source": [
        "# Ques poisson\n",
        "A computer server, on average, experiences 3 system crashes per day. What is the probability of having fewer than 2 system crashes in a day?"
      ]
    },
    {
      "cell_type": "code",
      "execution_count": null,
      "metadata": {
        "colab": {
          "base_uri": "https://localhost:8080/"
        },
        "id": "HVw9ZwU4FIp3",
        "outputId": "b1785e16-6a6e-4fe8-f96f-b99f56c414c3"
      },
      "outputs": [
        {
          "data": {
            "text/plain": [
              "0.1991482734714558"
            ]
          },
          "execution_count": 63,
          "metadata": {},
          "output_type": "execute_result"
        }
      ],
      "source": [
        "#avg computer crashes per day = 3\n",
        "#>2\n",
        "poisson.cdf(k=1, mu=3)"
      ]
    },
    {
      "cell_type": "markdown",
      "metadata": {
        "id": "kLi5Ju8AGeY8"
      },
      "source": [
        "# Ques poisson\n",
        "In the manufacture of glassware, bubbles can occur in the glass which reduces the status of the glassware to that of a ‘bad’ glassware product.\n",
        "If on an average, one in every 1000 items produced has a bubble, calculate the probability that exactly six items in a batch of three thousand are bad."
      ]
    },
    {
      "cell_type": "code",
      "execution_count": null,
      "metadata": {
        "colab": {
          "base_uri": "https://localhost:8080/"
        },
        "id": "gebKnW7wGiFg",
        "outputId": "cfdc10e0-d1a5-4c37-968c-4a92a1976a3d"
      },
      "outputs": [
        {
          "data": {
            "text/plain": [
              "1.3875006942130283e-21"
            ]
          },
          "execution_count": 80,
          "metadata": {},
          "output_type": "execute_result"
        }
      ],
      "source": [
        "poisson.pmf(k=6, mu=1/1000)"
      ]
    },
    {
      "cell_type": "code",
      "execution_count": null,
      "metadata": {
        "colab": {
          "base_uri": "https://localhost:8080/"
        },
        "id": "mJnxuE3WIKx_",
        "outputId": "49060874-5833-49f1-8769-bd541f571a98"
      },
      "outputs": [
        {
          "data": {
            "text/plain": [
              "0.001"
            ]
          },
          "execution_count": 65,
          "metadata": {},
          "output_type": "execute_result"
        }
      ],
      "source": [
        "1/1000"
      ]
    },
    {
      "cell_type": "code",
      "execution_count": null,
      "metadata": {
        "colab": {
          "base_uri": "https://localhost:8080/"
        },
        "id": "0WJkUmh4JeWr",
        "outputId": "b8a4b9ca-a6d7-4b69-8214-7b17ad3bcd42"
      },
      "outputs": [
        {
          "data": {
            "text/plain": [
              "1.0"
            ]
          },
          "execution_count": 73,
          "metadata": {},
          "output_type": "execute_result"
        }
      ],
      "source": [
        "0.001*1000"
      ]
    },
    {
      "cell_type": "code",
      "execution_count": null,
      "metadata": {
        "colab": {
          "base_uri": "https://localhost:8080/"
        },
        "id": "xtpWQ_YGIrBj",
        "outputId": "1aad72f3-b256-4deb-adbe-e78bf0dbf33d"
      },
      "outputs": [
        {
          "data": {
            "text/plain": [
              "1.0"
            ]
          },
          "execution_count": 66,
          "metadata": {},
          "output_type": "execute_result"
        }
      ],
      "source": [
        "0.001*1000\n"
      ]
    },
    {
      "cell_type": "code",
      "execution_count": null,
      "metadata": {
        "colab": {
          "base_uri": "https://localhost:8080/"
        },
        "id": "ZcT1T2JbI6T4",
        "outputId": "c135a0da-abff-42c5-f9cc-0b566822aa92"
      },
      "outputs": [
        {
          "data": {
            "text/plain": [
              "0.002"
            ]
          },
          "execution_count": 67,
          "metadata": {},
          "output_type": "execute_result"
        }
      ],
      "source": [
        "6/3000"
      ]
    },
    {
      "cell_type": "code",
      "execution_count": null,
      "metadata": {
        "colab": {
          "base_uri": "https://localhost:8080/"
        },
        "id": "k3-CMT4aI_H8",
        "outputId": "63c348b3-41e2-42d2-afe2-35c4acf62348"
      },
      "outputs": [
        {
          "data": {
            "text/plain": [
              "0.012"
            ]
          },
          "execution_count": 68,
          "metadata": {},
          "output_type": "execute_result"
        }
      ],
      "source": [
        "6*0.002"
      ]
    },
    {
      "cell_type": "markdown",
      "metadata": {
        "id": "Wgc3nmoqRsAw"
      },
      "source": [
        "# Ques geometric\n",
        "As a data analyst at Global Mariotech, one of your prime duties is to understand customer sentiments and provide a better experience to the customers.\n",
        "\n",
        "Based on a recent survey, it was found that there were 30% negative responses, and 70% positive.\n",
        "\n",
        "Assuming that we pick one response after another randomly, estimate the number of feedbacks to expect, before a negative feedback appears."
      ]
    },
    {
      "cell_type": "code",
      "execution_count": null,
      "metadata": {
        "id": "9tNs2XaMRx9V"
      },
      "outputs": [],
      "source": [
        "#probability of response =positive and negative\n",
        "#n =0.3\n",
        "#p = 0.7\n",
        "#probability of success = 1/2\n",
        "#probability of negative = 1-0.5"
      ]
    },
    {
      "cell_type": "code",
      "execution_count": null,
      "metadata": {
        "id": "MsGwVzi9T2sG"
      },
      "outputs": [],
      "source": [
        "from scipy.stats import poisson, expon, geom,binom"
      ]
    },
    {
      "cell_type": "code",
      "execution_count": null,
      "metadata": {
        "colab": {
          "base_uri": "https://localhost:8080/"
        },
        "id": "eLHRA8ZxT8X_",
        "outputId": "6c961d1d-b9f8-4fdf-b61a-dc5d7d0038e7"
      },
      "outputs": [
        {
          "data": {
            "text/plain": [
              "8.470329472543003e-22"
            ]
          },
          "execution_count": 84,
          "metadata": {},
          "output_type": "execute_result"
        }
      ],
      "source": [
        "geom.pmf(k=70, p=0.5)"
      ]
    },
    {
      "cell_type": "code",
      "execution_count": null,
      "metadata": {
        "colab": {
          "base_uri": "https://localhost:8080/"
        },
        "id": "8-acDSKcU0Ra",
        "outputId": "65c22f94-1f7f-4670-95ea-2059e7ecedc7"
      },
      "outputs": [
        {
          "data": {
            "text/plain": [
              "3.3333333333333335"
            ]
          },
          "execution_count": 85,
          "metadata": {},
          "output_type": "execute_result"
        }
      ],
      "source": [
        "1 / 0.30"
      ]
    },
    {
      "cell_type": "code",
      "execution_count": null,
      "metadata": {
        "colab": {
          "base_uri": "https://localhost:8080/"
        },
        "id": "DOIrwUaw7OPi",
        "outputId": "9b98578e-0470-4def-f001-0a4af082349e"
      },
      "outputs": [
        {
          "data": {
            "text/plain": [
              "9.313225746154785e-10"
            ]
          },
          "execution_count": 7,
          "metadata": {},
          "output_type": "execute_result"
        }
      ],
      "source": [
        "geom.pmf(k=30, p=0.5)"
      ]
    },
    {
      "cell_type": "markdown",
      "metadata": {
        "id": "1Xw5n1B2tCn0"
      },
      "source": [
        "# Que Expo\n",
        "You are hired as a data scientist for the company SellMart.\n",
        "\n",
        "Your first task is to analyze the durations of customer support call.\n",
        "\n",
        "On an average, a customer care executive takes about 5 minutes to solve the issue of any customer. It is known that the time taken follows an exponential distribution.\n",
        "\n",
        "Find the probability that an executive spends 4 to 5 minutes with any randomly selected customer."
      ]
    },
    {
      "cell_type": "code",
      "execution_count": null,
      "metadata": {
        "colab": {
          "base_uri": "https://localhost:8080/"
        },
        "id": "EcqGKdg9tbC8",
        "outputId": "a7d908b6-e5d2-478a-a65f-e3d9b435080c"
      },
      "outputs": [
        {
          "data": {
            "text/plain": [
              "0.5506710358827784"
            ]
          },
          "execution_count": 95,
          "metadata": {},
          "output_type": "execute_result"
        }
      ],
      "source": [
        "y=expon.cdf(x=4, scale=5)\n",
        "y"
      ]
    },
    {
      "cell_type": "code",
      "execution_count": null,
      "metadata": {
        "colab": {
          "base_uri": "https://localhost:8080/"
        },
        "id": "rsJnODFexTYt",
        "outputId": "63d06831-6740-4ea7-f838-9ba8a2c22cdb"
      },
      "outputs": [
        {
          "data": {
            "text/plain": [
              "0.6321205588285577"
            ]
          },
          "execution_count": 96,
          "metadata": {},
          "output_type": "execute_result"
        }
      ],
      "source": [
        "x=expon.cdf(x=5, scale=5)\n",
        "x\n"
      ]
    },
    {
      "cell_type": "code",
      "execution_count": null,
      "metadata": {
        "colab": {
          "base_uri": "https://localhost:8080/"
        },
        "id": "DiA4nDZ9xTRe",
        "outputId": "8a692d26-feca-4e62-f6b3-8d07e3831188"
      },
      "outputs": [
        {
          "data": {
            "text/plain": [
              "8.14"
            ]
          },
          "execution_count": 99,
          "metadata": {},
          "output_type": "execute_result"
        }
      ],
      "source": [
        "z=x-y\n",
        "round(z*100,2)"
      ]
    },
    {
      "cell_type": "markdown",
      "metadata": {
        "id": "2RAr-SUpyx8-"
      },
      "source": [
        "# Ques expon\n",
        "A new pair of running shoes of Brank X are known to last 6 months, on an average, assuming that they are used every day.\n",
        "\n",
        "It is known that the duration of their lifespan follows exponential distributed.\n",
        "\n",
        "If a pair has already lasted 5 months, find the probability that it will last a total of over 9 months."
      ]
    },
    {
      "cell_type": "code",
      "execution_count": null,
      "metadata": {
        "id": "Rj-v4z9rxTM_"
      },
      "outputs": [],
      "source": [
        "#avg lifespan of shoes=6\n",
        "#6-5 =1"
      ]
    },
    {
      "cell_type": "code",
      "execution_count": null,
      "metadata": {
        "colab": {
          "base_uri": "https://localhost:8080/"
        },
        "id": "jNPDqvdTxTKY",
        "outputId": "9b20fa2d-6ba7-4cde-9dba-6fb3b3903c95"
      },
      "outputs": [
        {
          "data": {
            "text/plain": [
              "1.342271631344492"
            ]
          },
          "execution_count": 36,
          "metadata": {},
          "output_type": "execute_result"
        }
      ],
      "source": [
        "expon.cdf(x=9, scale=6)+(expon.cdf(x= 5, scale=6))"
      ]
    },
    {
      "cell_type": "code",
      "execution_count": null,
      "metadata": {
        "colab": {
          "base_uri": "https://localhost:8080/"
        },
        "id": "S7m38NHATGkn",
        "outputId": "86be5fd3-d15d-4a54-8a35-44eb8eea103f"
      },
      "outputs": [
        {
          "data": {
            "text/plain": [
              "1.0519846724603297"
            ]
          },
          "execution_count": 34,
          "metadata": {},
          "output_type": "execute_result"
        }
      ],
      "source": [
        "expon.cdf(x=4, scale=6) + (expon.cdf(x= 5, scale=6))"
      ]
    },
    {
      "cell_type": "code",
      "execution_count": null,
      "metadata": {
        "colab": {
          "base_uri": "https://localhost:8080/"
        },
        "id": "KFW62HqhTcxC",
        "outputId": "013b8a8a-2623-454a-b465-4831d20f7488"
      },
      "outputs": [
        {
          "data": {
            "text/plain": [
              "0.513417119032592"
            ]
          },
          "execution_count": 41,
          "metadata": {},
          "output_type": "execute_result"
        }
      ],
      "source": [
        "1-expon.cdf(x=4, scale=6)"
      ]
    },
    {
      "cell_type": "code",
      "execution_count": null,
      "metadata": {
        "id": "7-UFFCYKQhWL"
      },
      "outputs": [],
      "source": [
        "from scipy.stats import expon, geom"
      ]
    },
    {
      "cell_type": "markdown",
      "metadata": {
        "id": "rAgWHEGOP7fj"
      },
      "source": [
        "The amount of money customers spend in one trip to the supermarket follows an exponential distribution with a mean amount of Rs 1000.\n",
        "\n",
        "If a customer has Rs 600 in the wallet, what is the probability that the customer will need more money?\n",
        "\n",
        "Note: Round the output up to 2 decimal places."
      ]
    },
    {
      "cell_type": "code",
      "execution_count": null,
      "metadata": {
        "colab": {
          "base_uri": "https://localhost:8080/"
        },
        "id": "MAjQ1nxuP7DJ",
        "outputId": "2bfb6494-2033-4c53-a5e9-8ac0ceade254"
      },
      "outputs": [
        {
          "data": {
            "text/plain": [
              "0.0005488116360940264"
            ]
          },
          "execution_count": 23,
          "metadata": {},
          "output_type": "execute_result"
        }
      ],
      "source": [
        "expon.pdf(x=600,scale=1000)"
      ]
    },
    {
      "cell_type": "markdown",
      "metadata": {
        "id": "BJ2lgX65XHFk"
      },
      "source": [
        "A representative from the Indian Super League's Marketing Division randomly selects people on a random street in Mumbai until he finds a person who attended the last home football game.\n",
        "Let p, the probability that he succeeds in finding such a person, equal 0.20. And, let X denote the number of people he selects until he finds his first success.\n",
        "a) What is the probability that the he must select 4 people before he finds one who attended the last home football game?\n",
        "b) What is the probability that he must select more than 6 people before he finds one who attended the last home football game?"
      ]
    },
    {
      "cell_type": "code",
      "execution_count": null,
      "metadata": {
        "colab": {
          "base_uri": "https://localhost:8080/"
        },
        "id": "_t9UfLQ-XIAT",
        "outputId": "c5a50886-4a6d-4c7c-9c92-3eed700ca242"
      },
      "outputs": [
        {
          "data": {
            "text/plain": [
              "0.8"
            ]
          },
          "execution_count": 42,
          "metadata": {},
          "output_type": "execute_result"
        }
      ],
      "source": [
        "(1-0.20)"
      ]
    },
    {
      "cell_type": "code",
      "execution_count": null,
      "metadata": {
        "colab": {
          "base_uri": "https://localhost:8080/"
        },
        "id": "McfgBCD-XIzc",
        "outputId": "b6dd056f-9ecc-4d03-ad25-d0c4a35996dd"
      },
      "outputs": [
        {
          "data": {
            "text/plain": [
              "0.10240000000000003"
            ]
          },
          "execution_count": 43,
          "metadata": {},
          "output_type": "execute_result"
        }
      ],
      "source": [
        "ans1 = 0.8 * 0.8 * 0.8 * 0.20\n",
        "ans1"
      ]
    },
    {
      "cell_type": "code",
      "execution_count": null,
      "metadata": {
        "colab": {
          "base_uri": "https://localhost:8080/"
        },
        "id": "bBRWjoTmYKso",
        "outputId": "f82f6f80-2fcf-4e62-8493-10596a7cac4c"
      },
      "outputs": [
        {
          "data": {
            "text/plain": [
              "0.10240000000000003"
            ]
          },
          "execution_count": 49,
          "metadata": {},
          "output_type": "execute_result"
        }
      ],
      "source": [
        "geom.pmf(k=4, p=0.20)"
      ]
    },
    {
      "cell_type": "code",
      "execution_count": null,
      "metadata": {
        "colab": {
          "base_uri": "https://localhost:8080/"
        },
        "id": "704Zeh_2XjUZ",
        "outputId": "5f356aab-901d-4c06-d332-166d390bc676"
      },
      "outputs": [
        {
          "data": {
            "text/plain": [
              "0.06553600000000002"
            ]
          },
          "execution_count": 44,
          "metadata": {},
          "output_type": "execute_result"
        }
      ],
      "source": [
        "ans2 = 0.8 * 0.8 * 0.8 * 0.8 * 0.8 * 0.20\n",
        "ans2"
      ]
    },
    {
      "cell_type": "code",
      "execution_count": null,
      "metadata": {
        "colab": {
          "base_uri": "https://localhost:8080/"
        },
        "id": "UZlIwE4DYqQv",
        "outputId": "7b45aebd-724f-43f2-ccf5-6d1c5f91f572"
      },
      "outputs": [
        {
          "data": {
            "text/plain": [
              "0.26214399999999993"
            ]
          },
          "execution_count": 56,
          "metadata": {},
          "output_type": "execute_result"
        }
      ],
      "source": [
        "1-geom.cdf(k=6, p=0.20)"
      ]
    },
    {
      "cell_type": "markdown",
      "metadata": {
        "id": "V_TyfFY6ZK3m"
      },
      "source": [
        "For a certain railway agency, the number of days people book their rail ticket in advance can be modeled by an exponential distribution, with the average amount of time to be 4 days. Based on this data, how many days in advance do 75% of all travelers book tickets?"
      ]
    },
    {
      "cell_type": "code",
      "execution_count": null,
      "metadata": {
        "colab": {
          "base_uri": "https://localhost:8080/"
        },
        "id": "wgVHPWH4ZKdh",
        "outputId": "202fa8e0-4ab8-489b-89cb-88524d7b514c"
      },
      "outputs": [
        {
          "data": {
            "text/plain": [
              "0.17097088181959966"
            ]
          },
          "execution_count": 67,
          "metadata": {},
          "output_type": "execute_result"
        }
      ],
      "source": [
        "expon.cdf(x=0.75,scale=4)"
      ]
    },
    {
      "cell_type": "code",
      "execution_count": null,
      "metadata": {
        "id": "dGVXvo5QZL0I"
      },
      "outputs": [],
      "source": []
    },
    {
      "cell_type": "markdown",
      "metadata": {
        "id": "lVp8pdeMbQQl"
      },
      "source": [
        "Suppose that the lifespan of an electronic gadget (in years) follows an exponential distribution. The average life span of an Electronic Gadget is known to be 2 years.\n",
        "\n",
        "Find the probability that :\n",
        "\n",
        "i) It will work for at least 6 years.\n",
        "\n",
        "ii) It will work for at most 6 years.\n",
        "\n",
        "Note: Round the output up to 2 decimal places."
      ]
    },
    {
      "cell_type": "code",
      "execution_count": null,
      "metadata": {
        "colab": {
          "base_uri": "https://localhost:8080/"
        },
        "id": "K2kxWsbgbRJA",
        "outputId": "6c9d0641-30d9-49c1-e8ec-6f98361b6edf"
      },
      "outputs": [
        {
          "data": {
            "text/plain": [
              "0.950212931632136"
            ]
          },
          "execution_count": 71,
          "metadata": {},
          "output_type": "execute_result"
        }
      ],
      "source": [
        "#atmost 6 years\n",
        "expon.cdf(x=6,scale=2)"
      ]
    },
    {
      "cell_type": "code",
      "execution_count": null,
      "metadata": {
        "colab": {
          "base_uri": "https://localhost:8080/"
        },
        "id": "5PaUNrRdbdxk",
        "outputId": "f3b653ec-ced6-4cd8-c5e5-178e209d93f2"
      },
      "outputs": [
        {
          "data": {
            "text/plain": [
              "0.04978706836786395"
            ]
          },
          "execution_count": 70,
          "metadata": {},
          "output_type": "execute_result"
        }
      ],
      "source": [
        "#atleast 6 years\n",
        "1-expon.cdf(x=6,scale=2)"
      ]
    },
    {
      "cell_type": "markdown",
      "metadata": {
        "id": "PjU8gijTcQZK"
      },
      "source": [
        "It is known that a company's website experiences technical issues from time to time. The probability of a user encountering an error message when trying to access the website is 0.10.\n",
        "\n",
        "Let X represent the number of attempts a user makes to access the website until encountering the first error message.\n",
        "What is the probability that a user makes more than 5 attempts before encountering an error message?\n",
        "\n",
        "(Round off the value to 4 decimal points)"
      ]
    },
    {
      "cell_type": "code",
      "execution_count": null,
      "metadata": {
        "colab": {
          "base_uri": "https://localhost:8080/"
        },
        "id": "MEL0Vs1xcRRj",
        "outputId": "e12d1e38-52c1-4d64-ce99-57ee3d231245"
      },
      "outputs": [
        {
          "data": {
            "text/plain": [
              "0.9"
            ]
          },
          "execution_count": 73,
          "metadata": {},
          "output_type": "execute_result"
        }
      ],
      "source": [
        "#p(encounter error)= 0.10\n",
        "#p(not encounter error)=1-0.10\n",
        "1-0.10"
      ]
    },
    {
      "cell_type": "code",
      "execution_count": null,
      "metadata": {
        "colab": {
          "base_uri": "https://localhost:8080/"
        },
        "id": "oXZrowO2cR-2",
        "outputId": "1cacbbdc-5e22-42f8-e958-5a1b270f4544"
      },
      "outputs": [
        {
          "data": {
            "text/plain": [
              "0.59049"
            ]
          },
          "execution_count": 78,
          "metadata": {},
          "output_type": "execute_result"
        }
      ],
      "source": [
        "1-geom.cdf(k=5, p=0.10)"
      ]
    },
    {
      "cell_type": "code",
      "execution_count": null,
      "metadata": {
        "colab": {
          "background_save": true
        },
        "id": "8KHUpoiZ4qvA"
      },
      "outputs": [],
      "source": [
        "import numpy as np\n",
        "import pandas as pd\n",
        "import matplotlib.pyplot as plt\n",
        "import seaborn as sns\n",
        "from scipy.stats import norm, geom, expon, binom, poisson"
      ]
    },
    {
      "cell_type": "code",
      "execution_count": null,
      "metadata": {
        "colab": {
          "base_uri": "https://localhost:8080/"
        },
        "id": "_Fhb-IEVySAW",
        "outputId": "509d7ff2-3554-4c7e-a67c-a971ee99f20b"
      },
      "outputs": [
        {
          "data": {
            "text/plain": [
              "0.7888106377466154"
            ]
          },
          "execution_count": 69,
          "metadata": {},
          "output_type": "execute_result"
        }
      ],
      "source": [
        "z1=(92-90)/(15/np.sqrt(35))\n",
        "z1"
      ]
    },
    {
      "cell_type": "code",
      "execution_count": null,
      "metadata": {
        "colab": {
          "base_uri": "https://localhost:8080/"
        },
        "id": "q5MjRtk8yqdA",
        "outputId": "42708372-6b84-4455-aebd-706ddedfc38c"
      },
      "outputs": [
        {
          "data": {
            "text/plain": [
              "0.2922780673760118"
            ]
          },
          "execution_count": 78,
          "metadata": {},
          "output_type": "execute_result"
        }
      ],
      "source": [
        "norm.pdf(z1)"
      ]
    },
    {
      "cell_type": "code",
      "execution_count": null,
      "metadata": {
        "colab": {
          "base_uri": "https://localhost:8080/"
        },
        "id": "FK9wEywryR9A",
        "outputId": "3a6566cb-1947-4d9c-dee0-6c1a8b43cb8c"
      },
      "outputs": [
        {
          "data": {
            "text/plain": [
              "-1.9720265943665387"
            ]
          },
          "execution_count": 71,
          "metadata": {},
          "output_type": "execute_result"
        }
      ],
      "source": [
        "z2=(85-90)/(15/np.sqrt(35))\n",
        "z2"
      ]
    },
    {
      "cell_type": "code",
      "execution_count": null,
      "metadata": {
        "colab": {
          "base_uri": "https://localhost:8080/"
        },
        "id": "KyNgHaqvyR6T",
        "outputId": "dc950ff9-cd2f-41d5-d346-620eb4caa8b5"
      },
      "outputs": [
        {
          "data": {
            "text/plain": [
              "0.02430328533671787"
            ]
          },
          "execution_count": 72,
          "metadata": {},
          "output_type": "execute_result"
        }
      ],
      "source": [
        "norm.cdf(z2)"
      ]
    },
    {
      "cell_type": "code",
      "execution_count": null,
      "metadata": {
        "colab": {
          "base_uri": "https://localhost:8080/"
        },
        "id": "MesFZmwz0AYM",
        "outputId": "b94615e2-41eb-435f-db81-ce4fbf4ccad8"
      },
      "outputs": [
        {
          "data": {
            "text/plain": [
              "0.00882603286648767"
            ]
          },
          "execution_count": 77,
          "metadata": {},
          "output_type": "execute_result"
        }
      ],
      "source": [
        "z3=z1-z2\n",
        "norm.pdf(z3)"
      ]
    },
    {
      "cell_type": "code",
      "execution_count": null,
      "metadata": {
        "colab": {
          "base_uri": "https://localhost:8080/"
        },
        "id": "XYYYWYaJ6tCt",
        "outputId": "26428543-6af3-4ed7-ef84-8cd6568b7940"
      },
      "outputs": [
        {
          "data": {
            "text/plain": [
              "0.025"
            ]
          },
          "execution_count": 101,
          "metadata": {},
          "output_type": "execute_result"
        }
      ],
      "source": [
        "2.5/100"
      ]
    },
    {
      "cell_type": "code",
      "execution_count": null,
      "metadata": {
        "colab": {
          "base_uri": "https://localhost:8080/"
        },
        "id": "fnx2SPjq4IDg",
        "outputId": "795fdd1b-4f8b-4acc-90e9-c77097eb11a7"
      },
      "outputs": [
        {
          "data": {
            "text/plain": [
              "-1.9599639845400545"
            ]
          },
          "execution_count": 102,
          "metadata": {},
          "output_type": "execute_result"
        }
      ],
      "source": [
        "z1= norm.ppf(0.025)\n",
        "z1"
      ]
    },
    {
      "cell_type": "code",
      "execution_count": null,
      "metadata": {
        "colab": {
          "base_uri": "https://localhost:8080/"
        },
        "id": "wmO0HQZ94Mxs",
        "outputId": "b463ef0f-b5d1-4ae8-ea5c-90a22328f7f0"
      },
      "outputs": [
        {
          "data": {
            "text/plain": [
              "1.959963984540054"
            ]
          },
          "execution_count": 103,
          "metadata": {},
          "output_type": "execute_result"
        }
      ],
      "source": [
        "z2=norm.ppf(1-0.025)\n",
        "z2"
      ]
    },
    {
      "cell_type": "code",
      "execution_count": null,
      "metadata": {
        "colab": {
          "base_uri": "https://localhost:8080/"
        },
        "id": "2FZapVpb4MuZ",
        "outputId": "0c368921-0ba3-4242-aa89-3e9d41597ebe"
      },
      "outputs": [
        {
          "data": {
            "text/plain": [
              "22.432028812367957"
            ]
          },
          "execution_count": 104,
          "metadata": {},
          "output_type": "execute_result"
        }
      ],
      "source": [
        "x1=24 + z1 * (8/np.sqrt(100))\n",
        "x1"
      ]
    },
    {
      "cell_type": "code",
      "execution_count": null,
      "metadata": {
        "colab": {
          "base_uri": "https://localhost:8080/"
        },
        "id": "_K6bTIQS4Mr3",
        "outputId": "783bfdf3-1841-4ee2-f3fd-da8a0585568c"
      },
      "outputs": [
        {
          "data": {
            "text/plain": [
              "25.567971187632043"
            ]
          },
          "execution_count": 105,
          "metadata": {},
          "output_type": "execute_result"
        }
      ],
      "source": [
        "x2=24 + z2 * (8/np.sqrt(100))\n",
        "x2"
      ]
    },
    {
      "cell_type": "code",
      "execution_count": null,
      "metadata": {
        "colab": {
          "base_uri": "https://localhost:8080/"
        },
        "id": "tpb-qVpc0tAU",
        "outputId": "cc963c3b-4204-45bc-a7ba-233e5037fb7f"
      },
      "outputs": [
        {
          "data": {
            "text/plain": [
              "0.3085375387259869"
            ]
          },
          "execution_count": 4,
          "metadata": {},
          "output_type": "execute_result"
        }
      ],
      "source": [
        "1-norm.cdf((65-60)/10)"
      ]
    },
    {
      "cell_type": "code",
      "execution_count": null,
      "metadata": {
        "colab": {
          "base_uri": "https://localhost:8080/"
        },
        "id": "dkjsToAr2OoD",
        "outputId": "3417b6ae-ad2f-4c3e-f78e-21b160c9a39f"
      },
      "outputs": [
        {
          "data": {
            "text/plain": [
              "-1.3263478740408408"
            ]
          },
          "execution_count": 9,
          "metadata": {},
          "output_type": "execute_result"
        }
      ],
      "source": [
        "z=1-norm.ppf(0.99)\n",
        "z"
      ]
    },
    {
      "cell_type": "code",
      "execution_count": null,
      "metadata": {
        "colab": {
          "base_uri": "https://localhost:8080/"
        },
        "id": "gQ6EyHJG2Vba",
        "outputId": "570814e8-c39d-4206-bc80-6f0fb4a4020b"
      },
      "outputs": [
        {
          "data": {
            "text/plain": [
              "47.34730425191832"
            ]
          },
          "execution_count": 10,
          "metadata": {},
          "output_type": "execute_result"
        }
      ],
      "source": [
        "x = (50+ (2*z))\n",
        "x"
      ]
    },
    {
      "cell_type": "code",
      "execution_count": null,
      "metadata": {
        "colab": {
          "base_uri": "https://localhost:8080/"
        },
        "id": "MAJr-4Gb4V7s",
        "outputId": "562d3a1f-1556-4052-9d88-dad59c70e3e6"
      },
      "outputs": [
        {
          "data": {
            "text/plain": [
              "1.2815515655446004"
            ]
          },
          "execution_count": 16,
          "metadata": {},
          "output_type": "execute_result"
        }
      ],
      "source": [
        "z=norm.ppf(1-0.10)\n",
        "z"
      ]
    },
    {
      "cell_type": "code",
      "execution_count": null,
      "metadata": {
        "colab": {
          "base_uri": "https://localhost:8080/"
        },
        "id": "z6IcDRy84V4N",
        "outputId": "35238892-4a39-443b-ee68-86ddec80395d"
      },
      "outputs": [
        {
          "data": {
            "text/plain": [
              "135.78832550863427"
            ]
          },
          "execution_count": 17,
          "metadata": {},
          "output_type": "execute_result"
        }
      ],
      "source": [
        "x = 119+ (z *13.1)\n",
        "x"
      ]
    },
    {
      "cell_type": "code",
      "execution_count": null,
      "metadata": {
        "colab": {
          "base_uri": "https://localhost:8080/"
        },
        "id": "0um4QUkV5M2K",
        "outputId": "afacfb0b-7737-46a9-8731-0c9720f561c7"
      },
      "outputs": [
        {
          "data": {
            "text/plain": [
              "1.2"
            ]
          },
          "execution_count": 21,
          "metadata": {},
          "output_type": "execute_result"
        }
      ],
      "source": [
        "(12/10)"
      ]
    },
    {
      "cell_type": "code",
      "execution_count": null,
      "metadata": {
        "colab": {
          "base_uri": "https://localhost:8080/"
        },
        "id": "7HD1z0Re77yj",
        "outputId": "68df3d55-a4c1-4d44-9de0-b75f66c5ad51"
      },
      "outputs": [
        {
          "data": {
            "text/plain": [
              "0.125"
            ]
          },
          "execution_count": 23,
          "metadata": {},
          "output_type": "execute_result"
        }
      ],
      "source": [
        "binom.pmf(k=1, n=1, p=1/8)"
      ]
    },
    {
      "cell_type": "code",
      "execution_count": null,
      "metadata": {
        "colab": {
          "base_uri": "https://localhost:8080/"
        },
        "id": "D4sLxGTp8JEI",
        "outputId": "d994b0fe-a031-4c5d-dc18-75e1b6c54543"
      },
      "outputs": [
        {
          "data": {
            "text/plain": [
              "1.0"
            ]
          },
          "execution_count": 27,
          "metadata": {},
          "output_type": "execute_result"
        }
      ],
      "source": [
        "binom.cdf(k=1, n=1, p=1/8)"
      ]
    },
    {
      "cell_type": "code",
      "execution_count": null,
      "metadata": {
        "colab": {
          "base_uri": "https://localhost:8080/"
        },
        "id": "sfmONskd9ZbQ",
        "outputId": "cb6c85d0-30c3-4eac-b83b-2dd958a79198"
      },
      "outputs": [
        {
          "data": {
            "text/plain": [
              "2.5"
            ]
          },
          "execution_count": 36,
          "metadata": {},
          "output_type": "execute_result"
        }
      ],
      "source": [
        "mu=5/2\n",
        "mu"
      ]
    },
    {
      "cell_type": "code",
      "execution_count": null,
      "metadata": {
        "colab": {
          "base_uri": "https://localhost:8080/"
        },
        "id": "mHqrXt579-LG",
        "outputId": "dfd5ad39-e245-441c-df59-840269659a7e"
      },
      "outputs": [
        {
          "name": "stderr",
          "output_type": "stream",
          "text": [
            "<ipython-input-32-d31c756ec046>:1: RuntimeWarning: invalid value encountered in sqrt\n",
            "  (np.sqrt(1-mu) +np.sqrt(2-mu)+np.sqrt(3+mu)+np.sqrt(4+mu))/np.sqrt(4)\n"
          ]
        },
        {
          "data": {
            "text/plain": [
              "nan"
            ]
          },
          "execution_count": 32,
          "metadata": {},
          "output_type": "execute_result"
        }
      ],
      "source": [
        "(np.sqrt(1-mu) +np.sqrt(2-mu)+np.sqrt(3+mu)+np.sqrt(4+mu))/np.sqrt(4)"
      ]
    },
    {
      "cell_type": "code",
      "execution_count": null,
      "metadata": {
        "colab": {
          "base_uri": "https://localhost:8080/"
        },
        "id": "4S80zO5t_ZrL",
        "outputId": "b877410d-5349-48ab-8c81-456da12dfce8"
      },
      "outputs": [
        {
          "data": {
            "text/plain": [
              "0.25"
            ]
          },
          "execution_count": 35,
          "metadata": {},
          "output_type": "execute_result"
        }
      ],
      "source": [
        "1/4"
      ]
    },
    {
      "cell_type": "code",
      "execution_count": null,
      "metadata": {
        "colab": {
          "base_uri": "https://localhost:8080/"
        },
        "id": "Vxeb2rK9AO5F",
        "outputId": "8e4dda3a-e5ff-4ed1-ef77-4a78bb628797"
      },
      "outputs": [
        {
          "data": {
            "text/plain": [
              "-4.987369392383787"
            ]
          },
          "execution_count": 38,
          "metadata": {},
          "output_type": "execute_result"
        }
      ],
      "source": [
        "1-((19/20)**10) *10"
      ]
    },
    {
      "cell_type": "code",
      "execution_count": null,
      "metadata": {
        "id": "1-vXUlxHCHhp"
      },
      "outputs": [],
      "source": [
        "t1=((1/7)**3) * 7"
      ]
    },
    {
      "cell_type": "code",
      "execution_count": null,
      "metadata": {
        "id": "sW8R2NsjCLpA"
      },
      "outputs": [],
      "source": [
        "t2=((6/7)**3) * 7"
      ]
    },
    {
      "cell_type": "code",
      "execution_count": null,
      "metadata": {
        "colab": {
          "base_uri": "https://localhost:8080/"
        },
        "id": "zz5IehUbCU3v",
        "outputId": "0c2b070d-4a2b-4091-9f6b-c59d1b110a3a"
      },
      "outputs": [
        {
          "data": {
            "text/plain": [
              "4.428571428571428"
            ]
          },
          "execution_count": 47,
          "metadata": {},
          "output_type": "execute_result"
        }
      ],
      "source": [
        "t1+t2"
      ]
    },
    {
      "cell_type": "code",
      "execution_count": null,
      "metadata": {
        "colab": {
          "base_uri": "https://localhost:8080/"
        },
        "id": "SmDxv1WzC4es",
        "outputId": "19f0d26e-f3df-4087-941b-61ae29d6ff94"
      },
      "outputs": [
        {
          "data": {
            "text/plain": [
              "1.0"
            ]
          },
          "execution_count": 48,
          "metadata": {},
          "output_type": "execute_result"
        }
      ],
      "source": [
        "1/7 + 6/7"
      ]
    },
    {
      "cell_type": "code",
      "execution_count": null,
      "metadata": {
        "colab": {
          "base_uri": "https://localhost:8080/"
        },
        "id": "_08wf7GDD2jU",
        "outputId": "5988b01b-9b95-4562-ef68-8da613c91f95"
      },
      "outputs": [
        {
          "data": {
            "text/plain": [
              "0.14436434635625667"
            ]
          },
          "execution_count": 49,
          "metadata": {},
          "output_type": "execute_result"
        }
      ],
      "source": [
        "binom.pmf(k=10, n=40, p=0.25)"
      ]
    },
    {
      "cell_type": "code",
      "execution_count": null,
      "metadata": {
        "colab": {
          "base_uri": "https://localhost:8080/"
        },
        "id": "GYt6fkmqESls",
        "outputId": "78fdc23f-84d9-4ca9-aa67-aa0b93f4a65a"
      },
      "outputs": [
        {
          "data": {
            "text/plain": [
              "0.0"
            ]
          },
          "execution_count": 51,
          "metadata": {},
          "output_type": "execute_result"
        }
      ],
      "source": [
        "binom.pmf(k=6, n=4, p=0.4)"
      ]
    },
    {
      "cell_type": "code",
      "execution_count": null,
      "metadata": {
        "colab": {
          "base_uri": "https://localhost:8080/"
        },
        "id": "st8Euc3WEShC",
        "outputId": "59d0d68e-b2b3-4eae-ad8c-8d0fc502656a"
      },
      "outputs": [
        {
          "data": {
            "text/plain": [
              "0.9962839325427525"
            ]
          },
          "execution_count": 52,
          "metadata": {},
          "output_type": "execute_result"
        }
      ],
      "source": [
        "binom.cdf(k=4, n=10, p=0.12)"
      ]
    },
    {
      "cell_type": "code",
      "execution_count": null,
      "metadata": {
        "id": "-9R61zCJGNsF"
      },
      "outputs": [],
      "source": []
    },
    {
      "cell_type": "code",
      "execution_count": null,
      "metadata": {
        "id": "R-fCnPwEESbX"
      },
      "outputs": [],
      "source": []
    }
  ],
  "metadata": {
    "colab": {
      "provenance": [],
      "authorship_tag": "ABX9TyPyKNfKY9qHySBnzKUSvgCm",
      "include_colab_link": true
    },
    "kernelspec": {
      "display_name": "Python 3",
      "name": "python3"
    },
    "language_info": {
      "name": "python"
    }
  },
  "nbformat": 4,
  "nbformat_minor": 0
}